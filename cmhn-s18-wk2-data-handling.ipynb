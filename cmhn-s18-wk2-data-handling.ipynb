{
 "cells": [
  {
   "cell_type": "markdown",
   "metadata": {},
   "source": [
    "# Loading fMRI Data Files into Python \n",
    "\n",
    "For this script we will use a localizer dataset from [Kim et al. (2017)](http://www.jneurosci.org/content/early/2017/01/23/JNEUROSCI.3272-16.2017). For the localizer, subjects were shown faces, scenes and objects in 3 different runs.\n",
    "\n",
    "### Goal of this script\n",
    "Using this script you will learn to load the fMRI data into python, plot a timeseries for a voxel, and Z-score the data -- an important normalization step for machine learning. General fMRI preprocessing, such as motion correction and temporal detrending, is also important, but has already been applied to these data. You will also learn to use Bokeh, a package for plotting, that will help you explore your data.\n"
   ]
  },
  {
   "cell_type": "markdown",
   "metadata": {},
   "source": [
    "### Import necessary packages.\n",
    "The following packages will be used:\n",
    "            1. nibabel: Read  fMRI data into python arrays.  \n",
    "            2. numpy: Perform numerical operations in python. \n",
    "            3. scipy: Scientific computing methods.  \n",
    "            4. nilearn: Used to extract masked fMRI data from a Nifti file.\n",
    "            5. sklearn: Machine Learning methods.  \n",
    "            6. bokeh: Plotting library.  "
   ]
  },
  {
   "cell_type": "code",
   "execution_count": 1,
   "metadata": {
    "collapsed": false
   },
   "outputs": [
    {
     "data": {
      "text/html": [
       "\n",
       "    <div class=\"bk-root\">\n",
       "        <a href=\"http://bokeh.pydata.org\" target=\"_blank\" class=\"bk-logo bk-logo-small bk-logo-notebook\"></a>\n",
       "        <span id=\"70486a0d-efc0-4a97-98fa-83c9b36ac9e2\">Loading BokehJS ...</span>\n",
       "    </div>"
      ]
     },
     "metadata": {},
     "output_type": "display_data"
    },
    {
     "data": {
      "application/javascript": [
       "\n",
       "(function(global) {\n",
       "  function now() {\n",
       "    return new Date();\n",
       "  }\n",
       "\n",
       "  if (typeof (window._bokeh_onload_callbacks) === \"undefined\") {\n",
       "    window._bokeh_onload_callbacks = [];\n",
       "  }\n",
       "\n",
       "  function run_callbacks() {\n",
       "    window._bokeh_onload_callbacks.forEach(function(callback) { callback() });\n",
       "    delete window._bokeh_onload_callbacks\n",
       "    console.info(\"Bokeh: all callbacks have finished\");\n",
       "  }\n",
       "\n",
       "  function load_libs(js_urls, callback) {\n",
       "    window._bokeh_onload_callbacks.push(callback);\n",
       "    if (window._bokeh_is_loading > 0) {\n",
       "      console.log(\"Bokeh: BokehJS is being loaded, scheduling callback at\", now());\n",
       "      return null;\n",
       "    }\n",
       "    if (js_urls == null || js_urls.length === 0) {\n",
       "      run_callbacks();\n",
       "      return null;\n",
       "    }\n",
       "    console.log(\"Bokeh: BokehJS not loaded, scheduling load and callback at\", now());\n",
       "    window._bokeh_is_loading = js_urls.length;\n",
       "    for (var i = 0; i < js_urls.length; i++) {\n",
       "      var url = js_urls[i];\n",
       "      var s = document.createElement('script');\n",
       "      s.src = url;\n",
       "      s.async = false;\n",
       "      s.onreadystatechange = s.onload = function() {\n",
       "        window._bokeh_is_loading--;\n",
       "        if (window._bokeh_is_loading === 0) {\n",
       "          console.log(\"Bokeh: all BokehJS libraries loaded\");\n",
       "          run_callbacks()\n",
       "        }\n",
       "      };\n",
       "      s.onerror = function() {\n",
       "        console.warn(\"failed to load library \" + url);\n",
       "      };\n",
       "      console.log(\"Bokeh: injecting script tag for BokehJS library: \", url);\n",
       "      document.getElementsByTagName(\"head\")[0].appendChild(s);\n",
       "    }\n",
       "  };\n",
       "\n",
       "  var js_urls = ['https://cdn.pydata.org/bokeh/release/bokeh-0.12.0.min.js', 'https://cdn.pydata.org/bokeh/release/bokeh-widgets-0.12.0.min.js', 'https://cdn.pydata.org/bokeh/release/bokeh-compiler-0.12.0.min.js'];\n",
       "\n",
       "  var inline_js = [\n",
       "    function(Bokeh) {\n",
       "      Bokeh.set_log_level(\"info\");\n",
       "    },\n",
       "    \n",
       "    function(Bokeh) {\n",
       "      Bokeh.$(\"#70486a0d-efc0-4a97-98fa-83c9b36ac9e2\").text(\"BokehJS successfully loaded\");\n",
       "    },\n",
       "    function(Bokeh) {\n",
       "      console.log(\"Bokeh: injecting CSS: https://cdn.pydata.org/bokeh/release/bokeh-0.12.0.min.css\");\n",
       "      Bokeh.embed.inject_css(\"https://cdn.pydata.org/bokeh/release/bokeh-0.12.0.min.css\");\n",
       "      console.log(\"Bokeh: injecting CSS: https://cdn.pydata.org/bokeh/release/bokeh-widgets-0.12.0.min.css\");\n",
       "      Bokeh.embed.inject_css(\"https://cdn.pydata.org/bokeh/release/bokeh-widgets-0.12.0.min.css\");\n",
       "    }\n",
       "  ];\n",
       "\n",
       "  function run_inline_js() {\n",
       "    for (var i = 0; i < inline_js.length; i++) {\n",
       "      inline_js[i](window.Bokeh);\n",
       "    }\n",
       "  }\n",
       "\n",
       "  if (window._bokeh_is_loading === 0) {\n",
       "    console.log(\"Bokeh: BokehJS loaded, going straight to plotting\");\n",
       "    run_inline_js();\n",
       "  } else {\n",
       "    load_libs(js_urls, function() {\n",
       "      console.log(\"Bokeh: BokehJS plotting callback run at\", now());\n",
       "      run_inline_js();\n",
       "    });\n",
       "  }\n",
       "}(this));"
      ]
     },
     "metadata": {},
     "output_type": "display_data"
    }
   ],
   "source": [
    "import nibabel as nib\n",
    "import numpy as np\n",
    "from nilearn.input_data import NiftiMasker,  MultiNiftiMasker\n",
    "import scipy.io\n",
    "from scipy import stats\n",
    "from bokeh.io import push_notebook, show, output_notebook\n",
    "from bokeh.plotting import figure\n",
    "from bokeh.models import ColumnDataSource\n",
    "from sklearn import preprocessing\n",
    "\n",
    "output_notebook()"
   ]
  },
  {
   "cell_type": "markdown",
   "metadata": {},
   "source": [
    "**Exercise:** Describe the difference in functionality between 'import numpy' and 'from numpy import zeros':\n",
    "\n",
    "\"import numpy\" imports all numpy modules and functions. By contrast, \"from numpy import zeros\" imports only the \"zeros\" function. Other modules would have to be loaded separately.\n"
   ]
  },
  {
   "cell_type": "markdown",
   "metadata": {},
   "source": [
    "### Load in timing files\n",
    "\n",
    "The first way we are going to examine this dataset, heretofore referred to as the \"vdc\" dataset, is by looking at the timing of events in the experiment. The labels for each run of the experiment are stored in the localizer matlab file (e.g., sub-01_localizer_01.mat). We will read and plot the data that show which stimulus was presented at what time during the experiment. The columns in the data represent time in the experiment."
   ]
  },
  {
   "cell_type": "markdown",
   "metadata": {},
   "source": [
    "**Self-study:** Navigate through the folder that contains these data (defined in 'dir' below) to get an understanding of the file structure. Open up the files and look at their contents. Be an explorer!"
   ]
  },
  {
   "cell_type": "markdown",
   "metadata": {},
   "source": [
    "**Exercise:** How big is the dataset in terms of number of subjects and total file size?\n",
    "\n",
    "From looking at the directory named below, there are 32 subjects (in folders named sub-01 to sub-32). Running a \"du\" Unix command in that directory shows that the toal file size is 98,380,800 KB, or 98.4 GB.\n"
   ]
  },
  {
   "cell_type": "code",
   "execution_count": 2,
   "metadata": {
    "collapsed": false
   },
   "outputs": [
    {
     "name": "stdout",
     "output_type": "stream",
     "text": [
      "Data Loading Completed\n"
     ]
    }
   ],
   "source": [
    "dir = '/gpfs/milgram/data/cmhn-s18/datasets/vdc/'\n",
    "sub = 'sub-01';\n",
    "stim_label = [];\n",
    "stim_label_allruns = [];\n",
    "for run in range(1,4):\n",
    "    in_file= (dir + sub + '/ses-day2/design_matrix/' + \"%s_localizer_0%d.mat\" % (sub, run))\n",
    " \n",
    "    # Load in data from matlab\n",
    "    stim_label = scipy.io.loadmat(in_file);\n",
    "    stim_label = np.array(stim_label['data']);\n",
    "    \n",
    "    # Store the data\n",
    "    if run == 1:\n",
    "             stim_label_allruns = stim_label;\n",
    "    else:       \n",
    "             stim_label_allruns = np.hstack((stim_label_allruns, stim_label))\n",
    "\n",
    "print(\"Data Loading Completed\")"
   ]
  },
  {
   "cell_type": "markdown",
   "metadata": {},
   "source": [
    "### Data File Description\n",
    "The localizer consists of 3 runs with 5 blocks for each category. In the matlab stimulus file that we just loaded there is a bunch of information. Each row contains a different type of information (e.g., stimulus type, reaction time, etc.) and each column represents a different trial. \n",
    "\n",
    "Of most importance to us, the first row has the stimulus labels for the localizer runs; whereas the third row contains the time in seconds when the stimulus was presented (relative to the start of each run). The data were loaded in such that the three runs were concatenated in time.\n",
    "\n",
    "The stimulus labels and their corresponding categories are as follows:  \n",
    "1= Faces  \n",
    "2= Scenes  \n",
    "3= Objects  \n",
    "\n",
    "### Let's plot the stimulus presentation for one run.\n",
    "\n",
    "We prep the data for plotting. First we set different colors for each stimulus type. We also assign category labels for each time-point (e.g., 'Faces'). The plotting package Bokeh uses the ColumnDataSource format for easy color, label, and legend management for the figure."
   ]
  },
  {
   "cell_type": "code",
   "execution_count": 3,
   "metadata": {
    "collapsed": false
   },
   "outputs": [],
   "source": [
    "# Create a dictionary with a key and a code \n",
    "colormap = {1: \"red\",2: \"green\", 3: 'blue'}\n",
    "label_key = {1: \"Faces\", 2: \"Scenes\", 3: \"Objects\"}\n",
    "\n",
    "# Cycle through each trial to determine the appropriate label\n",
    "final_color=[]\n",
    "final_label_list=[]\n",
    "for x in (stim_label_allruns[0, :]):\n",
    "    lab=(int(x))\n",
    "    colors = colormap[lab] \n",
    "    labs_list = label_key[lab]\n",
    "    final_color = np.hstack((final_color, colors))\n",
    "    final_label_list= np.hstack((final_label_list, labs_list))"
   ]
  },
  {
   "cell_type": "markdown",
   "metadata": {},
   "source": [
    "**Self-study:** Don't know what a dictionary is? Look it up!\n"
   ]
  },
  {
   "cell_type": "markdown",
   "metadata": {},
   "source": [
    "**Exercise:** Loops are bad and should be avoided whenever possible. Try rewrite this code without a loop."
   ]
  },
  {
   "cell_type": "code",
   "execution_count": 4,
   "metadata": {
    "collapsed": false
   },
   "outputs": [],
   "source": [
    "lab = (stim_label_allruns[0,:])\n",
    "lab = lab.astype(int)\n",
    "\n",
    "def getInd(ind, dic):\n",
    "    return dic[ind]\n",
    "vecGetInd = np.vectorize(getInd)\n",
    "\n",
    "final_colors = vecGetInd(lab, colormap)\n",
    "final_labs_list = vecGetInd(lab, label_key)"
   ]
  },
  {
   "cell_type": "code",
   "execution_count": 5,
   "metadata": {
    "collapsed": false
   },
   "outputs": [],
   "source": [
    "# Define the mapping between the keys and the values\n",
    "data_key = dict(x = stim_label_allruns[2, 0:150],\n",
    "                y = stim_label_allruns[0, 0:150],\n",
    "                color = final_color[0:150],\n",
    "                labels = final_label_list[0:150])\n",
    "source = ColumnDataSource(data_key)"
   ]
  },
  {
   "cell_type": "code",
   "execution_count": 6,
   "metadata": {
    "collapsed": false,
    "scrolled": true
   },
   "outputs": [
    {
     "data": {
      "text/html": [
       "\n",
       "\n",
       "    <div class=\"bk-root\">\n",
       "        <div class=\"plotdiv\" id=\"2add7e03-1729-4a91-9b78-1a85ee8129c9\"></div>\n",
       "    </div>\n",
       "<script type=\"text/javascript\">\n",
       "  \n",
       "  (function(global) {\n",
       "    function now() {\n",
       "      return new Date();\n",
       "    }\n",
       "  \n",
       "    if (typeof (window._bokeh_onload_callbacks) === \"undefined\") {\n",
       "      window._bokeh_onload_callbacks = [];\n",
       "    }\n",
       "  \n",
       "    function run_callbacks() {\n",
       "      window._bokeh_onload_callbacks.forEach(function(callback) { callback() });\n",
       "      delete window._bokeh_onload_callbacks\n",
       "      console.info(\"Bokeh: all callbacks have finished\");\n",
       "    }\n",
       "  \n",
       "    function load_libs(js_urls, callback) {\n",
       "      window._bokeh_onload_callbacks.push(callback);\n",
       "      if (window._bokeh_is_loading > 0) {\n",
       "        console.log(\"Bokeh: BokehJS is being loaded, scheduling callback at\", now());\n",
       "        return null;\n",
       "      }\n",
       "      if (js_urls == null || js_urls.length === 0) {\n",
       "        run_callbacks();\n",
       "        return null;\n",
       "      }\n",
       "      console.log(\"Bokeh: BokehJS not loaded, scheduling load and callback at\", now());\n",
       "      window._bokeh_is_loading = js_urls.length;\n",
       "      for (var i = 0; i < js_urls.length; i++) {\n",
       "        var url = js_urls[i];\n",
       "        var s = document.createElement('script');\n",
       "        s.src = url;\n",
       "        s.async = false;\n",
       "        s.onreadystatechange = s.onload = function() {\n",
       "          window._bokeh_is_loading--;\n",
       "          if (window._bokeh_is_loading === 0) {\n",
       "            console.log(\"Bokeh: all BokehJS libraries loaded\");\n",
       "            run_callbacks()\n",
       "          }\n",
       "        };\n",
       "        s.onerror = function() {\n",
       "          console.warn(\"failed to load library \" + url);\n",
       "        };\n",
       "        console.log(\"Bokeh: injecting script tag for BokehJS library: \", url);\n",
       "        document.getElementsByTagName(\"head\")[0].appendChild(s);\n",
       "      }\n",
       "    };var element = document.getElementById(\"2add7e03-1729-4a91-9b78-1a85ee8129c9\");\n",
       "    if (element == null) {\n",
       "      console.log(\"Bokeh: ERROR: autoload.js configured with elementid '2add7e03-1729-4a91-9b78-1a85ee8129c9' but no matching script tag was found. \")\n",
       "      return false;\n",
       "    }\n",
       "  \n",
       "    var js_urls = [];\n",
       "  \n",
       "    var inline_js = [\n",
       "      function(Bokeh) {\n",
       "        Bokeh.$(function() {\n",
       "            var docs_json = {\"7c868e9d-a10a-4f13-8964-ea92554db505\":{\"roots\":{\"references\":[{\"attributes\":{\"dimension\":1,\"plot\":{\"id\":\"c67ee541-1583-47e3-9d18-0b69a9e44227\",\"subtype\":\"Figure\",\"type\":\"Plot\"},\"ticker\":{\"id\":\"72f58717-a3a5-4bd4-a60e-583bfe4d767d\",\"type\":\"BasicTicker\"}},\"id\":\"5b8f9cfe-5254-4a1a-b3ea-493f1fdaed9d\",\"type\":\"Grid\"},{\"attributes\":{},\"id\":\"72f58717-a3a5-4bd4-a60e-583bfe4d767d\",\"type\":\"BasicTicker\"},{\"attributes\":{\"callback\":null},\"id\":\"85209251-c351-4627-8399-6aa9b674f6ee\",\"type\":\"DataRange1d\"},{\"attributes\":{\"active_drag\":\"auto\",\"active_scroll\":\"auto\",\"active_tap\":\"auto\",\"tools\":[{\"id\":\"2366ff91-632b-4237-a165-9f44dad4d733\",\"type\":\"PanTool\"},{\"id\":\"a880ac35-062c-497e-a2c5-9176b8525672\",\"type\":\"WheelZoomTool\"},{\"id\":\"8a21519d-51b5-4e3a-88f1-c9b7da68c0d5\",\"type\":\"BoxZoomTool\"},{\"id\":\"4083967b-d110-4e5d-8626-f98683f6b0d3\",\"type\":\"SaveTool\"},{\"id\":\"9bb046c2-aa2c-4041-8334-2a4c34cc6519\",\"type\":\"ResetTool\"},{\"id\":\"c4e430dd-e045-4efe-b9b0-12d55dab354b\",\"type\":\"HelpTool\"}]},\"id\":\"db8ee699-1260-4c03-a47e-035d2812bc18\",\"type\":\"Toolbar\"},{\"attributes\":{\"fill_alpha\":{\"value\":0.1},\"fill_color\":{\"value\":\"#1f77b4\"},\"line_alpha\":{\"value\":0.1},\"line_color\":{\"value\":\"#1f77b4\"},\"size\":{\"units\":\"screen\",\"value\":10},\"x\":{\"field\":\"x\"},\"y\":{\"field\":\"y\"}},\"id\":\"cb4641fc-75da-41a2-aed0-c7a709b77355\",\"type\":\"Circle\"},{\"attributes\":{\"callback\":null,\"column_names\":[\"y\",\"x\"],\"data\":{\"x\":[12.0,13.5,15.0,16.5,18.0,19.5,21.0,22.5,24.0,25.5,42.0,43.5,45.0,46.5,48.0,49.5,51.0,52.5,54.0,55.5,72.0,73.5,75.0,76.5,78.0,79.5,81.0,82.5,84.0,85.5,102.0,103.5,105.0,106.5,108.0,109.5,111.0,112.5,114.0,115.5,132.0,133.5,135.0,136.5,138.0,139.5,141.0,142.5,144.0,145.5,162.0,163.5,165.0,166.5,168.0,169.5,171.0,172.5,174.0,175.5,192.0,193.5,195.0,196.5,198.0,199.5,201.0,202.5,204.0,205.5,222.0,223.5,225.0,226.5,228.0,229.5,231.0,232.5,234.0,235.5,252.0,253.5,255.0,256.5,258.0,259.5,261.0,262.5,264.0,265.5,282.0,283.5,285.0,286.5,288.0,289.5,291.0,292.5,294.0,295.5,312.0,313.5,315.0,316.5,318.0,319.5,321.0,322.5,324.0,325.5,342.0,343.5,345.0,346.5,348.0,349.5,351.0,352.5,354.0,355.5,372.0,373.5,375.0,376.5,378.0,379.5,381.0,382.5,384.0,385.5,402.0,403.5,405.0,406.5,408.0,409.5,411.0,412.5,414.0,415.5,432.0,433.5,435.0,436.5,438.0,439.5,441.0,442.5,444.0,445.5],\"y\":[2.0,2.0,2.0,2.0,2.0,2.0,2.0,2.0,2.0,2.0,2.0,2.0,2.0,2.0,2.0,2.0,2.0,2.0,2.0,2.0,2.0,2.0,2.0,2.0,2.0,2.0,2.0,2.0,2.0,2.0,3.0,3.0,3.0,3.0,3.0,3.0,3.0,3.0,3.0,3.0,1.0,1.0,1.0,1.0,1.0,1.0,1.0,1.0,1.0,1.0,1.0,1.0,1.0,1.0,1.0,1.0,1.0,1.0,1.0,1.0,3.0,3.0,3.0,3.0,3.0,3.0,3.0,3.0,3.0,3.0,1.0,1.0,1.0,1.0,1.0,1.0,1.0,1.0,1.0,1.0,3.0,3.0,3.0,3.0,3.0,3.0,3.0,3.0,3.0,3.0,1.0,1.0,1.0,1.0,1.0,1.0,1.0,1.0,1.0,1.0,3.0,3.0,3.0,3.0,3.0,3.0,3.0,3.0,3.0,3.0,2.0,2.0,2.0,2.0,2.0,2.0,2.0,2.0,2.0,2.0,1.0,1.0,1.0,1.0,1.0,1.0,1.0,1.0,1.0,1.0,3.0,3.0,3.0,3.0,3.0,3.0,3.0,3.0,3.0,3.0,2.0,2.0,2.0,2.0,2.0,2.0,2.0,2.0,2.0,2.0]}},\"id\":\"11143155-4c47-4303-a82c-5273746b8dd3\",\"type\":\"ColumnDataSource\"},{\"attributes\":{\"overlay\":{\"id\":\"ab6648b5-2a82-4d54-9547-2f9915f4cf6c\",\"type\":\"BoxAnnotation\"},\"plot\":{\"id\":\"c67ee541-1583-47e3-9d18-0b69a9e44227\",\"subtype\":\"Figure\",\"type\":\"Plot\"}},\"id\":\"8a21519d-51b5-4e3a-88f1-c9b7da68c0d5\",\"type\":\"BoxZoomTool\"},{\"attributes\":{\"plot\":{\"id\":\"c67ee541-1583-47e3-9d18-0b69a9e44227\",\"subtype\":\"Figure\",\"type\":\"Plot\"}},\"id\":\"2366ff91-632b-4237-a165-9f44dad4d733\",\"type\":\"PanTool\"},{\"attributes\":{\"plot\":{\"id\":\"c67ee541-1583-47e3-9d18-0b69a9e44227\",\"subtype\":\"Figure\",\"type\":\"Plot\"},\"ticker\":{\"id\":\"6c35c9d6-c316-44e7-9bab-12866600aed4\",\"type\":\"BasicTicker\"}},\"id\":\"93126b88-9d80-40d9-a628-7adeb5177814\",\"type\":\"Grid\"},{\"attributes\":{\"plot\":{\"id\":\"c67ee541-1583-47e3-9d18-0b69a9e44227\",\"subtype\":\"Figure\",\"type\":\"Plot\"}},\"id\":\"c4e430dd-e045-4efe-b9b0-12d55dab354b\",\"type\":\"HelpTool\"},{\"attributes\":{},\"id\":\"fab5174f-0587-4ac4-affe-7c6a2842972f\",\"type\":\"ToolEvents\"},{\"attributes\":{},\"id\":\"3ff5b5b8-b45e-4db3-b591-5f4ac83ee878\",\"type\":\"BasicTickFormatter\"},{\"attributes\":{\"fill_color\":{\"field\":\"color\"},\"line_color\":{\"field\":\"color\"},\"size\":{\"units\":\"screen\",\"value\":10},\"x\":{\"field\":\"x\"},\"y\":{\"field\":\"y\"}},\"id\":\"d09fa7a6-9816-4cbc-b0b0-48c9eab4b64a\",\"type\":\"Circle\"},{\"attributes\":{\"plot\":{\"id\":\"c67ee541-1583-47e3-9d18-0b69a9e44227\",\"subtype\":\"Figure\",\"type\":\"Plot\"}},\"id\":\"4083967b-d110-4e5d-8626-f98683f6b0d3\",\"type\":\"SaveTool\"},{\"attributes\":{\"legends\":[[\"labels\",[{\"id\":\"46f2e0bc-dcba-4904-bdac-5ce30c67925c\",\"type\":\"GlyphRenderer\"}]]],\"location\":\"bottom_left\",\"plot\":{\"id\":\"c67ee541-1583-47e3-9d18-0b69a9e44227\",\"subtype\":\"Figure\",\"type\":\"Plot\"}},\"id\":\"8c2b301b-b678-442d-b4e0-86fd8a7106d3\",\"type\":\"Legend\"},{\"attributes\":{\"line_color\":{\"value\":\"#1f77b4\"},\"x\":{\"field\":\"x\"},\"y\":{\"field\":\"y\"}},\"id\":\"6ed29cb3-138d-42a4-9c2b-bd96b9c4c48d\",\"type\":\"Line\"},{\"attributes\":{\"callback\":null},\"id\":\"f8f6ad18-0017-4609-b9eb-433a723a7426\",\"type\":\"DataRange1d\"},{\"attributes\":{\"data_source\":{\"id\":\"11143155-4c47-4303-a82c-5273746b8dd3\",\"type\":\"ColumnDataSource\"},\"glyph\":{\"id\":\"6ed29cb3-138d-42a4-9c2b-bd96b9c4c48d\",\"type\":\"Line\"},\"hover_glyph\":null,\"nonselection_glyph\":{\"id\":\"d8f03c58-9d84-468b-af04-68fd6a691989\",\"type\":\"Line\"},\"selection_glyph\":null},\"id\":\"772df123-f9ce-4625-946a-f66323a616d4\",\"type\":\"GlyphRenderer\"},{\"attributes\":{},\"id\":\"d5241ea1-5716-4f96-a15f-dd86ea818c18\",\"type\":\"BasicTickFormatter\"},{\"attributes\":{\"below\":[{\"id\":\"d5f9f522-73a4-461a-adeb-00da716134df\",\"type\":\"LinearAxis\"}],\"left\":[{\"id\":\"ce918637-ab8a-485b-ade5-d08963dc3544\",\"type\":\"LinearAxis\"}],\"renderers\":[{\"id\":\"d5f9f522-73a4-461a-adeb-00da716134df\",\"type\":\"LinearAxis\"},{\"id\":\"93126b88-9d80-40d9-a628-7adeb5177814\",\"type\":\"Grid\"},{\"id\":\"ce918637-ab8a-485b-ade5-d08963dc3544\",\"type\":\"LinearAxis\"},{\"id\":\"5b8f9cfe-5254-4a1a-b3ea-493f1fdaed9d\",\"type\":\"Grid\"},{\"id\":\"ab6648b5-2a82-4d54-9547-2f9915f4cf6c\",\"type\":\"BoxAnnotation\"},{\"id\":\"8c2b301b-b678-442d-b4e0-86fd8a7106d3\",\"type\":\"Legend\"},{\"id\":\"46f2e0bc-dcba-4904-bdac-5ce30c67925c\",\"type\":\"GlyphRenderer\"},{\"id\":\"772df123-f9ce-4625-946a-f66323a616d4\",\"type\":\"GlyphRenderer\"}],\"title\":{\"id\":\"b1a906aa-e280-49fe-8bca-d00b73c1bffe\",\"type\":\"Title\"},\"tool_events\":{\"id\":\"fab5174f-0587-4ac4-affe-7c6a2842972f\",\"type\":\"ToolEvents\"},\"toolbar\":{\"id\":\"db8ee699-1260-4c03-a47e-035d2812bc18\",\"type\":\"Toolbar\"},\"x_range\":{\"id\":\"85209251-c351-4627-8399-6aa9b674f6ee\",\"type\":\"DataRange1d\"},\"y_range\":{\"id\":\"f8f6ad18-0017-4609-b9eb-433a723a7426\",\"type\":\"DataRange1d\"}},\"id\":\"c67ee541-1583-47e3-9d18-0b69a9e44227\",\"subtype\":\"Figure\",\"type\":\"Plot\"},{\"attributes\":{\"axis_label\":\"Stimulus Label\",\"formatter\":{\"id\":\"d5241ea1-5716-4f96-a15f-dd86ea818c18\",\"type\":\"BasicTickFormatter\"},\"plot\":{\"id\":\"c67ee541-1583-47e3-9d18-0b69a9e44227\",\"subtype\":\"Figure\",\"type\":\"Plot\"},\"ticker\":{\"id\":\"72f58717-a3a5-4bd4-a60e-583bfe4d767d\",\"type\":\"BasicTicker\"}},\"id\":\"ce918637-ab8a-485b-ade5-d08963dc3544\",\"type\":\"LinearAxis\"},{\"attributes\":{\"callback\":null,\"column_names\":[\"color\",\"y\",\"x\",\"labels\"],\"data\":{\"color\":[\"green\",\"green\",\"green\",\"green\",\"green\",\"green\",\"green\",\"green\",\"green\",\"green\",\"green\",\"green\",\"green\",\"green\",\"green\",\"green\",\"green\",\"green\",\"green\",\"green\",\"green\",\"green\",\"green\",\"green\",\"green\",\"green\",\"green\",\"green\",\"green\",\"green\",\"blue\",\"blue\",\"blue\",\"blue\",\"blue\",\"blue\",\"blue\",\"blue\",\"blue\",\"blue\",\"red\",\"red\",\"red\",\"red\",\"red\",\"red\",\"red\",\"red\",\"red\",\"red\",\"red\",\"red\",\"red\",\"red\",\"red\",\"red\",\"red\",\"red\",\"red\",\"red\",\"blue\",\"blue\",\"blue\",\"blue\",\"blue\",\"blue\",\"blue\",\"blue\",\"blue\",\"blue\",\"red\",\"red\",\"red\",\"red\",\"red\",\"red\",\"red\",\"red\",\"red\",\"red\",\"blue\",\"blue\",\"blue\",\"blue\",\"blue\",\"blue\",\"blue\",\"blue\",\"blue\",\"blue\",\"red\",\"red\",\"red\",\"red\",\"red\",\"red\",\"red\",\"red\",\"red\",\"red\",\"blue\",\"blue\",\"blue\",\"blue\",\"blue\",\"blue\",\"blue\",\"blue\",\"blue\",\"blue\",\"green\",\"green\",\"green\",\"green\",\"green\",\"green\",\"green\",\"green\",\"green\",\"green\",\"red\",\"red\",\"red\",\"red\",\"red\",\"red\",\"red\",\"red\",\"red\",\"red\",\"blue\",\"blue\",\"blue\",\"blue\",\"blue\",\"blue\",\"blue\",\"blue\",\"blue\",\"blue\",\"green\",\"green\",\"green\",\"green\",\"green\",\"green\",\"green\",\"green\",\"green\",\"green\"],\"labels\":[\"Scenes\",\"Scenes\",\"Scenes\",\"Scenes\",\"Scenes\",\"Scenes\",\"Scenes\",\"Scenes\",\"Scenes\",\"Scenes\",\"Scenes\",\"Scenes\",\"Scenes\",\"Scenes\",\"Scenes\",\"Scenes\",\"Scenes\",\"Scenes\",\"Scenes\",\"Scenes\",\"Scenes\",\"Scenes\",\"Scenes\",\"Scenes\",\"Scenes\",\"Scenes\",\"Scenes\",\"Scenes\",\"Scenes\",\"Scenes\",\"Objects\",\"Objects\",\"Objects\",\"Objects\",\"Objects\",\"Objects\",\"Objects\",\"Objects\",\"Objects\",\"Objects\",\"Faces\",\"Faces\",\"Faces\",\"Faces\",\"Faces\",\"Faces\",\"Faces\",\"Faces\",\"Faces\",\"Faces\",\"Faces\",\"Faces\",\"Faces\",\"Faces\",\"Faces\",\"Faces\",\"Faces\",\"Faces\",\"Faces\",\"Faces\",\"Objects\",\"Objects\",\"Objects\",\"Objects\",\"Objects\",\"Objects\",\"Objects\",\"Objects\",\"Objects\",\"Objects\",\"Faces\",\"Faces\",\"Faces\",\"Faces\",\"Faces\",\"Faces\",\"Faces\",\"Faces\",\"Faces\",\"Faces\",\"Objects\",\"Objects\",\"Objects\",\"Objects\",\"Objects\",\"Objects\",\"Objects\",\"Objects\",\"Objects\",\"Objects\",\"Faces\",\"Faces\",\"Faces\",\"Faces\",\"Faces\",\"Faces\",\"Faces\",\"Faces\",\"Faces\",\"Faces\",\"Objects\",\"Objects\",\"Objects\",\"Objects\",\"Objects\",\"Objects\",\"Objects\",\"Objects\",\"Objects\",\"Objects\",\"Scenes\",\"Scenes\",\"Scenes\",\"Scenes\",\"Scenes\",\"Scenes\",\"Scenes\",\"Scenes\",\"Scenes\",\"Scenes\",\"Faces\",\"Faces\",\"Faces\",\"Faces\",\"Faces\",\"Faces\",\"Faces\",\"Faces\",\"Faces\",\"Faces\",\"Objects\",\"Objects\",\"Objects\",\"Objects\",\"Objects\",\"Objects\",\"Objects\",\"Objects\",\"Objects\",\"Objects\",\"Scenes\",\"Scenes\",\"Scenes\",\"Scenes\",\"Scenes\",\"Scenes\",\"Scenes\",\"Scenes\",\"Scenes\",\"Scenes\"],\"x\":[12.0,13.5,15.0,16.5,18.0,19.5,21.0,22.5,24.0,25.5,42.0,43.5,45.0,46.5,48.0,49.5,51.0,52.5,54.0,55.5,72.0,73.5,75.0,76.5,78.0,79.5,81.0,82.5,84.0,85.5,102.0,103.5,105.0,106.5,108.0,109.5,111.0,112.5,114.0,115.5,132.0,133.5,135.0,136.5,138.0,139.5,141.0,142.5,144.0,145.5,162.0,163.5,165.0,166.5,168.0,169.5,171.0,172.5,174.0,175.5,192.0,193.5,195.0,196.5,198.0,199.5,201.0,202.5,204.0,205.5,222.0,223.5,225.0,226.5,228.0,229.5,231.0,232.5,234.0,235.5,252.0,253.5,255.0,256.5,258.0,259.5,261.0,262.5,264.0,265.5,282.0,283.5,285.0,286.5,288.0,289.5,291.0,292.5,294.0,295.5,312.0,313.5,315.0,316.5,318.0,319.5,321.0,322.5,324.0,325.5,342.0,343.5,345.0,346.5,348.0,349.5,351.0,352.5,354.0,355.5,372.0,373.5,375.0,376.5,378.0,379.5,381.0,382.5,384.0,385.5,402.0,403.5,405.0,406.5,408.0,409.5,411.0,412.5,414.0,415.5,432.0,433.5,435.0,436.5,438.0,439.5,441.0,442.5,444.0,445.5],\"y\":[2.0,2.0,2.0,2.0,2.0,2.0,2.0,2.0,2.0,2.0,2.0,2.0,2.0,2.0,2.0,2.0,2.0,2.0,2.0,2.0,2.0,2.0,2.0,2.0,2.0,2.0,2.0,2.0,2.0,2.0,3.0,3.0,3.0,3.0,3.0,3.0,3.0,3.0,3.0,3.0,1.0,1.0,1.0,1.0,1.0,1.0,1.0,1.0,1.0,1.0,1.0,1.0,1.0,1.0,1.0,1.0,1.0,1.0,1.0,1.0,3.0,3.0,3.0,3.0,3.0,3.0,3.0,3.0,3.0,3.0,1.0,1.0,1.0,1.0,1.0,1.0,1.0,1.0,1.0,1.0,3.0,3.0,3.0,3.0,3.0,3.0,3.0,3.0,3.0,3.0,1.0,1.0,1.0,1.0,1.0,1.0,1.0,1.0,1.0,1.0,3.0,3.0,3.0,3.0,3.0,3.0,3.0,3.0,3.0,3.0,2.0,2.0,2.0,2.0,2.0,2.0,2.0,2.0,2.0,2.0,1.0,1.0,1.0,1.0,1.0,1.0,1.0,1.0,1.0,1.0,3.0,3.0,3.0,3.0,3.0,3.0,3.0,3.0,3.0,3.0,2.0,2.0,2.0,2.0,2.0,2.0,2.0,2.0,2.0,2.0]}},\"id\":\"9e582933-249c-4fb8-ad63-040d3253bab2\",\"type\":\"ColumnDataSource\"},{\"attributes\":{\"plot\":{\"id\":\"c67ee541-1583-47e3-9d18-0b69a9e44227\",\"subtype\":\"Figure\",\"type\":\"Plot\"}},\"id\":\"9bb046c2-aa2c-4041-8334-2a4c34cc6519\",\"type\":\"ResetTool\"},{\"attributes\":{\"data_source\":{\"id\":\"9e582933-249c-4fb8-ad63-040d3253bab2\",\"type\":\"ColumnDataSource\"},\"glyph\":{\"id\":\"d09fa7a6-9816-4cbc-b0b0-48c9eab4b64a\",\"type\":\"Circle\"},\"hover_glyph\":null,\"nonselection_glyph\":{\"id\":\"cb4641fc-75da-41a2-aed0-c7a709b77355\",\"type\":\"Circle\"},\"selection_glyph\":null},\"id\":\"46f2e0bc-dcba-4904-bdac-5ce30c67925c\",\"type\":\"GlyphRenderer\"},{\"attributes\":{},\"id\":\"6c35c9d6-c316-44e7-9bab-12866600aed4\",\"type\":\"BasicTicker\"},{\"attributes\":{\"plot\":null,\"text\":\"Stimulus Presentation for Run 1\"},\"id\":\"b1a906aa-e280-49fe-8bca-d00b73c1bffe\",\"type\":\"Title\"},{\"attributes\":{\"plot\":{\"id\":\"c67ee541-1583-47e3-9d18-0b69a9e44227\",\"subtype\":\"Figure\",\"type\":\"Plot\"}},\"id\":\"a880ac35-062c-497e-a2c5-9176b8525672\",\"type\":\"WheelZoomTool\"},{\"attributes\":{\"line_alpha\":{\"value\":0.1},\"line_color\":{\"value\":\"#1f77b4\"},\"x\":{\"field\":\"x\"},\"y\":{\"field\":\"y\"}},\"id\":\"d8f03c58-9d84-468b-af04-68fd6a691989\",\"type\":\"Line\"},{\"attributes\":{\"bottom_units\":\"screen\",\"fill_alpha\":{\"value\":0.5},\"fill_color\":{\"value\":\"lightgrey\"},\"left_units\":\"screen\",\"level\":\"overlay\",\"line_alpha\":{\"value\":1.0},\"line_color\":{\"value\":\"black\"},\"line_dash\":[4,4],\"line_width\":{\"value\":2},\"plot\":null,\"render_mode\":\"css\",\"right_units\":\"screen\",\"top_units\":\"screen\"},\"id\":\"ab6648b5-2a82-4d54-9547-2f9915f4cf6c\",\"type\":\"BoxAnnotation\"},{\"attributes\":{\"axis_label\":\"Time (seconds)\",\"formatter\":{\"id\":\"3ff5b5b8-b45e-4db3-b591-5f4ac83ee878\",\"type\":\"BasicTickFormatter\"},\"plot\":{\"id\":\"c67ee541-1583-47e3-9d18-0b69a9e44227\",\"subtype\":\"Figure\",\"type\":\"Plot\"},\"ticker\":{\"id\":\"6c35c9d6-c316-44e7-9bab-12866600aed4\",\"type\":\"BasicTicker\"}},\"id\":\"d5f9f522-73a4-461a-adeb-00da716134df\",\"type\":\"LinearAxis\"}],\"root_ids\":[\"c67ee541-1583-47e3-9d18-0b69a9e44227\"]},\"title\":\"Bokeh Application\",\"version\":\"0.12.0\"}};\n",
       "            var render_items = [{\"docid\":\"7c868e9d-a10a-4f13-8964-ea92554db505\",\"elementid\":\"2add7e03-1729-4a91-9b78-1a85ee8129c9\",\"modelid\":\"c67ee541-1583-47e3-9d18-0b69a9e44227\",\"notebook_comms_target\":\"0195c638-357f-4600-8671-5a86e577edff\"}];\n",
       "            \n",
       "            Bokeh.embed.embed_items(docs_json, render_items);\n",
       "        });\n",
       "      },\n",
       "      function(Bokeh) {\n",
       "      }\n",
       "    ];\n",
       "  \n",
       "    function run_inline_js() {\n",
       "      for (var i = 0; i < inline_js.length; i++) {\n",
       "        inline_js[i](window.Bokeh);\n",
       "      }\n",
       "    }\n",
       "  \n",
       "    if (window._bokeh_is_loading === 0) {\n",
       "      console.log(\"Bokeh: BokehJS loaded, going straight to plotting\");\n",
       "      run_inline_js();\n",
       "    } else {\n",
       "      load_libs(js_urls, function() {\n",
       "        console.log(\"Bokeh: BokehJS plotting callback run at\", now());\n",
       "        run_inline_js();\n",
       "      });\n",
       "    }\n",
       "  }(this));\n",
       "</script>"
      ]
     },
     "metadata": {},
     "output_type": "display_data"
    },
    {
     "data": {
      "text/html": [
       "<p><code>&lt;Bokeh Notebook handle for <strong>In[6]</strong>&gt;</code></p>"
      ],
      "text/plain": [
       "<bokeh.io._CommsHandle at 0x2ace91e06eb8>"
      ]
     },
     "execution_count": 6,
     "metadata": {},
     "output_type": "execute_result"
    }
   ],
   "source": [
    "# Now we plot the data using Bokeh.\n",
    "p = figure(title=\"Stimulus Presentation for Run 1\")\n",
    "p.circle(x='x', \n",
    "         y='y', \n",
    "         size=10, \n",
    "         color='color', \n",
    "         legend = 'labels',  \n",
    "         source=source)\n",
    "p.line(x = stim_label_allruns[2,0:150],\n",
    "       y = stim_label_allruns[0,0:150],\n",
    "      )\n",
    "p.xaxis.axis_label = 'Time (seconds)'\n",
    "p.yaxis.axis_label = 'Stimulus Label'\n",
    "p.legend.location= \"bottom_left\"\n",
    "show(p)"
   ]
  },
  {
   "cell_type": "markdown",
   "metadata": {},
   "source": [
    "**Exercise:** Look up how to save this plot to your repo on the cluster and do so. It will become part of your submission.\n",
    "\n",
    "**Exercise:** Plot the stimulus presentation for runs 2 and 3 for this subject.\n",
    "\n",
    "**Exercise:** How many stimuli were presented in each block?\n",
    "\n",
    "In each run, there were 15 blocks (as can be seen by the number of distinct stretches in the figure). There are 150 labels given per block. 150/15 = 10, so there are 10 stimuli per block.\n",
    "\n",
    "**Exercise:** Is the stimulus presented in the same order for all the three runs?\n",
    "\n",
    "No, we can see from the figures that the order of colors (ie classes) is different in each run, presumably randomized."
   ]
  },
  {
   "cell_type": "code",
   "execution_count": 7,
   "metadata": {
    "collapsed": false
   },
   "outputs": [
    {
     "data": {
      "text/html": [
       "\n",
       "\n",
       "    <div class=\"bk-root\">\n",
       "        <div class=\"plotdiv\" id=\"59e0af2d-1d0d-4a82-beb5-b0c10ba0a55e\"></div>\n",
       "    </div>\n",
       "<script type=\"text/javascript\">\n",
       "  \n",
       "  (function(global) {\n",
       "    function now() {\n",
       "      return new Date();\n",
       "    }\n",
       "  \n",
       "    if (typeof (window._bokeh_onload_callbacks) === \"undefined\") {\n",
       "      window._bokeh_onload_callbacks = [];\n",
       "    }\n",
       "  \n",
       "    function run_callbacks() {\n",
       "      window._bokeh_onload_callbacks.forEach(function(callback) { callback() });\n",
       "      delete window._bokeh_onload_callbacks\n",
       "      console.info(\"Bokeh: all callbacks have finished\");\n",
       "    }\n",
       "  \n",
       "    function load_libs(js_urls, callback) {\n",
       "      window._bokeh_onload_callbacks.push(callback);\n",
       "      if (window._bokeh_is_loading > 0) {\n",
       "        console.log(\"Bokeh: BokehJS is being loaded, scheduling callback at\", now());\n",
       "        return null;\n",
       "      }\n",
       "      if (js_urls == null || js_urls.length === 0) {\n",
       "        run_callbacks();\n",
       "        return null;\n",
       "      }\n",
       "      console.log(\"Bokeh: BokehJS not loaded, scheduling load and callback at\", now());\n",
       "      window._bokeh_is_loading = js_urls.length;\n",
       "      for (var i = 0; i < js_urls.length; i++) {\n",
       "        var url = js_urls[i];\n",
       "        var s = document.createElement('script');\n",
       "        s.src = url;\n",
       "        s.async = false;\n",
       "        s.onreadystatechange = s.onload = function() {\n",
       "          window._bokeh_is_loading--;\n",
       "          if (window._bokeh_is_loading === 0) {\n",
       "            console.log(\"Bokeh: all BokehJS libraries loaded\");\n",
       "            run_callbacks()\n",
       "          }\n",
       "        };\n",
       "        s.onerror = function() {\n",
       "          console.warn(\"failed to load library \" + url);\n",
       "        };\n",
       "        console.log(\"Bokeh: injecting script tag for BokehJS library: \", url);\n",
       "        document.getElementsByTagName(\"head\")[0].appendChild(s);\n",
       "      }\n",
       "    };var element = document.getElementById(\"59e0af2d-1d0d-4a82-beb5-b0c10ba0a55e\");\n",
       "    if (element == null) {\n",
       "      console.log(\"Bokeh: ERROR: autoload.js configured with elementid '59e0af2d-1d0d-4a82-beb5-b0c10ba0a55e' but no matching script tag was found. \")\n",
       "      return false;\n",
       "    }\n",
       "  \n",
       "    var js_urls = [];\n",
       "  \n",
       "    var inline_js = [\n",
       "      function(Bokeh) {\n",
       "        Bokeh.$(function() {\n",
       "            var docs_json = {\"fdc26cdd-5563-49a1-91e1-7ca8c23e6c52\":{\"roots\":{\"references\":[{\"attributes\":{\"plot\":{\"id\":\"e2f5d704-67e9-4447-b96d-ad12dc0f84fd\",\"subtype\":\"Figure\",\"type\":\"Plot\"}},\"id\":\"d70d7084-ac26-4eb0-b7f4-ae03a184c360\",\"type\":\"HelpTool\"},{\"attributes\":{\"line_alpha\":{\"value\":0.1},\"line_color\":{\"value\":\"#1f77b4\"},\"x\":{\"field\":\"x\"},\"y\":{\"field\":\"y\"}},\"id\":\"9cae68f6-af2f-4b28-ab74-20b2afc42a08\",\"type\":\"Line\"},{\"attributes\":{\"active_drag\":\"auto\",\"active_scroll\":\"auto\",\"active_tap\":\"auto\",\"tools\":[{\"id\":\"c6e3bc85-7544-4928-8705-53565b47cd9b\",\"type\":\"PanTool\"},{\"id\":\"63e59c63-bb6f-4590-bf29-a92639f2ccd5\",\"type\":\"WheelZoomTool\"},{\"id\":\"d70d4998-5cab-4672-8f0a-7a9ed0b9378f\",\"type\":\"BoxZoomTool\"},{\"id\":\"dbf8efe9-4083-4e83-b7cc-c3ff26717218\",\"type\":\"SaveTool\"},{\"id\":\"408965bd-0654-4335-bc93-8108590aaf0a\",\"type\":\"ResetTool\"},{\"id\":\"d70d7084-ac26-4eb0-b7f4-ae03a184c360\",\"type\":\"HelpTool\"}]},\"id\":\"2e57137e-2d1b-45eb-a983-16c8250c69bb\",\"type\":\"Toolbar\"},{\"attributes\":{\"legends\":[[\"labels\",[{\"id\":\"90ccd07b-47b7-4596-b697-9db2e3038e61\",\"type\":\"GlyphRenderer\"}]]],\"location\":\"bottom_left\",\"plot\":{\"id\":\"e2f5d704-67e9-4447-b96d-ad12dc0f84fd\",\"subtype\":\"Figure\",\"type\":\"Plot\"}},\"id\":\"23461da6-a0a6-4ecd-8ba7-4e9dfc912de3\",\"type\":\"Legend\"},{\"attributes\":{\"plot\":{\"id\":\"e2f5d704-67e9-4447-b96d-ad12dc0f84fd\",\"subtype\":\"Figure\",\"type\":\"Plot\"}},\"id\":\"63e59c63-bb6f-4590-bf29-a92639f2ccd5\",\"type\":\"WheelZoomTool\"},{\"attributes\":{},\"id\":\"91807ecc-dc80-4b82-a64f-aeafd5db0027\",\"type\":\"ToolEvents\"},{\"attributes\":{\"dimension\":1,\"plot\":{\"id\":\"e2f5d704-67e9-4447-b96d-ad12dc0f84fd\",\"subtype\":\"Figure\",\"type\":\"Plot\"},\"ticker\":{\"id\":\"0fa2c578-a67e-45e0-bf53-35ae6260393f\",\"type\":\"BasicTicker\"}},\"id\":\"c378da30-2c1b-4b71-9b37-b6c284ff2761\",\"type\":\"Grid\"},{\"attributes\":{\"axis_label\":\"Stimulus Label\",\"formatter\":{\"id\":\"4adba4b7-6c2f-4836-9aab-f0429d664972\",\"type\":\"BasicTickFormatter\"},\"plot\":{\"id\":\"e2f5d704-67e9-4447-b96d-ad12dc0f84fd\",\"subtype\":\"Figure\",\"type\":\"Plot\"},\"ticker\":{\"id\":\"0fa2c578-a67e-45e0-bf53-35ae6260393f\",\"type\":\"BasicTicker\"}},\"id\":\"ac57ea91-cf55-4d85-a562-83020c4fc003\",\"type\":\"LinearAxis\"},{\"attributes\":{\"plot\":{\"id\":\"e2f5d704-67e9-4447-b96d-ad12dc0f84fd\",\"subtype\":\"Figure\",\"type\":\"Plot\"}},\"id\":\"408965bd-0654-4335-bc93-8108590aaf0a\",\"type\":\"ResetTool\"},{\"attributes\":{\"plot\":{\"id\":\"e2f5d704-67e9-4447-b96d-ad12dc0f84fd\",\"subtype\":\"Figure\",\"type\":\"Plot\"}},\"id\":\"dbf8efe9-4083-4e83-b7cc-c3ff26717218\",\"type\":\"SaveTool\"},{\"attributes\":{\"fill_color\":{\"field\":\"color\"},\"line_color\":{\"field\":\"color\"},\"size\":{\"units\":\"screen\",\"value\":10},\"x\":{\"field\":\"x\"},\"y\":{\"field\":\"y\"}},\"id\":\"a6437d36-246d-4ee4-a675-948f11e9dbec\",\"type\":\"Circle\"},{\"attributes\":{\"callback\":null},\"id\":\"b441bb01-efa1-4d53-87a3-67716b475ab1\",\"type\":\"DataRange1d\"},{\"attributes\":{\"plot\":null,\"text\":\"Stimulus Presentation for Run 2\"},\"id\":\"d1928cf3-7fc1-43cd-8c7d-31c1a975d135\",\"type\":\"Title\"},{\"attributes\":{\"callback\":null},\"id\":\"b6e10dae-3545-48b0-a4f1-518defaaf6f1\",\"type\":\"DataRange1d\"},{\"attributes\":{\"below\":[{\"id\":\"c0c5f9f1-6677-4fc6-8d8f-a769f78cd2b5\",\"type\":\"LinearAxis\"}],\"left\":[{\"id\":\"ac57ea91-cf55-4d85-a562-83020c4fc003\",\"type\":\"LinearAxis\"}],\"renderers\":[{\"id\":\"c0c5f9f1-6677-4fc6-8d8f-a769f78cd2b5\",\"type\":\"LinearAxis\"},{\"id\":\"63f27824-9e78-45a1-b637-86ed9b46d29e\",\"type\":\"Grid\"},{\"id\":\"ac57ea91-cf55-4d85-a562-83020c4fc003\",\"type\":\"LinearAxis\"},{\"id\":\"c378da30-2c1b-4b71-9b37-b6c284ff2761\",\"type\":\"Grid\"},{\"id\":\"c24a3b90-64fb-4eab-8867-6cf2864927a0\",\"type\":\"BoxAnnotation\"},{\"id\":\"23461da6-a0a6-4ecd-8ba7-4e9dfc912de3\",\"type\":\"Legend\"},{\"id\":\"90ccd07b-47b7-4596-b697-9db2e3038e61\",\"type\":\"GlyphRenderer\"},{\"id\":\"87c541fc-3b8b-4292-8969-e1f3a2969501\",\"type\":\"GlyphRenderer\"}],\"title\":{\"id\":\"d1928cf3-7fc1-43cd-8c7d-31c1a975d135\",\"type\":\"Title\"},\"tool_events\":{\"id\":\"91807ecc-dc80-4b82-a64f-aeafd5db0027\",\"type\":\"ToolEvents\"},\"toolbar\":{\"id\":\"2e57137e-2d1b-45eb-a983-16c8250c69bb\",\"type\":\"Toolbar\"},\"x_range\":{\"id\":\"b6e10dae-3545-48b0-a4f1-518defaaf6f1\",\"type\":\"DataRange1d\"},\"y_range\":{\"id\":\"b441bb01-efa1-4d53-87a3-67716b475ab1\",\"type\":\"DataRange1d\"}},\"id\":\"e2f5d704-67e9-4447-b96d-ad12dc0f84fd\",\"subtype\":\"Figure\",\"type\":\"Plot\"},{\"attributes\":{\"callback\":null,\"column_names\":[\"color\",\"y\",\"x\",\"labels\"],\"data\":{\"color\":[\"green\",\"green\",\"green\",\"green\",\"green\",\"green\",\"green\",\"green\",\"green\",\"green\",\"green\",\"green\",\"green\",\"green\",\"green\",\"green\",\"green\",\"green\",\"green\",\"blue\",\"blue\",\"blue\",\"blue\",\"blue\",\"blue\",\"blue\",\"blue\",\"blue\",\"blue\",\"red\",\"red\",\"red\",\"red\",\"red\",\"red\",\"red\",\"red\",\"red\",\"red\",\"blue\",\"blue\",\"blue\",\"blue\",\"blue\",\"blue\",\"blue\",\"blue\",\"blue\",\"blue\",\"red\",\"red\",\"red\",\"red\",\"red\",\"red\",\"red\",\"red\",\"red\",\"red\",\"blue\",\"blue\",\"blue\",\"blue\",\"blue\",\"blue\",\"blue\",\"blue\",\"blue\",\"blue\",\"red\",\"red\",\"red\",\"red\",\"red\",\"red\",\"red\",\"red\",\"red\",\"red\",\"blue\",\"blue\",\"blue\",\"blue\",\"blue\",\"blue\",\"blue\",\"blue\",\"blue\",\"blue\",\"green\",\"green\",\"green\",\"green\",\"green\",\"green\",\"green\",\"green\",\"green\",\"green\",\"blue\",\"blue\",\"blue\",\"blue\",\"blue\",\"blue\",\"blue\",\"blue\",\"blue\",\"blue\",\"green\",\"green\",\"green\",\"green\",\"green\",\"green\",\"green\",\"green\",\"green\",\"green\",\"red\",\"red\",\"red\",\"red\",\"red\",\"red\",\"red\",\"red\",\"red\",\"red\",\"red\",\"red\",\"red\",\"red\",\"red\",\"red\",\"red\",\"red\",\"red\",\"red\",\"green\",\"green\",\"green\",\"green\",\"green\",\"green\",\"green\",\"green\",\"green\",\"green\"],\"labels\":[\"Scenes\",\"Scenes\",\"Scenes\",\"Scenes\",\"Scenes\",\"Scenes\",\"Scenes\",\"Scenes\",\"Scenes\",\"Scenes\",\"Scenes\",\"Scenes\",\"Scenes\",\"Scenes\",\"Scenes\",\"Scenes\",\"Scenes\",\"Scenes\",\"Scenes\",\"Objects\",\"Objects\",\"Objects\",\"Objects\",\"Objects\",\"Objects\",\"Objects\",\"Objects\",\"Objects\",\"Objects\",\"Faces\",\"Faces\",\"Faces\",\"Faces\",\"Faces\",\"Faces\",\"Faces\",\"Faces\",\"Faces\",\"Faces\",\"Objects\",\"Objects\",\"Objects\",\"Objects\",\"Objects\",\"Objects\",\"Objects\",\"Objects\",\"Objects\",\"Objects\",\"Faces\",\"Faces\",\"Faces\",\"Faces\",\"Faces\",\"Faces\",\"Faces\",\"Faces\",\"Faces\",\"Faces\",\"Objects\",\"Objects\",\"Objects\",\"Objects\",\"Objects\",\"Objects\",\"Objects\",\"Objects\",\"Objects\",\"Objects\",\"Faces\",\"Faces\",\"Faces\",\"Faces\",\"Faces\",\"Faces\",\"Faces\",\"Faces\",\"Faces\",\"Faces\",\"Objects\",\"Objects\",\"Objects\",\"Objects\",\"Objects\",\"Objects\",\"Objects\",\"Objects\",\"Objects\",\"Objects\",\"Scenes\",\"Scenes\",\"Scenes\",\"Scenes\",\"Scenes\",\"Scenes\",\"Scenes\",\"Scenes\",\"Scenes\",\"Scenes\",\"Objects\",\"Objects\",\"Objects\",\"Objects\",\"Objects\",\"Objects\",\"Objects\",\"Objects\",\"Objects\",\"Objects\",\"Scenes\",\"Scenes\",\"Scenes\",\"Scenes\",\"Scenes\",\"Scenes\",\"Scenes\",\"Scenes\",\"Scenes\",\"Scenes\",\"Faces\",\"Faces\",\"Faces\",\"Faces\",\"Faces\",\"Faces\",\"Faces\",\"Faces\",\"Faces\",\"Faces\",\"Faces\",\"Faces\",\"Faces\",\"Faces\",\"Faces\",\"Faces\",\"Faces\",\"Faces\",\"Faces\",\"Faces\",\"Scenes\",\"Scenes\",\"Scenes\",\"Scenes\",\"Scenes\",\"Scenes\",\"Scenes\",\"Scenes\",\"Scenes\",\"Scenes\"],\"x\":[13.5,15.0,16.5,18.0,19.5,21.0,22.5,24.0,25.5,42.0,43.5,45.0,46.5,48.0,49.5,51.0,52.5,54.0,55.5,72.0,73.5,75.0,76.5,78.0,79.5,81.0,82.5,84.0,85.5,102.0,103.5,105.0,106.5,108.0,109.5,111.0,112.5,114.0,115.5,132.0,133.5,135.0,136.5,138.0,139.5,141.0,142.5,144.0,145.5,162.0,163.5,165.0,166.5,168.0,169.5,171.0,172.5,174.0,175.5,192.0,193.5,195.0,196.5,198.0,199.5,201.0,202.5,204.0,205.5,222.0,223.5,225.0,226.5,228.0,229.5,231.0,232.5,234.0,235.5,252.0,253.5,255.0,256.5,258.0,259.5,261.0,262.5,264.0,265.5,282.0,283.5,285.0,286.5,288.0,289.5,291.0,292.5,294.0,295.5,312.0,313.5,315.0,316.5,318.0,319.5,321.0,322.5,324.0,325.5,342.0,343.5,345.0,346.5,348.0,349.5,351.0,352.5,354.0,355.5,372.0,373.5,375.0,376.5,378.0,379.5,381.0,382.5,384.0,385.5,402.0,403.5,405.0,406.5,408.0,409.5,411.0,412.5,414.0,415.5,432.0,433.5,435.0,436.5,438.0,439.5,441.0,442.5,444.0,445.5],\"y\":[2.0,2.0,2.0,2.0,2.0,2.0,2.0,2.0,2.0,2.0,2.0,2.0,2.0,2.0,2.0,2.0,2.0,2.0,2.0,3.0,3.0,3.0,3.0,3.0,3.0,3.0,3.0,3.0,3.0,1.0,1.0,1.0,1.0,1.0,1.0,1.0,1.0,1.0,1.0,3.0,3.0,3.0,3.0,3.0,3.0,3.0,3.0,3.0,3.0,1.0,1.0,1.0,1.0,1.0,1.0,1.0,1.0,1.0,1.0,3.0,3.0,3.0,3.0,3.0,3.0,3.0,3.0,3.0,3.0,1.0,1.0,1.0,1.0,1.0,1.0,1.0,1.0,1.0,1.0,3.0,3.0,3.0,3.0,3.0,3.0,3.0,3.0,3.0,3.0,2.0,2.0,2.0,2.0,2.0,2.0,2.0,2.0,2.0,2.0,3.0,3.0,3.0,3.0,3.0,3.0,3.0,3.0,3.0,3.0,2.0,2.0,2.0,2.0,2.0,2.0,2.0,2.0,2.0,2.0,1.0,1.0,1.0,1.0,1.0,1.0,1.0,1.0,1.0,1.0,1.0,1.0,1.0,1.0,1.0,1.0,1.0,1.0,1.0,1.0,2.0,2.0,2.0,2.0,2.0,2.0,2.0,2.0,2.0,2.0]}},\"id\":\"bc91e5d2-3c7b-47ae-967a-b548d79b5f16\",\"type\":\"ColumnDataSource\"},{\"attributes\":{},\"id\":\"4adba4b7-6c2f-4836-9aab-f0429d664972\",\"type\":\"BasicTickFormatter\"},{\"attributes\":{\"bottom_units\":\"screen\",\"fill_alpha\":{\"value\":0.5},\"fill_color\":{\"value\":\"lightgrey\"},\"left_units\":\"screen\",\"level\":\"overlay\",\"line_alpha\":{\"value\":1.0},\"line_color\":{\"value\":\"black\"},\"line_dash\":[4,4],\"line_width\":{\"value\":2},\"plot\":null,\"render_mode\":\"css\",\"right_units\":\"screen\",\"top_units\":\"screen\"},\"id\":\"c24a3b90-64fb-4eab-8867-6cf2864927a0\",\"type\":\"BoxAnnotation\"},{\"attributes\":{\"plot\":{\"id\":\"e2f5d704-67e9-4447-b96d-ad12dc0f84fd\",\"subtype\":\"Figure\",\"type\":\"Plot\"}},\"id\":\"c6e3bc85-7544-4928-8705-53565b47cd9b\",\"type\":\"PanTool\"},{\"attributes\":{\"data_source\":{\"id\":\"fca2e69c-ee32-49c8-9322-3257b889d722\",\"type\":\"ColumnDataSource\"},\"glyph\":{\"id\":\"c61624eb-04f8-4993-b6b1-2d62cb76085f\",\"type\":\"Line\"},\"hover_glyph\":null,\"nonselection_glyph\":{\"id\":\"9cae68f6-af2f-4b28-ab74-20b2afc42a08\",\"type\":\"Line\"},\"selection_glyph\":null},\"id\":\"87c541fc-3b8b-4292-8969-e1f3a2969501\",\"type\":\"GlyphRenderer\"},{\"attributes\":{\"fill_alpha\":{\"value\":0.1},\"fill_color\":{\"value\":\"#1f77b4\"},\"line_alpha\":{\"value\":0.1},\"line_color\":{\"value\":\"#1f77b4\"},\"size\":{\"units\":\"screen\",\"value\":10},\"x\":{\"field\":\"x\"},\"y\":{\"field\":\"y\"}},\"id\":\"72ee5763-59d3-4fa9-90c4-33c7c792f77d\",\"type\":\"Circle\"},{\"attributes\":{\"data_source\":{\"id\":\"bc91e5d2-3c7b-47ae-967a-b548d79b5f16\",\"type\":\"ColumnDataSource\"},\"glyph\":{\"id\":\"a6437d36-246d-4ee4-a675-948f11e9dbec\",\"type\":\"Circle\"},\"hover_glyph\":null,\"nonselection_glyph\":{\"id\":\"72ee5763-59d3-4fa9-90c4-33c7c792f77d\",\"type\":\"Circle\"},\"selection_glyph\":null},\"id\":\"90ccd07b-47b7-4596-b697-9db2e3038e61\",\"type\":\"GlyphRenderer\"},{\"attributes\":{\"overlay\":{\"id\":\"c24a3b90-64fb-4eab-8867-6cf2864927a0\",\"type\":\"BoxAnnotation\"},\"plot\":{\"id\":\"e2f5d704-67e9-4447-b96d-ad12dc0f84fd\",\"subtype\":\"Figure\",\"type\":\"Plot\"}},\"id\":\"d70d4998-5cab-4672-8f0a-7a9ed0b9378f\",\"type\":\"BoxZoomTool\"},{\"attributes\":{\"callback\":null,\"column_names\":[\"y\",\"x\"],\"data\":{\"x\":[13.5,15.0,16.5,18.0,19.5,21.0,22.5,24.0,25.5,42.0,43.5,45.0,46.5,48.0,49.5,51.0,52.5,54.0,55.5,72.0,73.5,75.0,76.5,78.0,79.5,81.0,82.5,84.0,85.5,102.0,103.5,105.0,106.5,108.0,109.5,111.0,112.5,114.0,115.5,132.0,133.5,135.0,136.5,138.0,139.5,141.0,142.5,144.0,145.5,162.0,163.5,165.0,166.5,168.0,169.5,171.0,172.5,174.0,175.5,192.0,193.5,195.0,196.5,198.0,199.5,201.0,202.5,204.0,205.5,222.0,223.5,225.0,226.5,228.0,229.5,231.0,232.5,234.0,235.5,252.0,253.5,255.0,256.5,258.0,259.5,261.0,262.5,264.0,265.5,282.0,283.5,285.0,286.5,288.0,289.5,291.0,292.5,294.0,295.5,312.0,313.5,315.0,316.5,318.0,319.5,321.0,322.5,324.0,325.5,342.0,343.5,345.0,346.5,348.0,349.5,351.0,352.5,354.0,355.5,372.0,373.5,375.0,376.5,378.0,379.5,381.0,382.5,384.0,385.5,402.0,403.5,405.0,406.5,408.0,409.5,411.0,412.5,414.0,415.5,432.0,433.5,435.0,436.5,438.0,439.5,441.0,442.5,444.0,445.5],\"y\":[2.0,2.0,2.0,2.0,2.0,2.0,2.0,2.0,2.0,2.0,2.0,2.0,2.0,2.0,2.0,2.0,2.0,2.0,2.0,3.0,3.0,3.0,3.0,3.0,3.0,3.0,3.0,3.0,3.0,1.0,1.0,1.0,1.0,1.0,1.0,1.0,1.0,1.0,1.0,3.0,3.0,3.0,3.0,3.0,3.0,3.0,3.0,3.0,3.0,1.0,1.0,1.0,1.0,1.0,1.0,1.0,1.0,1.0,1.0,3.0,3.0,3.0,3.0,3.0,3.0,3.0,3.0,3.0,3.0,1.0,1.0,1.0,1.0,1.0,1.0,1.0,1.0,1.0,1.0,3.0,3.0,3.0,3.0,3.0,3.0,3.0,3.0,3.0,3.0,2.0,2.0,2.0,2.0,2.0,2.0,2.0,2.0,2.0,2.0,3.0,3.0,3.0,3.0,3.0,3.0,3.0,3.0,3.0,3.0,2.0,2.0,2.0,2.0,2.0,2.0,2.0,2.0,2.0,2.0,1.0,1.0,1.0,1.0,1.0,1.0,1.0,1.0,1.0,1.0,1.0,1.0,1.0,1.0,1.0,1.0,1.0,1.0,1.0,1.0,2.0,2.0,2.0,2.0,2.0,2.0,2.0,2.0,2.0,2.0]}},\"id\":\"fca2e69c-ee32-49c8-9322-3257b889d722\",\"type\":\"ColumnDataSource\"},{\"attributes\":{\"axis_label\":\"Time (seconds)\",\"formatter\":{\"id\":\"391598d5-7dad-43fe-bf03-bdb43026a036\",\"type\":\"BasicTickFormatter\"},\"plot\":{\"id\":\"e2f5d704-67e9-4447-b96d-ad12dc0f84fd\",\"subtype\":\"Figure\",\"type\":\"Plot\"},\"ticker\":{\"id\":\"ab34d525-d104-4be6-997a-000ecada681b\",\"type\":\"BasicTicker\"}},\"id\":\"c0c5f9f1-6677-4fc6-8d8f-a769f78cd2b5\",\"type\":\"LinearAxis\"},{\"attributes\":{\"line_color\":{\"value\":\"#1f77b4\"},\"x\":{\"field\":\"x\"},\"y\":{\"field\":\"y\"}},\"id\":\"c61624eb-04f8-4993-b6b1-2d62cb76085f\",\"type\":\"Line\"},{\"attributes\":{},\"id\":\"391598d5-7dad-43fe-bf03-bdb43026a036\",\"type\":\"BasicTickFormatter\"},{\"attributes\":{\"plot\":{\"id\":\"e2f5d704-67e9-4447-b96d-ad12dc0f84fd\",\"subtype\":\"Figure\",\"type\":\"Plot\"},\"ticker\":{\"id\":\"ab34d525-d104-4be6-997a-000ecada681b\",\"type\":\"BasicTicker\"}},\"id\":\"63f27824-9e78-45a1-b637-86ed9b46d29e\",\"type\":\"Grid\"},{\"attributes\":{},\"id\":\"ab34d525-d104-4be6-997a-000ecada681b\",\"type\":\"BasicTicker\"},{\"attributes\":{},\"id\":\"0fa2c578-a67e-45e0-bf53-35ae6260393f\",\"type\":\"BasicTicker\"}],\"root_ids\":[\"e2f5d704-67e9-4447-b96d-ad12dc0f84fd\"]},\"title\":\"Bokeh Application\",\"version\":\"0.12.0\"}};\n",
       "            var render_items = [{\"docid\":\"fdc26cdd-5563-49a1-91e1-7ca8c23e6c52\",\"elementid\":\"59e0af2d-1d0d-4a82-beb5-b0c10ba0a55e\",\"modelid\":\"e2f5d704-67e9-4447-b96d-ad12dc0f84fd\",\"notebook_comms_target\":\"7e77b9d7-7ff8-47dd-ac28-14b3e3d52168\"}];\n",
       "            \n",
       "            Bokeh.embed.embed_items(docs_json, render_items);\n",
       "        });\n",
       "      },\n",
       "      function(Bokeh) {\n",
       "      }\n",
       "    ];\n",
       "  \n",
       "    function run_inline_js() {\n",
       "      for (var i = 0; i < inline_js.length; i++) {\n",
       "        inline_js[i](window.Bokeh);\n",
       "      }\n",
       "    }\n",
       "  \n",
       "    if (window._bokeh_is_loading === 0) {\n",
       "      console.log(\"Bokeh: BokehJS loaded, going straight to plotting\");\n",
       "      run_inline_js();\n",
       "    } else {\n",
       "      load_libs(js_urls, function() {\n",
       "        console.log(\"Bokeh: BokehJS plotting callback run at\", now());\n",
       "        run_inline_js();\n",
       "      });\n",
       "    }\n",
       "  }(this));\n",
       "</script>"
      ]
     },
     "metadata": {},
     "output_type": "display_data"
    },
    {
     "data": {
      "text/html": [
       "\n",
       "\n",
       "    <div class=\"bk-root\">\n",
       "        <div class=\"plotdiv\" id=\"d120c79a-929a-4b97-a995-4f5eb1b876ec\"></div>\n",
       "    </div>\n",
       "<script type=\"text/javascript\">\n",
       "  \n",
       "  (function(global) {\n",
       "    function now() {\n",
       "      return new Date();\n",
       "    }\n",
       "  \n",
       "    if (typeof (window._bokeh_onload_callbacks) === \"undefined\") {\n",
       "      window._bokeh_onload_callbacks = [];\n",
       "    }\n",
       "  \n",
       "    function run_callbacks() {\n",
       "      window._bokeh_onload_callbacks.forEach(function(callback) { callback() });\n",
       "      delete window._bokeh_onload_callbacks\n",
       "      console.info(\"Bokeh: all callbacks have finished\");\n",
       "    }\n",
       "  \n",
       "    function load_libs(js_urls, callback) {\n",
       "      window._bokeh_onload_callbacks.push(callback);\n",
       "      if (window._bokeh_is_loading > 0) {\n",
       "        console.log(\"Bokeh: BokehJS is being loaded, scheduling callback at\", now());\n",
       "        return null;\n",
       "      }\n",
       "      if (js_urls == null || js_urls.length === 0) {\n",
       "        run_callbacks();\n",
       "        return null;\n",
       "      }\n",
       "      console.log(\"Bokeh: BokehJS not loaded, scheduling load and callback at\", now());\n",
       "      window._bokeh_is_loading = js_urls.length;\n",
       "      for (var i = 0; i < js_urls.length; i++) {\n",
       "        var url = js_urls[i];\n",
       "        var s = document.createElement('script');\n",
       "        s.src = url;\n",
       "        s.async = false;\n",
       "        s.onreadystatechange = s.onload = function() {\n",
       "          window._bokeh_is_loading--;\n",
       "          if (window._bokeh_is_loading === 0) {\n",
       "            console.log(\"Bokeh: all BokehJS libraries loaded\");\n",
       "            run_callbacks()\n",
       "          }\n",
       "        };\n",
       "        s.onerror = function() {\n",
       "          console.warn(\"failed to load library \" + url);\n",
       "        };\n",
       "        console.log(\"Bokeh: injecting script tag for BokehJS library: \", url);\n",
       "        document.getElementsByTagName(\"head\")[0].appendChild(s);\n",
       "      }\n",
       "    };var element = document.getElementById(\"d120c79a-929a-4b97-a995-4f5eb1b876ec\");\n",
       "    if (element == null) {\n",
       "      console.log(\"Bokeh: ERROR: autoload.js configured with elementid 'd120c79a-929a-4b97-a995-4f5eb1b876ec' but no matching script tag was found. \")\n",
       "      return false;\n",
       "    }\n",
       "  \n",
       "    var js_urls = [];\n",
       "  \n",
       "    var inline_js = [\n",
       "      function(Bokeh) {\n",
       "        Bokeh.$(function() {\n",
       "            var docs_json = {\"fcd1519a-47b1-4026-8328-5cc930f44a78\":{\"roots\":{\"references\":[{\"attributes\":{\"data_source\":{\"id\":\"cac61e5d-a548-4b99-8577-9a9cec09d873\",\"type\":\"ColumnDataSource\"},\"glyph\":{\"id\":\"bac287ad-04da-4453-b24d-5da86bb4ae71\",\"type\":\"Circle\"},\"hover_glyph\":null,\"nonselection_glyph\":{\"id\":\"e288ab4f-7b3c-4ce1-93c4-30078de92f34\",\"type\":\"Circle\"},\"selection_glyph\":null},\"id\":\"8f3b9412-8b5a-4da0-8af4-14c42e2941cd\",\"type\":\"GlyphRenderer\"},{\"attributes\":{\"axis_label\":\"Stimulus Label\",\"formatter\":{\"id\":\"22e57327-aa19-417a-8e9b-237ce9cb9fe2\",\"type\":\"BasicTickFormatter\"},\"plot\":{\"id\":\"733b219a-56fb-4cfe-a7cf-99e9f9cf6978\",\"subtype\":\"Figure\",\"type\":\"Plot\"},\"ticker\":{\"id\":\"27621be7-eeca-471c-a310-afd9bef0e0e6\",\"type\":\"BasicTicker\"}},\"id\":\"b4f09d26-a65b-4d2d-82e5-46f3d37c8bc2\",\"type\":\"LinearAxis\"},{\"attributes\":{\"fill_color\":{\"field\":\"color\"},\"line_color\":{\"field\":\"color\"},\"size\":{\"units\":\"screen\",\"value\":10},\"x\":{\"field\":\"x\"},\"y\":{\"field\":\"y\"}},\"id\":\"bac287ad-04da-4453-b24d-5da86bb4ae71\",\"type\":\"Circle\"},{\"attributes\":{\"callback\":null,\"column_names\":[\"color\",\"y\",\"x\",\"labels\"],\"data\":{\"color\":[\"red\",\"red\",\"red\",\"red\",\"red\",\"red\",\"red\",\"red\",\"red\",\"green\",\"green\",\"green\",\"green\",\"green\",\"green\",\"green\",\"green\",\"green\",\"green\",\"blue\",\"blue\",\"blue\",\"blue\",\"blue\",\"blue\",\"blue\",\"blue\",\"blue\",\"blue\",\"blue\",\"blue\",\"blue\",\"blue\",\"blue\",\"blue\",\"blue\",\"blue\",\"blue\",\"blue\",\"green\",\"green\",\"green\",\"green\",\"green\",\"green\",\"green\",\"green\",\"green\",\"green\",\"blue\",\"blue\",\"blue\",\"blue\",\"blue\",\"blue\",\"blue\",\"blue\",\"blue\",\"blue\",\"red\",\"red\",\"red\",\"red\",\"red\",\"red\",\"red\",\"red\",\"red\",\"red\",\"green\",\"green\",\"green\",\"green\",\"green\",\"green\",\"green\",\"green\",\"green\",\"green\",\"red\",\"red\",\"red\",\"red\",\"red\",\"red\",\"red\",\"red\",\"red\",\"red\",\"blue\",\"blue\",\"blue\",\"blue\",\"blue\",\"blue\",\"blue\",\"blue\",\"blue\",\"blue\",\"red\",\"red\",\"red\",\"red\",\"red\",\"red\",\"red\",\"red\",\"red\",\"red\",\"green\",\"green\",\"green\",\"green\",\"green\",\"green\",\"green\",\"green\",\"green\",\"green\",\"blue\",\"blue\",\"blue\",\"blue\",\"blue\",\"blue\",\"blue\",\"blue\",\"blue\",\"blue\",\"red\",\"red\",\"red\",\"red\",\"red\",\"red\",\"red\",\"red\",\"red\",\"red\",\"green\",\"green\",\"green\",\"green\",\"green\",\"green\",\"green\",\"green\",\"green\",\"green\"],\"labels\":[\"Faces\",\"Faces\",\"Faces\",\"Faces\",\"Faces\",\"Faces\",\"Faces\",\"Faces\",\"Faces\",\"Scenes\",\"Scenes\",\"Scenes\",\"Scenes\",\"Scenes\",\"Scenes\",\"Scenes\",\"Scenes\",\"Scenes\",\"Scenes\",\"Objects\",\"Objects\",\"Objects\",\"Objects\",\"Objects\",\"Objects\",\"Objects\",\"Objects\",\"Objects\",\"Objects\",\"Objects\",\"Objects\",\"Objects\",\"Objects\",\"Objects\",\"Objects\",\"Objects\",\"Objects\",\"Objects\",\"Objects\",\"Scenes\",\"Scenes\",\"Scenes\",\"Scenes\",\"Scenes\",\"Scenes\",\"Scenes\",\"Scenes\",\"Scenes\",\"Scenes\",\"Objects\",\"Objects\",\"Objects\",\"Objects\",\"Objects\",\"Objects\",\"Objects\",\"Objects\",\"Objects\",\"Objects\",\"Faces\",\"Faces\",\"Faces\",\"Faces\",\"Faces\",\"Faces\",\"Faces\",\"Faces\",\"Faces\",\"Faces\",\"Scenes\",\"Scenes\",\"Scenes\",\"Scenes\",\"Scenes\",\"Scenes\",\"Scenes\",\"Scenes\",\"Scenes\",\"Scenes\",\"Faces\",\"Faces\",\"Faces\",\"Faces\",\"Faces\",\"Faces\",\"Faces\",\"Faces\",\"Faces\",\"Faces\",\"Objects\",\"Objects\",\"Objects\",\"Objects\",\"Objects\",\"Objects\",\"Objects\",\"Objects\",\"Objects\",\"Objects\",\"Faces\",\"Faces\",\"Faces\",\"Faces\",\"Faces\",\"Faces\",\"Faces\",\"Faces\",\"Faces\",\"Faces\",\"Scenes\",\"Scenes\",\"Scenes\",\"Scenes\",\"Scenes\",\"Scenes\",\"Scenes\",\"Scenes\",\"Scenes\",\"Scenes\",\"Objects\",\"Objects\",\"Objects\",\"Objects\",\"Objects\",\"Objects\",\"Objects\",\"Objects\",\"Objects\",\"Objects\",\"Faces\",\"Faces\",\"Faces\",\"Faces\",\"Faces\",\"Faces\",\"Faces\",\"Faces\",\"Faces\",\"Faces\",\"Scenes\",\"Scenes\",\"Scenes\",\"Scenes\",\"Scenes\",\"Scenes\",\"Scenes\",\"Scenes\",\"Scenes\",\"Scenes\"],\"x\":[13.5,15.0,16.5,18.0,19.5,21.0,22.5,24.0,25.5,42.0,43.5,45.0,46.5,48.0,49.5,51.0,52.5,54.0,55.5,72.0,73.5,75.0,76.5,78.0,79.5,81.0,82.5,84.0,85.5,102.0,103.5,105.0,106.5,108.0,109.5,111.0,112.5,114.0,115.5,132.0,133.5,135.0,136.5,138.0,139.5,141.0,142.5,144.0,145.5,162.0,163.5,165.0,166.5,168.0,169.5,171.0,172.5,174.0,175.5,192.0,193.5,195.0,196.5,198.0,199.5,201.0,202.5,204.0,205.5,222.0,223.5,225.0,226.5,228.0,229.5,231.0,232.5,234.0,235.5,252.0,253.5,255.0,256.5,258.0,259.5,261.0,262.5,264.0,265.5,282.0,283.5,285.0,286.5,288.0,289.5,291.0,292.5,294.0,295.5,312.0,313.5,315.0,316.5,318.0,319.5,321.0,322.5,324.0,325.5,342.0,343.5,345.0,346.5,348.0,349.5,351.0,352.5,354.0,355.5,372.0,373.5,375.0,376.5,378.0,379.5,381.0,382.5,384.0,385.5,402.0,403.5,405.0,406.5,408.0,409.5,411.0,412.5,414.0,415.5,432.0,433.5,435.0,436.5,438.0,439.5,441.0,442.5,444.0,445.5],\"y\":[1.0,1.0,1.0,1.0,1.0,1.0,1.0,1.0,1.0,2.0,2.0,2.0,2.0,2.0,2.0,2.0,2.0,2.0,2.0,3.0,3.0,3.0,3.0,3.0,3.0,3.0,3.0,3.0,3.0,3.0,3.0,3.0,3.0,3.0,3.0,3.0,3.0,3.0,3.0,2.0,2.0,2.0,2.0,2.0,2.0,2.0,2.0,2.0,2.0,3.0,3.0,3.0,3.0,3.0,3.0,3.0,3.0,3.0,3.0,1.0,1.0,1.0,1.0,1.0,1.0,1.0,1.0,1.0,1.0,2.0,2.0,2.0,2.0,2.0,2.0,2.0,2.0,2.0,2.0,1.0,1.0,1.0,1.0,1.0,1.0,1.0,1.0,1.0,1.0,3.0,3.0,3.0,3.0,3.0,3.0,3.0,3.0,3.0,3.0,1.0,1.0,1.0,1.0,1.0,1.0,1.0,1.0,1.0,1.0,2.0,2.0,2.0,2.0,2.0,2.0,2.0,2.0,2.0,2.0,3.0,3.0,3.0,3.0,3.0,3.0,3.0,3.0,3.0,3.0,1.0,1.0,1.0,1.0,1.0,1.0,1.0,1.0,1.0,1.0,2.0,2.0,2.0,2.0,2.0,2.0,2.0,2.0,2.0,2.0]}},\"id\":\"cac61e5d-a548-4b99-8577-9a9cec09d873\",\"type\":\"ColumnDataSource\"},{\"attributes\":{\"plot\":null,\"text\":\"Stimulus Presentation for Run 3\"},\"id\":\"5c36ff35-924a-477e-a862-6b7c891978e5\",\"type\":\"Title\"},{\"attributes\":{\"callback\":null,\"column_names\":[\"y\",\"x\"],\"data\":{\"x\":[13.5,15.0,16.5,18.0,19.5,21.0,22.5,24.0,25.5,42.0,43.5,45.0,46.5,48.0,49.5,51.0,52.5,54.0,55.5,72.0,73.5,75.0,76.5,78.0,79.5,81.0,82.5,84.0,85.5,102.0,103.5,105.0,106.5,108.0,109.5,111.0,112.5,114.0,115.5,132.0,133.5,135.0,136.5,138.0,139.5,141.0,142.5,144.0,145.5,162.0,163.5,165.0,166.5,168.0,169.5,171.0,172.5,174.0,175.5,192.0,193.5,195.0,196.5,198.0,199.5,201.0,202.5,204.0,205.5,222.0,223.5,225.0,226.5,228.0,229.5,231.0,232.5,234.0,235.5,252.0,253.5,255.0,256.5,258.0,259.5,261.0,262.5,264.0,265.5,282.0,283.5,285.0,286.5,288.0,289.5,291.0,292.5,294.0,295.5,312.0,313.5,315.0,316.5,318.0,319.5,321.0,322.5,324.0,325.5,342.0,343.5,345.0,346.5,348.0,349.5,351.0,352.5,354.0,355.5,372.0,373.5,375.0,376.5,378.0,379.5,381.0,382.5,384.0,385.5,402.0,403.5,405.0,406.5,408.0,409.5,411.0,412.5,414.0,415.5,432.0,433.5,435.0,436.5,438.0,439.5,441.0,442.5,444.0,445.5],\"y\":[1.0,1.0,1.0,1.0,1.0,1.0,1.0,1.0,1.0,2.0,2.0,2.0,2.0,2.0,2.0,2.0,2.0,2.0,2.0,3.0,3.0,3.0,3.0,3.0,3.0,3.0,3.0,3.0,3.0,3.0,3.0,3.0,3.0,3.0,3.0,3.0,3.0,3.0,3.0,2.0,2.0,2.0,2.0,2.0,2.0,2.0,2.0,2.0,2.0,3.0,3.0,3.0,3.0,3.0,3.0,3.0,3.0,3.0,3.0,1.0,1.0,1.0,1.0,1.0,1.0,1.0,1.0,1.0,1.0,2.0,2.0,2.0,2.0,2.0,2.0,2.0,2.0,2.0,2.0,1.0,1.0,1.0,1.0,1.0,1.0,1.0,1.0,1.0,1.0,3.0,3.0,3.0,3.0,3.0,3.0,3.0,3.0,3.0,3.0,1.0,1.0,1.0,1.0,1.0,1.0,1.0,1.0,1.0,1.0,2.0,2.0,2.0,2.0,2.0,2.0,2.0,2.0,2.0,2.0,3.0,3.0,3.0,3.0,3.0,3.0,3.0,3.0,3.0,3.0,1.0,1.0,1.0,1.0,1.0,1.0,1.0,1.0,1.0,1.0,2.0,2.0,2.0,2.0,2.0,2.0,2.0,2.0,2.0,2.0]}},\"id\":\"46c81e99-ef10-4922-9f1b-0ea6d547d1e4\",\"type\":\"ColumnDataSource\"},{\"attributes\":{\"plot\":{\"id\":\"733b219a-56fb-4cfe-a7cf-99e9f9cf6978\",\"subtype\":\"Figure\",\"type\":\"Plot\"},\"ticker\":{\"id\":\"c5bf528f-a308-4306-852e-084ccd7f8dd2\",\"type\":\"BasicTicker\"}},\"id\":\"9d30cc1a-bf67-4d05-9657-4ec238447539\",\"type\":\"Grid\"},{\"attributes\":{\"plot\":{\"id\":\"733b219a-56fb-4cfe-a7cf-99e9f9cf6978\",\"subtype\":\"Figure\",\"type\":\"Plot\"}},\"id\":\"3e8d95fa-1d3a-45d7-9b73-c467e4d40dd8\",\"type\":\"HelpTool\"},{\"attributes\":{\"bottom_units\":\"screen\",\"fill_alpha\":{\"value\":0.5},\"fill_color\":{\"value\":\"lightgrey\"},\"left_units\":\"screen\",\"level\":\"overlay\",\"line_alpha\":{\"value\":1.0},\"line_color\":{\"value\":\"black\"},\"line_dash\":[4,4],\"line_width\":{\"value\":2},\"plot\":null,\"render_mode\":\"css\",\"right_units\":\"screen\",\"top_units\":\"screen\"},\"id\":\"1aa99904-2b0c-4a6b-ac25-c0af064fe53b\",\"type\":\"BoxAnnotation\"},{\"attributes\":{\"line_color\":{\"value\":\"#1f77b4\"},\"x\":{\"field\":\"x\"},\"y\":{\"field\":\"y\"}},\"id\":\"0777e6d0-a721-4ca6-9efe-20bcb2feed11\",\"type\":\"Line\"},{\"attributes\":{\"below\":[{\"id\":\"2cc991ee-237a-4673-88e1-3a9e9d655e4e\",\"type\":\"LinearAxis\"}],\"left\":[{\"id\":\"b4f09d26-a65b-4d2d-82e5-46f3d37c8bc2\",\"type\":\"LinearAxis\"}],\"renderers\":[{\"id\":\"2cc991ee-237a-4673-88e1-3a9e9d655e4e\",\"type\":\"LinearAxis\"},{\"id\":\"9d30cc1a-bf67-4d05-9657-4ec238447539\",\"type\":\"Grid\"},{\"id\":\"b4f09d26-a65b-4d2d-82e5-46f3d37c8bc2\",\"type\":\"LinearAxis\"},{\"id\":\"cc2161c7-b6d7-45a6-a836-e35c4797aaeb\",\"type\":\"Grid\"},{\"id\":\"1aa99904-2b0c-4a6b-ac25-c0af064fe53b\",\"type\":\"BoxAnnotation\"},{\"id\":\"af34a46a-08f6-41d7-b41d-f6139379072a\",\"type\":\"Legend\"},{\"id\":\"8f3b9412-8b5a-4da0-8af4-14c42e2941cd\",\"type\":\"GlyphRenderer\"},{\"id\":\"29981620-cf15-4e5c-924c-57ffa9b75e5b\",\"type\":\"GlyphRenderer\"}],\"title\":{\"id\":\"5c36ff35-924a-477e-a862-6b7c891978e5\",\"type\":\"Title\"},\"tool_events\":{\"id\":\"0f74e6a7-05b5-4d21-8df3-d8651e23ba02\",\"type\":\"ToolEvents\"},\"toolbar\":{\"id\":\"ee2b3509-bbd4-4a56-8639-c91000cc339e\",\"type\":\"Toolbar\"},\"x_range\":{\"id\":\"87dd8611-59d9-4dbf-af62-30e8beeefa41\",\"type\":\"DataRange1d\"},\"y_range\":{\"id\":\"3b1c4347-4359-4c6f-b8ab-90ebc609dcdb\",\"type\":\"DataRange1d\"}},\"id\":\"733b219a-56fb-4cfe-a7cf-99e9f9cf6978\",\"subtype\":\"Figure\",\"type\":\"Plot\"},{\"attributes\":{\"dimension\":1,\"plot\":{\"id\":\"733b219a-56fb-4cfe-a7cf-99e9f9cf6978\",\"subtype\":\"Figure\",\"type\":\"Plot\"},\"ticker\":{\"id\":\"27621be7-eeca-471c-a310-afd9bef0e0e6\",\"type\":\"BasicTicker\"}},\"id\":\"cc2161c7-b6d7-45a6-a836-e35c4797aaeb\",\"type\":\"Grid\"},{\"attributes\":{\"plot\":{\"id\":\"733b219a-56fb-4cfe-a7cf-99e9f9cf6978\",\"subtype\":\"Figure\",\"type\":\"Plot\"}},\"id\":\"3cc9e5bd-8c72-43f5-ad1f-2f79c5b8f2cf\",\"type\":\"ResetTool\"},{\"attributes\":{},\"id\":\"27621be7-eeca-471c-a310-afd9bef0e0e6\",\"type\":\"BasicTicker\"},{\"attributes\":{\"callback\":null},\"id\":\"3b1c4347-4359-4c6f-b8ab-90ebc609dcdb\",\"type\":\"DataRange1d\"},{\"attributes\":{\"legends\":[[\"labels\",[{\"id\":\"8f3b9412-8b5a-4da0-8af4-14c42e2941cd\",\"type\":\"GlyphRenderer\"}]]],\"location\":\"bottom_left\",\"plot\":{\"id\":\"733b219a-56fb-4cfe-a7cf-99e9f9cf6978\",\"subtype\":\"Figure\",\"type\":\"Plot\"}},\"id\":\"af34a46a-08f6-41d7-b41d-f6139379072a\",\"type\":\"Legend\"},{\"attributes\":{},\"id\":\"41c21709-d5f1-4673-bda3-30b37fbf4021\",\"type\":\"BasicTickFormatter\"},{\"attributes\":{\"plot\":{\"id\":\"733b219a-56fb-4cfe-a7cf-99e9f9cf6978\",\"subtype\":\"Figure\",\"type\":\"Plot\"}},\"id\":\"dff3366b-0e21-49ef-8483-552d0a4b54f6\",\"type\":\"WheelZoomTool\"},{\"attributes\":{\"line_alpha\":{\"value\":0.1},\"line_color\":{\"value\":\"#1f77b4\"},\"x\":{\"field\":\"x\"},\"y\":{\"field\":\"y\"}},\"id\":\"0a5f0916-e4e7-4b75-9fa6-5fbc34d32428\",\"type\":\"Line\"},{\"attributes\":{\"fill_alpha\":{\"value\":0.1},\"fill_color\":{\"value\":\"#1f77b4\"},\"line_alpha\":{\"value\":0.1},\"line_color\":{\"value\":\"#1f77b4\"},\"size\":{\"units\":\"screen\",\"value\":10},\"x\":{\"field\":\"x\"},\"y\":{\"field\":\"y\"}},\"id\":\"e288ab4f-7b3c-4ce1-93c4-30078de92f34\",\"type\":\"Circle\"},{\"attributes\":{},\"id\":\"22e57327-aa19-417a-8e9b-237ce9cb9fe2\",\"type\":\"BasicTickFormatter\"},{\"attributes\":{\"active_drag\":\"auto\",\"active_scroll\":\"auto\",\"active_tap\":\"auto\",\"tools\":[{\"id\":\"a277b9fb-3d2a-4884-82f1-ea7f436acf90\",\"type\":\"PanTool\"},{\"id\":\"dff3366b-0e21-49ef-8483-552d0a4b54f6\",\"type\":\"WheelZoomTool\"},{\"id\":\"fa7190dd-d4ed-4c5a-a93f-e558f8010ba6\",\"type\":\"BoxZoomTool\"},{\"id\":\"230929f7-9406-4759-8d8b-32081e7f2632\",\"type\":\"SaveTool\"},{\"id\":\"3cc9e5bd-8c72-43f5-ad1f-2f79c5b8f2cf\",\"type\":\"ResetTool\"},{\"id\":\"3e8d95fa-1d3a-45d7-9b73-c467e4d40dd8\",\"type\":\"HelpTool\"}]},\"id\":\"ee2b3509-bbd4-4a56-8639-c91000cc339e\",\"type\":\"Toolbar\"},{\"attributes\":{},\"id\":\"0f74e6a7-05b5-4d21-8df3-d8651e23ba02\",\"type\":\"ToolEvents\"},{\"attributes\":{\"overlay\":{\"id\":\"1aa99904-2b0c-4a6b-ac25-c0af064fe53b\",\"type\":\"BoxAnnotation\"},\"plot\":{\"id\":\"733b219a-56fb-4cfe-a7cf-99e9f9cf6978\",\"subtype\":\"Figure\",\"type\":\"Plot\"}},\"id\":\"fa7190dd-d4ed-4c5a-a93f-e558f8010ba6\",\"type\":\"BoxZoomTool\"},{\"attributes\":{\"plot\":{\"id\":\"733b219a-56fb-4cfe-a7cf-99e9f9cf6978\",\"subtype\":\"Figure\",\"type\":\"Plot\"}},\"id\":\"230929f7-9406-4759-8d8b-32081e7f2632\",\"type\":\"SaveTool\"},{\"attributes\":{\"plot\":{\"id\":\"733b219a-56fb-4cfe-a7cf-99e9f9cf6978\",\"subtype\":\"Figure\",\"type\":\"Plot\"}},\"id\":\"a277b9fb-3d2a-4884-82f1-ea7f436acf90\",\"type\":\"PanTool\"},{\"attributes\":{},\"id\":\"c5bf528f-a308-4306-852e-084ccd7f8dd2\",\"type\":\"BasicTicker\"},{\"attributes\":{\"data_source\":{\"id\":\"46c81e99-ef10-4922-9f1b-0ea6d547d1e4\",\"type\":\"ColumnDataSource\"},\"glyph\":{\"id\":\"0777e6d0-a721-4ca6-9efe-20bcb2feed11\",\"type\":\"Line\"},\"hover_glyph\":null,\"nonselection_glyph\":{\"id\":\"0a5f0916-e4e7-4b75-9fa6-5fbc34d32428\",\"type\":\"Line\"},\"selection_glyph\":null},\"id\":\"29981620-cf15-4e5c-924c-57ffa9b75e5b\",\"type\":\"GlyphRenderer\"},{\"attributes\":{\"callback\":null},\"id\":\"87dd8611-59d9-4dbf-af62-30e8beeefa41\",\"type\":\"DataRange1d\"},{\"attributes\":{\"axis_label\":\"Time (seconds)\",\"formatter\":{\"id\":\"41c21709-d5f1-4673-bda3-30b37fbf4021\",\"type\":\"BasicTickFormatter\"},\"plot\":{\"id\":\"733b219a-56fb-4cfe-a7cf-99e9f9cf6978\",\"subtype\":\"Figure\",\"type\":\"Plot\"},\"ticker\":{\"id\":\"c5bf528f-a308-4306-852e-084ccd7f8dd2\",\"type\":\"BasicTicker\"}},\"id\":\"2cc991ee-237a-4673-88e1-3a9e9d655e4e\",\"type\":\"LinearAxis\"}],\"root_ids\":[\"733b219a-56fb-4cfe-a7cf-99e9f9cf6978\"]},\"title\":\"Bokeh Application\",\"version\":\"0.12.0\"}};\n",
       "            var render_items = [{\"docid\":\"fcd1519a-47b1-4026-8328-5cc930f44a78\",\"elementid\":\"d120c79a-929a-4b97-a995-4f5eb1b876ec\",\"modelid\":\"733b219a-56fb-4cfe-a7cf-99e9f9cf6978\",\"notebook_comms_target\":\"863cad07-0c3d-4fe5-ba8f-5b4dad85a8ea\"}];\n",
       "            \n",
       "            Bokeh.embed.embed_items(docs_json, render_items);\n",
       "        });\n",
       "      },\n",
       "      function(Bokeh) {\n",
       "      }\n",
       "    ];\n",
       "  \n",
       "    function run_inline_js() {\n",
       "      for (var i = 0; i < inline_js.length; i++) {\n",
       "        inline_js[i](window.Bokeh);\n",
       "      }\n",
       "    }\n",
       "  \n",
       "    if (window._bokeh_is_loading === 0) {\n",
       "      console.log(\"Bokeh: BokehJS loaded, going straight to plotting\");\n",
       "      run_inline_js();\n",
       "    } else {\n",
       "      load_libs(js_urls, function() {\n",
       "        console.log(\"Bokeh: BokehJS plotting callback run at\", now());\n",
       "        run_inline_js();\n",
       "      });\n",
       "    }\n",
       "  }(this));\n",
       "</script>"
      ]
     },
     "metadata": {},
     "output_type": "display_data"
    }
   ],
   "source": [
    "run_trials = 150\n",
    "for i in range(2,4):\n",
    "    data_key = dict(x = stim_label_allruns[2, (i-1)*run_trials+1:i*run_trials],\n",
    "                y = stim_label_allruns[0, (i-1)*run_trials+1:i*run_trials],\n",
    "                color = final_color[(i-1)*run_trials+1:i*run_trials],\n",
    "                labels = final_label_list[(i-1)*run_trials+1:i*run_trials])\n",
    "    source = ColumnDataSource(data_key)\n",
    "    p = figure(title=\"Stimulus Presentation for Run \" + str(i))\n",
    "    p.circle(x='x', \n",
    "             y='y', \n",
    "             size=10, \n",
    "             color='color', \n",
    "             legend = 'labels',  \n",
    "             source=source)\n",
    "    p.line(x = stim_label_allruns[2,(i-1)*run_trials+1:i*run_trials],\n",
    "           y = stim_label_allruns[0,(i-1)*run_trials+1:i*run_trials],\n",
    "          )\n",
    "    p.xaxis.axis_label = 'Time (seconds)'\n",
    "    p.yaxis.axis_label = 'Stimulus Label'\n",
    "    p.legend.location= \"bottom_left\"\n",
    "    show(p)"
   ]
  },
  {
   "cell_type": "markdown",
   "metadata": {},
   "source": [
    "### Loading the fMRI data.\n",
    "\n",
    "We'll load the data for one run. We will also extract a subset of the signal from the whole-brain data by using a mask for the \"fusiform face area\" ('FFA'). Each run has approximately 310 TRs."
   ]
  },
  {
   "cell_type": "code",
   "execution_count": 8,
   "metadata": {
    "collapsed": false
   },
   "outputs": [
    {
     "name": "stdout",
     "output_type": "stream",
     "text": [
      "Processing Start ...\n",
      "Loaded Mask\n",
      "(128, 128, 52)\n"
     ]
    }
   ],
   "source": [
    "# Load data files for one run of the localizer.\n",
    "maskdir = (dir + sub + \"/preprocessed/masks/\")\n",
    "masks = ['FFA']\n",
    "\n",
    "# Cycle through the masks\n",
    "for mask in masks:\n",
    "    print (\"Processing Start ...\")\n",
    "    maskfile = (maskdir + \"sub-01_ventral_%s_locColl_to_epi1.nii.gz\" % (mask))\n",
    "    mask = nib.load(maskfile)\n",
    "    print (\"Loaded Mask\")\n",
    "    print(mask.shape)\n",
    "    \n",
    "    # Cycle through the runs\n",
    "    for run in range(1,2):\n",
    "        epi_in = (dir + sub + \"/preprocessed/loc/%s_filtered2_d1_firstExampleFunc_r%d.nii\" % ( sub,run))\n",
    "        epi_data = nib.load(epi_in)\n",
    "        nifti_masker = NiftiMasker(mask_img=mask)\n",
    "        epi_mask_data = nifti_masker.fit_transform(epi_data); \n",
    "\n"
   ]
  },
  {
   "cell_type": "markdown",
   "metadata": {},
   "source": [
    "**Self-study:** What is the parahippocampal placea area (PPA)?\n",
    "\n",
    "**Exercise:** Make a volume with a PPA mask and create an image to show a slice through this mask.\n",
    "\n",
    "**Exercise:** We used nitime to do the masking in the above code. How else could you mask the fMRI data?\n",
    "\n",
    "You could make a 3D array of the same dimensions as your brain data. Values would be 1 wherever we wanted to consider it PPA and 0 everywhere else. "
   ]
  },
  {
   "cell_type": "code",
   "execution_count": 9,
   "metadata": {
    "collapsed": false
   },
   "outputs": [
    {
     "name": "stdout",
     "output_type": "stream",
     "text": [
      "Processing Start ...\n",
      "Loaded Mask\n",
      "(128, 128, 52)\n"
     ]
    }
   ],
   "source": [
    "# Load data files for one run of the localizer.\n",
    "maskdir = (dir + sub + \"/preprocessed/masks/\")\n",
    "masks = ['PPA']\n",
    "\n",
    "# Cycle through the masks\n",
    "for mask in masks:\n",
    "    print (\"Processing Start ...\")\n",
    "    maskfile = (maskdir + \"sub-01_ventral_%s_locColl_to_epi1.nii.gz\" % (mask))\n",
    "    mask = nib.load(maskfile)\n",
    "    print (\"Loaded Mask\")\n",
    "    print(mask.shape)\n",
    "    \n",
    "    # Cycle through the runs\n",
    "    for run in range(1,2):\n",
    "        epi_in = (dir + sub + \"/preprocessed/loc/%s_filtered2_d1_firstExampleFunc_r%d.nii\" % ( sub,run))\n",
    "        epi_data = nib.load(epi_in)\n",
    "        nifti_masker = NiftiMasker(mask_img=mask)\n",
    "        epi_mask_data = nifti_masker.fit_transform(epi_data); "
   ]
  },
  {
   "cell_type": "code",
   "execution_count": 10,
   "metadata": {
    "collapsed": false
   },
   "outputs": [
    {
     "data": {
      "text/html": [
       "\n",
       "\n",
       "    <div class=\"bk-root\">\n",
       "        <div class=\"plotdiv\" id=\"7192cf4d-84bf-4a09-a82b-4c88f5b71a01\"></div>\n",
       "    </div>\n",
       "<script type=\"text/javascript\">\n",
       "  \n",
       "  (function(global) {\n",
       "    function now() {\n",
       "      return new Date();\n",
       "    }\n",
       "  \n",
       "    if (typeof (window._bokeh_onload_callbacks) === \"undefined\") {\n",
       "      window._bokeh_onload_callbacks = [];\n",
       "    }\n",
       "  \n",
       "    function run_callbacks() {\n",
       "      window._bokeh_onload_callbacks.forEach(function(callback) { callback() });\n",
       "      delete window._bokeh_onload_callbacks\n",
       "      console.info(\"Bokeh: all callbacks have finished\");\n",
       "    }\n",
       "  \n",
       "    function load_libs(js_urls, callback) {\n",
       "      window._bokeh_onload_callbacks.push(callback);\n",
       "      if (window._bokeh_is_loading > 0) {\n",
       "        console.log(\"Bokeh: BokehJS is being loaded, scheduling callback at\", now());\n",
       "        return null;\n",
       "      }\n",
       "      if (js_urls == null || js_urls.length === 0) {\n",
       "        run_callbacks();\n",
       "        return null;\n",
       "      }\n",
       "      console.log(\"Bokeh: BokehJS not loaded, scheduling load and callback at\", now());\n",
       "      window._bokeh_is_loading = js_urls.length;\n",
       "      for (var i = 0; i < js_urls.length; i++) {\n",
       "        var url = js_urls[i];\n",
       "        var s = document.createElement('script');\n",
       "        s.src = url;\n",
       "        s.async = false;\n",
       "        s.onreadystatechange = s.onload = function() {\n",
       "          window._bokeh_is_loading--;\n",
       "          if (window._bokeh_is_loading === 0) {\n",
       "            console.log(\"Bokeh: all BokehJS libraries loaded\");\n",
       "            run_callbacks()\n",
       "          }\n",
       "        };\n",
       "        s.onerror = function() {\n",
       "          console.warn(\"failed to load library \" + url);\n",
       "        };\n",
       "        console.log(\"Bokeh: injecting script tag for BokehJS library: \", url);\n",
       "        document.getElementsByTagName(\"head\")[0].appendChild(s);\n",
       "      }\n",
       "    };var element = document.getElementById(\"7192cf4d-84bf-4a09-a82b-4c88f5b71a01\");\n",
       "    if (element == null) {\n",
       "      console.log(\"Bokeh: ERROR: autoload.js configured with elementid '7192cf4d-84bf-4a09-a82b-4c88f5b71a01' but no matching script tag was found. \")\n",
       "      return false;\n",
       "    }\n",
       "  \n",
       "    var js_urls = [];\n",
       "  \n",
       "    var inline_js = [\n",
       "      function(Bokeh) {\n",
       "        Bokeh.$(function() {\n",
       "            var docs_json = {\"2f0f7e18-ccfc-4c5a-a26e-17c4eba14d2f\":{\"roots\":{\"references\":[{\"attributes\":{\"active_drag\":\"auto\",\"active_scroll\":\"auto\",\"active_tap\":\"auto\",\"tools\":[{\"id\":\"f7c17925-cfa4-43f4-b659-69325a44a0e8\",\"type\":\"PanTool\"},{\"id\":\"d30fc72d-3008-47df-b221-7bac4da8c7e9\",\"type\":\"WheelZoomTool\"},{\"id\":\"7fdbb789-3b49-4d50-84fa-6c711874cd66\",\"type\":\"BoxZoomTool\"},{\"id\":\"e6d67654-77e6-4e21-b8f7-ecc56aa5900a\",\"type\":\"SaveTool\"},{\"id\":\"7ff703e8-f136-47ef-90b7-4c7c63c3c89b\",\"type\":\"ResetTool\"},{\"id\":\"795a727a-e8d9-41ad-b72e-d7f2ba2884a0\",\"type\":\"HelpTool\"}]},\"id\":\"d8fda21b-24a4-4fe7-8bdb-f77c924a6e37\",\"type\":\"Toolbar\"},{\"attributes\":{\"data_source\":{\"id\":\"fcccde7e-1b51-4fc0-9920-95d01c2afd03\",\"type\":\"ColumnDataSource\"},\"glyph\":{\"id\":\"7ba504ec-53d6-465b-aecd-09b8f6486ccd\",\"type\":\"Image\"},\"hover_glyph\":null,\"nonselection_glyph\":{\"id\":\"6c1909bb-dce0-4328-93d9-99617c873792\",\"type\":\"Image\"},\"selection_glyph\":null},\"id\":\"5a98f8b6-d30a-4545-b049-5ec260d4b7ea\",\"type\":\"GlyphRenderer\"},{\"attributes\":{\"bottom_units\":\"screen\",\"fill_alpha\":{\"value\":0.5},\"fill_color\":{\"value\":\"lightgrey\"},\"left_units\":\"screen\",\"level\":\"overlay\",\"line_alpha\":{\"value\":1.0},\"line_color\":{\"value\":\"black\"},\"line_dash\":[4,4],\"line_width\":{\"value\":2},\"plot\":null,\"render_mode\":\"css\",\"right_units\":\"screen\",\"top_units\":\"screen\"},\"id\":\"6458737d-edd1-4ffa-a5c2-c97fe7406fb4\",\"type\":\"BoxAnnotation\"},{\"attributes\":{\"formatter\":{\"id\":\"ed0fcfb8-aaf4-489a-a658-c802f04908df\",\"type\":\"BasicTickFormatter\"},\"plot\":{\"id\":\"688dcbe6-3dc3-4416-a9f2-a56ce80f8446\",\"subtype\":\"Figure\",\"type\":\"Plot\"},\"ticker\":{\"id\":\"0cde303a-161a-4f8e-96b2-8a896cc59cd8\",\"type\":\"BasicTicker\"},\"visible\":false},\"id\":\"d397a613-de32-4b42-a582-93698820db59\",\"type\":\"LinearAxis\"},{\"attributes\":{\"plot\":{\"id\":\"688dcbe6-3dc3-4416-a9f2-a56ce80f8446\",\"subtype\":\"Figure\",\"type\":\"Plot\"}},\"id\":\"795a727a-e8d9-41ad-b72e-d7f2ba2884a0\",\"type\":\"HelpTool\"},{\"attributes\":{},\"id\":\"a21b1d8c-3bd2-444b-be1d-8e2bf27ad089\",\"type\":\"BasicTickFormatter\"},{\"attributes\":{\"plot\":{\"id\":\"688dcbe6-3dc3-4416-a9f2-a56ce80f8446\",\"subtype\":\"Figure\",\"type\":\"Plot\"}},\"id\":\"f7c17925-cfa4-43f4-b659-69325a44a0e8\",\"type\":\"PanTool\"},{\"attributes\":{},\"id\":\"0cde303a-161a-4f8e-96b2-8a896cc59cd8\",\"type\":\"BasicTicker\"},{\"attributes\":{\"palette\":[\"#000000\",\"#252525\",\"#525252\",\"#737373\",\"#969696\",\"#bdbdbd\",\"#d9d9d9\",\"#f0f0f0\",\"#ffffff\"]},\"id\":\"52806757-0437-4e59-9692-dcef744c3976\",\"type\":\"LinearColorMapper\"},{\"attributes\":{\"formatter\":{\"id\":\"a21b1d8c-3bd2-444b-be1d-8e2bf27ad089\",\"type\":\"BasicTickFormatter\"},\"plot\":{\"id\":\"688dcbe6-3dc3-4416-a9f2-a56ce80f8446\",\"subtype\":\"Figure\",\"type\":\"Plot\"},\"ticker\":{\"id\":\"6725efa2-29a0-4508-88b4-31364a6875a8\",\"type\":\"BasicTicker\"},\"visible\":false},\"id\":\"b44cbd1b-1f6b-4ccb-aef4-a03ecc66f4e9\",\"type\":\"LinearAxis\"},{\"attributes\":{\"palette\":[\"#000000\",\"#252525\",\"#525252\",\"#737373\",\"#969696\",\"#bdbdbd\",\"#d9d9d9\",\"#f0f0f0\",\"#ffffff\"]},\"id\":\"6e114a3d-8d6a-4d6a-a2e1-cba866a61981\",\"type\":\"LinearColorMapper\"},{\"attributes\":{},\"id\":\"6725efa2-29a0-4508-88b4-31364a6875a8\",\"type\":\"BasicTicker\"},{\"attributes\":{},\"id\":\"ed0fcfb8-aaf4-489a-a658-c802f04908df\",\"type\":\"BasicTickFormatter\"},{\"attributes\":{\"callback\":null,\"end\":128},\"id\":\"0bd2ed8b-10f9-4445-9627-d345d0327bd9\",\"type\":\"Range1d\"},{\"attributes\":{\"dimension\":1,\"plot\":{\"id\":\"688dcbe6-3dc3-4416-a9f2-a56ce80f8446\",\"subtype\":\"Figure\",\"type\":\"Plot\"},\"ticker\":{\"id\":\"0cde303a-161a-4f8e-96b2-8a896cc59cd8\",\"type\":\"BasicTicker\"}},\"id\":\"af4fb081-2a42-4fb5-a9a6-40aa32d3a247\",\"type\":\"Grid\"},{\"attributes\":{\"callback\":null,\"end\":128},\"id\":\"68df198b-a7f0-436c-9fe2-80407944a43d\",\"type\":\"Range1d\"},{\"attributes\":{\"overlay\":{\"id\":\"6458737d-edd1-4ffa-a5c2-c97fe7406fb4\",\"type\":\"BoxAnnotation\"},\"plot\":{\"id\":\"688dcbe6-3dc3-4416-a9f2-a56ce80f8446\",\"subtype\":\"Figure\",\"type\":\"Plot\"}},\"id\":\"7fdbb789-3b49-4d50-84fa-6c711874cd66\",\"type\":\"BoxZoomTool\"},{\"attributes\":{\"plot\":{\"id\":\"688dcbe6-3dc3-4416-a9f2-a56ce80f8446\",\"subtype\":\"Figure\",\"type\":\"Plot\"}},\"id\":\"e6d67654-77e6-4e21-b8f7-ecc56aa5900a\",\"type\":\"SaveTool\"},{\"attributes\":{\"plot\":{\"id\":\"688dcbe6-3dc3-4416-a9f2-a56ce80f8446\",\"subtype\":\"Figure\",\"type\":\"Plot\"}},\"id\":\"7ff703e8-f136-47ef-90b7-4c7c63c3c89b\",\"type\":\"ResetTool\"},{\"attributes\":{\"plot\":null,\"text\":\"PPA Mask\"},\"id\":\"c6fffd5a-1c5c-4ce6-a8bf-ef5bb3a4f2de\",\"type\":\"Title\"},{\"attributes\":{},\"id\":\"a4788fa8-3d58-418e-9de1-02898f13c2d1\",\"type\":\"ToolEvents\"},{\"attributes\":{\"color_mapper\":{\"id\":\"52806757-0437-4e59-9692-dcef744c3976\",\"type\":\"LinearColorMapper\"},\"dh\":{\"field\":\"dh\",\"units\":\"data\"},\"dw\":{\"field\":\"dw\",\"units\":\"data\"},\"image\":{\"field\":\"image\"},\"x\":{\"field\":\"x\"},\"y\":{\"field\":\"y\"}},\"id\":\"7ba504ec-53d6-465b-aecd-09b8f6486ccd\",\"type\":\"Image\"},{\"attributes\":{\"plot\":{\"id\":\"688dcbe6-3dc3-4416-a9f2-a56ce80f8446\",\"subtype\":\"Figure\",\"type\":\"Plot\"},\"ticker\":{\"id\":\"6725efa2-29a0-4508-88b4-31364a6875a8\",\"type\":\"BasicTicker\"}},\"id\":\"74a0a9aa-fec2-4e32-83bf-c35b6d33fb3f\",\"type\":\"Grid\"},{\"attributes\":{\"color_mapper\":{\"id\":\"6e114a3d-8d6a-4d6a-a2e1-cba866a61981\",\"type\":\"LinearColorMapper\"},\"dh\":{\"field\":\"dh\",\"units\":\"data\"},\"dw\":{\"field\":\"dw\",\"units\":\"data\"},\"image\":{\"field\":\"image\"},\"x\":{\"field\":\"x\"},\"y\":{\"field\":\"y\"}},\"id\":\"6c1909bb-dce0-4328-93d9-99617c873792\",\"type\":\"Image\"},{\"attributes\":{\"plot\":{\"id\":\"688dcbe6-3dc3-4416-a9f2-a56ce80f8446\",\"subtype\":\"Figure\",\"type\":\"Plot\"}},\"id\":\"d30fc72d-3008-47df-b221-7bac4da8c7e9\",\"type\":\"WheelZoomTool\"},{\"attributes\":{\"callback\":null,\"column_names\":[\"y\",\"x\",\"image\",\"dh\",\"dw\"],\"data\":{\"dh\":[128],\"dw\":[128],\"image\":[[[0.0,0.0,0.0,0.0,0.0,0.0,0.0,0.0,0.0,0.0,0.0,0.0,0.0,0.0,0.0,0.0,0.0,0.0,0.0,0.0,0.0,0.0,0.0,0.0,0.0,0.0,0.0,0.0,0.0,0.0,0.0,0.0,0.0,0.0,0.0,0.0,0.0,0.0,0.0,0.0,0.0,0.0,0.0,0.0,0.0,0.0,0.0,0.0,0.0,0.0,0.0,0.0],[0.0,0.0,0.0,0.0,0.0,0.0,0.0,0.0,0.0,0.0,0.0,0.0,0.0,0.0,0.0,0.0,0.0,0.0,0.0,0.0,0.0,0.0,0.0,0.0,0.0,0.0,0.0,0.0,0.0,0.0,0.0,0.0,0.0,0.0,0.0,0.0,0.0,0.0,0.0,0.0,0.0,0.0,0.0,0.0,0.0,0.0,0.0,0.0,0.0,0.0,0.0,0.0],[0.0,0.0,0.0,0.0,0.0,0.0,0.0,0.0,0.0,0.0,0.0,0.0,0.0,0.0,0.0,0.0,0.0,0.0,0.0,0.0,0.0,0.0,0.0,0.0,0.0,0.0,0.0,0.0,0.0,0.0,0.0,0.0,0.0,0.0,0.0,0.0,0.0,0.0,0.0,0.0,0.0,0.0,0.0,0.0,0.0,0.0,0.0,0.0,0.0,0.0,0.0,0.0],[0.0,0.0,0.0,0.0,0.0,0.0,0.0,0.0,0.0,0.0,0.0,0.0,0.0,0.0,0.0,0.0,0.0,0.0,0.0,0.0,0.0,0.0,0.0,0.0,0.0,0.0,0.0,0.0,0.0,0.0,0.0,0.0,0.0,0.0,0.0,0.0,0.0,0.0,0.0,0.0,0.0,0.0,0.0,0.0,0.0,0.0,0.0,0.0,0.0,0.0,0.0,0.0],[0.0,0.0,0.0,0.0,0.0,0.0,0.0,0.0,0.0,0.0,0.0,0.0,0.0,0.0,0.0,0.0,0.0,0.0,0.0,0.0,0.0,0.0,0.0,0.0,0.0,0.0,0.0,0.0,0.0,0.0,0.0,0.0,0.0,0.0,0.0,0.0,0.0,0.0,0.0,0.0,0.0,0.0,0.0,0.0,0.0,0.0,0.0,0.0,0.0,0.0,0.0,0.0],[0.0,0.0,0.0,0.0,0.0,0.0,0.0,0.0,0.0,0.0,0.0,0.0,0.0,0.0,0.0,0.0,0.0,0.0,0.0,0.0,0.0,0.0,0.0,0.0,0.0,0.0,0.0,0.0,0.0,0.0,0.0,0.0,0.0,0.0,0.0,0.0,0.0,0.0,0.0,0.0,0.0,0.0,0.0,0.0,0.0,0.0,0.0,0.0,0.0,0.0,0.0,0.0],[0.0,0.0,0.0,0.0,0.0,0.0,0.0,0.0,0.0,0.0,0.0,0.0,0.0,0.0,0.0,0.0,0.0,0.0,0.0,0.0,0.0,0.0,0.0,0.0,0.0,0.0,0.0,0.0,0.0,0.0,0.0,0.0,0.0,0.0,0.0,0.0,0.0,0.0,0.0,0.0,0.0,0.0,0.0,0.0,0.0,0.0,0.0,0.0,0.0,0.0,0.0,0.0],[0.0,0.0,0.0,0.0,0.0,0.0,0.0,0.0,0.0,0.0,0.0,0.0,0.0,0.0,0.0,0.0,0.0,0.0,0.0,0.0,0.0,0.0,0.0,0.0,0.0,0.0,0.0,0.0,0.0,0.0,0.0,0.0,0.0,0.0,0.0,0.0,0.0,0.0,0.0,0.0,0.0,0.0,0.0,0.0,0.0,0.0,0.0,0.0,0.0,0.0,0.0,0.0],[0.0,0.0,0.0,0.0,0.0,0.0,0.0,0.0,0.0,0.0,0.0,0.0,0.0,0.0,0.0,0.0,0.0,0.0,0.0,0.0,0.0,0.0,0.0,0.0,0.0,0.0,0.0,0.0,0.0,0.0,0.0,0.0,0.0,0.0,0.0,0.0,0.0,0.0,0.0,0.0,0.0,0.0,0.0,0.0,0.0,0.0,0.0,0.0,0.0,0.0,0.0,0.0],[0.0,0.0,0.0,0.0,0.0,0.0,0.0,0.0,0.0,0.0,0.0,0.0,0.0,0.0,0.0,0.0,0.0,0.0,0.0,0.0,0.0,0.0,0.0,0.0,0.0,0.0,0.0,0.0,0.0,0.0,0.0,0.0,0.0,0.0,0.0,0.0,0.0,0.0,0.0,0.0,0.0,0.0,0.0,0.0,0.0,0.0,0.0,0.0,0.0,0.0,0.0,0.0],[0.0,0.0,0.0,0.0,0.0,0.0,0.0,0.0,0.0,0.0,0.0,0.0,0.0,0.0,0.0,0.0,0.0,0.0,0.0,0.0,0.0,0.0,0.0,0.0,0.0,0.0,0.0,0.0,0.0,0.0,0.0,0.0,0.0,0.0,0.0,0.0,0.0,0.0,0.0,0.0,0.0,0.0,0.0,0.0,0.0,0.0,0.0,0.0,0.0,0.0,0.0,0.0],[0.0,0.0,0.0,0.0,0.0,0.0,0.0,0.0,0.0,0.0,0.0,0.0,0.0,0.0,0.0,0.0,0.0,0.0,0.0,0.0,0.0,0.0,0.0,0.0,0.0,0.0,0.0,0.0,0.0,0.0,0.0,0.0,0.0,0.0,0.0,0.0,0.0,0.0,0.0,0.0,0.0,0.0,0.0,0.0,0.0,0.0,0.0,0.0,0.0,0.0,0.0,0.0],[0.0,0.0,0.0,0.0,0.0,0.0,0.0,0.0,0.0,0.0,0.0,0.0,0.0,0.0,0.0,0.0,0.0,0.0,0.0,0.0,0.0,0.0,0.0,0.0,0.0,0.0,0.0,0.0,0.0,0.0,0.0,0.0,0.0,0.0,0.0,0.0,0.0,0.0,0.0,0.0,0.0,0.0,0.0,0.0,0.0,0.0,0.0,0.0,0.0,0.0,0.0,0.0],[0.0,0.0,0.0,0.0,0.0,0.0,0.0,0.0,0.0,0.0,0.0,0.0,0.0,0.0,0.0,0.0,0.0,0.0,0.0,0.0,0.0,0.0,0.0,0.0,0.0,0.0,0.0,0.0,0.0,0.0,0.0,0.0,0.0,0.0,0.0,0.0,0.0,0.0,0.0,0.0,0.0,0.0,0.0,0.0,0.0,0.0,0.0,0.0,0.0,0.0,0.0,0.0],[0.0,0.0,0.0,0.0,0.0,0.0,0.0,0.0,0.0,0.0,0.0,0.0,0.0,0.0,0.0,0.0,0.0,0.0,0.0,0.0,0.0,0.0,0.0,0.0,0.0,0.0,0.0,0.0,0.0,0.0,0.0,0.0,0.0,0.0,0.0,0.0,0.0,0.0,0.0,0.0,0.0,0.0,0.0,0.0,0.0,0.0,0.0,0.0,0.0,0.0,0.0,0.0],[0.0,0.0,0.0,0.0,0.0,0.0,0.0,0.0,0.0,0.0,0.0,0.0,0.0,0.0,0.0,0.0,0.0,0.0,0.0,0.0,0.0,0.0,0.0,0.0,0.0,0.0,0.0,0.0,0.0,0.0,0.0,0.0,0.0,0.0,0.0,0.0,0.0,0.0,0.0,0.0,0.0,0.0,0.0,0.0,0.0,0.0,0.0,0.0,0.0,0.0,0.0,0.0],[0.0,0.0,0.0,0.0,0.0,0.0,0.0,0.0,0.0,0.0,0.0,0.0,0.0,0.0,0.0,0.0,0.0,0.0,0.0,0.0,0.0,0.0,0.0,0.0,0.0,0.0,0.0,0.0,0.0,0.0,0.0,0.0,0.0,0.0,0.0,0.0,0.0,0.0,0.0,0.0,0.0,0.0,0.0,0.0,0.0,0.0,0.0,0.0,0.0,0.0,0.0,0.0],[0.0,0.0,0.0,0.0,0.0,0.0,0.0,0.0,0.0,0.0,0.0,0.0,0.0,0.0,0.0,0.0,0.0,0.0,0.0,0.0,0.0,0.0,0.0,0.0,0.0,0.0,0.0,0.0,0.0,0.0,0.0,0.0,0.0,0.0,0.0,0.0,0.0,0.0,0.0,0.0,0.0,0.0,0.0,0.0,0.0,0.0,0.0,0.0,0.0,0.0,0.0,0.0],[0.0,0.0,0.0,0.0,0.0,0.0,0.0,0.0,0.0,0.0,0.0,0.0,0.0,0.0,0.0,0.0,0.0,0.0,0.0,0.0,0.0,0.0,0.0,0.0,0.0,0.0,0.0,0.0,0.0,0.0,0.0,0.0,0.0,0.0,0.0,0.0,0.0,0.0,0.0,0.0,0.0,0.0,0.0,0.0,0.0,0.0,0.0,0.0,0.0,0.0,0.0,0.0],[0.0,0.0,0.0,0.0,0.0,0.0,0.0,0.0,0.0,0.0,0.0,0.0,0.0,0.0,0.0,0.0,0.0,0.0,0.0,0.0,0.0,0.0,0.0,0.0,0.0,0.0,0.0,0.0,0.0,0.0,0.0,0.0,0.0,0.0,0.0,0.0,0.0,0.0,0.0,0.0,0.0,0.0,0.0,0.0,0.0,0.0,0.0,0.0,0.0,0.0,0.0,0.0],[0.0,0.0,0.0,0.0,0.0,0.0,0.0,0.0,0.0,0.0,0.0,0.0,0.0,0.0,0.0,0.0,0.0,0.0,0.0,0.0,0.0,0.0,0.0,0.0,0.0,0.0,0.0,0.0,0.0,0.0,0.0,0.0,0.0,0.0,0.0,0.0,0.0,0.0,0.0,0.0,0.0,0.0,0.0,0.0,0.0,0.0,0.0,0.0,0.0,0.0,0.0,0.0],[0.0,0.0,0.0,0.0,0.0,0.0,0.0,0.0,0.0,0.0,0.0,0.0,0.0,0.0,0.0,0.0,0.0,0.0,0.0,0.0,0.0,0.0,0.0,0.0,0.0,0.0,0.0,0.0,0.0,0.0,0.0,0.0,0.0,0.0,0.0,0.0,0.0,0.0,0.0,0.0,0.0,0.0,0.0,0.0,0.0,0.0,0.0,0.0,0.0,0.0,0.0,0.0],[0.0,0.0,0.0,0.0,0.0,0.0,0.0,0.0,0.0,0.0,0.0,0.0,0.0,0.0,0.0,0.0,0.0,0.0,0.0,0.0,0.0,0.0,0.0,0.0,0.0,0.0,0.0,0.0,0.0,0.0,0.0,0.0,0.0,0.0,0.0,0.0,0.0,0.0,0.0,0.0,0.0,0.0,0.0,0.0,0.0,0.0,0.0,0.0,0.0,0.0,0.0,0.0],[0.0,0.0,0.0,0.0,0.0,0.0,0.0,0.0,0.0,0.0,0.0,0.0,0.0,0.0,0.0,0.0,0.0,0.0,0.0,0.0,0.0,0.0,0.0,0.0,0.0,0.0,0.0,0.0,0.0,0.0,0.0,0.0,0.0,0.0,0.0,0.0,0.0,0.0,0.0,0.0,0.0,0.0,0.0,0.0,0.0,0.0,0.0,0.0,0.0,0.0,0.0,0.0],[0.0,0.0,0.0,0.0,0.0,0.0,0.0,0.0,0.0,0.0,0.0,0.0,0.0,0.0,0.0,0.0,0.0,0.0,0.0,0.0,0.0,0.0,0.0,0.0,0.0,0.0,0.0,0.0,0.0,0.0,0.0,0.0,0.0,0.0,0.0,0.0,0.0,0.0,0.0,0.0,0.0,0.0,0.0,0.0,0.0,0.0,0.0,0.0,0.0,0.0,0.0,0.0],[0.0,0.0,0.0,0.0,0.0,0.0,0.0,0.0,0.0,0.0,0.0,0.0,0.0,0.0,0.0,0.0,0.0,0.0,0.0,0.0,0.0,0.0,0.0,0.0,0.0,0.0,0.0,0.0,0.0,0.0,0.0,0.0,0.0,0.0,0.0,0.0,0.0,0.0,0.0,0.0,0.0,0.0,0.0,0.0,0.0,0.0,0.0,0.0,0.0,0.0,0.0,0.0],[0.0,0.0,0.0,0.0,0.0,0.0,0.0,0.0,0.0,0.0,0.0,0.0,0.0,0.0,0.0,0.0,0.0,0.0,0.0,0.0,0.0,0.0,0.0,0.0,0.0,0.0,0.0,0.0,0.0,0.0,0.0,0.0,0.0,0.0,0.0,0.0,0.0,0.0,0.0,0.0,0.0,0.0,0.0,0.0,0.0,0.0,0.0,0.0,0.0,0.0,0.0,0.0],[0.0,0.0,0.0,0.0,0.0,0.0,0.0,0.0,0.0,0.0,0.0,0.0,0.0,0.0,0.0,0.0,0.0,0.0,0.0,0.0,0.0,0.0,0.0,0.0,0.0,0.0,0.0,0.0,0.0,0.0,0.0,0.0,0.0,0.0,0.0,0.0,0.0,0.0,0.0,0.0,0.0,0.0,0.0,0.0,0.0,0.0,0.0,0.0,0.0,0.0,0.0,0.0],[0.0,0.0,0.0,0.0,0.0,0.0,0.0,0.0,0.0,0.0,0.0,0.0,0.0,0.0,0.0,0.0,0.0,0.0,0.0,0.0,0.0,0.0,0.0,0.0,0.0,0.0,0.0,0.0,0.0,0.0,0.0,0.0,0.0,0.0,0.0,0.0,0.0,0.0,0.0,0.0,0.0,0.0,0.0,0.0,0.0,0.0,0.0,0.0,0.0,0.0,0.0,0.0],[0.0,0.0,0.0,0.0,0.0,0.0,0.0,0.0,0.0,0.0,0.0,0.0,0.0,0.0,0.0,0.0,0.0,0.0,0.0,0.0,0.0,0.0,0.0,0.0,0.0,0.0,0.0,0.0,0.0,0.0,0.0,0.0,0.0,0.0,0.0,0.0,0.0,0.0,0.0,0.0,0.0,0.0,0.0,0.0,0.0,0.0,0.0,0.0,0.0,0.0,0.0,0.0],[0.0,0.0,0.0,0.0,0.0,0.0,0.0,0.0,0.0,0.0,0.0,0.0,0.0,0.0,0.0,0.0,0.0,0.0,0.0,0.0,0.0,0.0,0.0,0.0,0.0,0.0,0.0,0.0,0.0,0.0,0.0,0.0,0.0,0.0,0.0,0.0,0.0,0.0,0.0,0.0,0.0,0.0,0.0,0.0,0.0,0.0,0.0,0.0,0.0,0.0,0.0,0.0],[0.0,0.0,0.0,0.0,0.0,0.0,0.0,0.0,0.0,0.0,0.0,0.0,0.0,0.0,0.0,0.0,0.0,0.0,0.0,0.0,0.0,0.0,0.0,0.0,0.0,0.0,0.0,0.0,0.0,0.0,0.0,0.0,0.0,0.0,0.0,0.0,0.0,0.0,0.0,0.0,0.0,0.0,0.0,0.0,0.0,0.0,0.0,0.0,0.0,0.0,0.0,0.0],[0.0,0.0,0.0,0.0,0.0,0.0,0.0,0.0,0.0,0.0,0.0,0.0,0.0,0.0,0.0,0.0,0.0,0.0,0.0,0.0,0.0,0.0,0.0,0.0,0.0,0.0,0.0,0.0,0.0,0.0,0.0,0.0,0.0,0.0,0.0,0.0,0.0,0.0,0.0,0.0,0.0,0.0,0.0,0.0,0.0,0.0,0.0,0.0,0.0,0.0,0.0,0.0],[0.0,0.0,0.0,0.0,0.0,0.0,0.0,0.0,0.0,0.0,0.0,0.0,0.0,0.0,0.0,0.0,0.0,0.0,0.0,0.0,0.0,0.0,0.0,0.0,0.0,0.0,0.0,0.0,0.0,0.0,0.0,0.0,0.0,0.0,0.0,0.0,0.0,0.0,0.0,0.0,0.0,0.0,0.0,0.0,0.0,0.0,0.0,0.0,0.0,0.0,0.0,0.0],[0.0,0.0,0.0,0.0,0.0,0.0,0.0,0.0,0.0,0.0,0.0,0.0,0.0,0.0,0.0,0.0,0.0,0.0,0.0,0.0,0.0,0.0,0.0,0.0,0.0,0.0,0.0,0.0,0.0,0.0,0.0,0.0,0.0,0.0,0.0,0.0,0.0,0.0,0.0,0.0,0.0,0.0,0.0,0.0,0.0,0.0,0.0,0.0,0.0,0.0,0.0,0.0],[0.0,0.0,0.0,0.0,0.0,0.0,0.0,0.0,0.0,0.0,0.0,0.0,0.0,0.0,0.0,0.0,0.0,0.0,0.0,0.0,0.0,0.0,0.0,0.0,0.0,0.0,0.0,0.0,0.0,0.0,0.0,0.0,0.0,0.0,0.0,0.0,0.0,0.0,0.0,0.0,0.0,0.0,0.0,0.0,0.0,0.0,0.0,0.0,0.0,0.0,0.0,0.0],[0.0,0.0,0.0,0.0,0.0,0.0,0.0,0.0,0.0,0.0,0.0,0.0,0.0,0.0,0.0,0.0,0.0,0.0,0.0,0.0,0.0,0.0,0.0,0.0,0.0,0.0,0.0,0.0,0.0,0.0,0.0,0.0,0.0,0.0,0.0,0.0,0.0,0.0,0.0,0.0,0.0,0.0,0.0,0.0,0.0,0.0,0.0,0.0,0.0,0.0,0.0,0.0],[0.0,0.0,0.0,0.0,0.0,0.0,0.0,0.0,0.0,0.0,0.0,0.0,0.0,0.0,0.0,0.0,0.0,0.0,0.0,0.0,0.0,0.0,0.0,0.0,0.0,0.0,0.0,0.0,0.0,0.0,0.0,0.0,0.0,0.0,0.0,0.0,0.0,0.0,0.0,0.0,0.0,0.0,0.0,0.0,0.0,0.0,0.0,0.0,0.0,0.0,0.0,0.0],[0.0,0.0,0.0,0.0,0.0,0.0,0.0,0.0,0.0,0.0,0.0,0.0,0.0,0.0,0.0,0.0,0.0,0.0,0.0,0.0,0.0,0.0,0.0,0.0,0.0,0.0,0.0,0.0,0.0,0.0,0.0,0.0,0.0,0.0,0.0,0.0,0.0,0.0,0.0,0.0,0.0,0.0,0.0,0.0,0.0,0.0,0.0,0.0,0.0,0.0,0.0,0.0],[0.0,0.0,0.0,0.0,0.0,0.0,0.0,0.0,0.0,0.0,0.0,0.0,0.0,0.0,0.0,0.0,0.0,0.0,0.0,0.0,0.0,0.0,0.0,0.0,0.0,0.0,0.0,0.0,0.0,0.0,0.0,0.0,0.0,0.0,0.0,0.0,0.0,0.0,0.0,0.0,0.0,0.0,0.0,0.0,0.0,0.0,0.0,0.0,0.0,0.0,0.0,0.0],[0.0,0.0,0.0,0.0,0.0,0.0,0.0,0.0,0.0,0.0,0.0,0.0,0.0,0.0,0.0,0.0,0.0,0.0,0.0,0.0,0.0,0.0,0.0,0.0,0.0,0.0,0.0,0.0,0.0,0.0,0.0,0.0,0.0,0.0,0.0,0.0,0.0,0.0,0.0,0.0,0.0,0.0,0.0,0.0,0.0,0.0,0.0,0.0,0.0,0.0,0.0,0.0],[0.0,0.0,0.0,0.0,0.0,0.0,0.0,0.0,0.0,0.0,0.0,0.0,0.0,0.0,0.0,0.0,0.0,0.0,0.0,0.0,0.0,0.0,0.0,0.0,0.0,0.0,0.0,0.0,0.0,0.0,0.0,0.0,0.0,0.0,0.0,0.0,0.0,0.0,0.0,0.0,0.0,0.0,0.0,0.0,0.0,0.0,0.0,0.0,0.0,0.0,0.0,0.0],[0.0,0.0,0.0,0.0,0.0,0.0,0.0,0.0,0.0,0.0,0.0,0.0,0.0,0.0,0.0,0.0,0.0,0.0,0.0,0.0,0.0,0.0,0.0,0.0,0.0,0.0,0.0,0.0,0.0,0.0,0.0,0.0,0.0,0.0,0.0,0.0,0.0,0.0,0.0,0.0,0.0,0.0,0.0,0.0,0.0,0.0,0.0,0.0,0.0,0.0,0.0,0.0],[0.0,0.0,0.0,0.0,0.0,0.0,0.0,0.0,0.0,0.0,0.0,0.0,0.0,0.0,0.0,0.0,0.0,0.0,0.0,0.0,0.0,0.0,0.0,0.0,0.0,0.0,0.0,0.0,0.0,0.0,0.0,0.0,0.0,0.0,0.0,0.0,0.0,0.0,0.0,0.0,0.0,0.0,0.0,0.0,0.0,0.0,0.0,0.0,0.0,0.0,0.0,0.0],[0.0,0.0,0.0,0.0,0.0,0.0,0.0,0.0,0.0,0.0,0.0,0.0,0.0,0.0,0.0,0.0,0.0,0.0,0.0,0.0,0.0,0.0,0.0,0.0,0.0,0.0,0.0,0.0,0.0,0.0,0.0,0.0,0.0,0.0,0.0,0.0,0.0,0.0,0.0,0.0,0.0,0.0,0.0,0.0,0.0,0.0,0.0,0.0,0.0,0.0,0.0,0.0],[0.0,0.0,0.0,0.0,0.0,0.0,0.0,0.0,0.0,0.0,0.0,0.0,0.0,0.0,0.0,0.0,0.0,0.0,0.0,0.0,0.0,0.0,0.0,0.0,0.0,0.0,0.0,0.0,0.0,0.0,0.0,0.0,0.0,0.0,0.0,0.0,0.0,0.0,0.0,0.0,0.0,0.0,0.0,0.0,0.0,0.0,0.0,0.0,0.0,0.0,0.0,0.0],[0.0,0.0,0.0,0.0,0.0,0.0,0.0,0.0,0.0,0.0,0.0,0.0,0.0,0.0,0.0,0.0,0.0,0.0,0.0,0.0,0.0,0.0,0.0,0.0,0.0,0.0,0.0,0.0,0.0,1.0,0.0,0.0,0.0,0.0,0.0,0.0,0.0,0.0,0.0,0.0,0.0,0.0,0.0,0.0,0.0,0.0,0.0,0.0,0.0,0.0,0.0,0.0],[0.0,0.0,0.0,0.0,0.0,0.0,0.0,0.0,0.0,0.0,0.0,0.0,0.0,0.0,0.0,0.0,0.0,0.0,0.0,0.0,0.0,0.0,0.0,0.0,0.0,0.0,0.0,1.0,1.0,1.0,0.0,0.0,0.0,0.0,0.0,0.0,0.0,0.0,0.0,0.0,0.0,0.0,0.0,0.0,0.0,0.0,0.0,0.0,0.0,0.0,0.0,0.0],[0.0,0.0,0.0,0.0,0.0,0.0,0.0,0.0,0.0,0.0,0.0,0.0,0.0,0.0,0.0,0.0,0.0,0.0,0.0,0.0,0.0,0.0,0.0,0.0,0.0,0.0,1.0,1.0,1.0,1.0,0.0,0.0,0.0,0.0,0.0,0.0,0.0,0.0,0.0,0.0,0.0,0.0,0.0,0.0,0.0,0.0,0.0,0.0,0.0,0.0,0.0,0.0],[0.0,0.0,0.0,0.0,0.0,0.0,0.0,0.0,0.0,0.0,0.0,0.0,0.0,0.0,0.0,0.0,0.0,0.0,0.0,0.0,0.0,0.0,0.0,0.0,0.0,0.0,1.0,1.0,1.0,0.0,0.0,0.0,0.0,0.0,0.0,0.0,0.0,0.0,0.0,0.0,0.0,0.0,0.0,0.0,0.0,0.0,0.0,0.0,0.0,0.0,0.0,0.0],[0.0,0.0,0.0,0.0,0.0,0.0,0.0,0.0,0.0,0.0,0.0,0.0,0.0,0.0,0.0,0.0,0.0,0.0,0.0,0.0,0.0,0.0,0.0,0.0,0.0,1.0,1.0,1.0,1.0,0.0,0.0,0.0,0.0,0.0,0.0,0.0,0.0,0.0,0.0,0.0,0.0,0.0,0.0,0.0,0.0,0.0,0.0,0.0,0.0,0.0,0.0,0.0],[0.0,0.0,0.0,0.0,0.0,0.0,0.0,0.0,0.0,0.0,0.0,0.0,0.0,0.0,0.0,0.0,0.0,0.0,0.0,0.0,0.0,0.0,0.0,0.0,0.0,1.0,1.0,1.0,1.0,0.0,0.0,0.0,0.0,0.0,0.0,0.0,0.0,0.0,0.0,0.0,0.0,0.0,0.0,0.0,0.0,0.0,0.0,0.0,0.0,0.0,0.0,0.0],[0.0,0.0,0.0,0.0,0.0,0.0,0.0,0.0,0.0,0.0,0.0,0.0,0.0,0.0,0.0,0.0,0.0,0.0,0.0,0.0,0.0,0.0,0.0,0.0,1.0,1.0,1.0,1.0,1.0,0.0,0.0,0.0,0.0,0.0,0.0,0.0,0.0,0.0,0.0,0.0,0.0,0.0,0.0,0.0,0.0,0.0,0.0,0.0,0.0,0.0,0.0,0.0],[0.0,0.0,0.0,0.0,0.0,0.0,0.0,0.0,0.0,0.0,0.0,0.0,0.0,0.0,0.0,0.0,0.0,0.0,0.0,0.0,0.0,0.0,0.0,0.0,1.0,1.0,1.0,1.0,1.0,0.0,0.0,0.0,0.0,0.0,0.0,0.0,0.0,0.0,0.0,0.0,0.0,0.0,0.0,0.0,0.0,0.0,0.0,0.0,0.0,0.0,0.0,0.0],[0.0,0.0,0.0,0.0,0.0,0.0,0.0,0.0,0.0,0.0,0.0,0.0,0.0,0.0,0.0,0.0,0.0,0.0,0.0,0.0,0.0,0.0,0.0,0.0,1.0,1.0,1.0,1.0,1.0,1.0,0.0,0.0,0.0,0.0,0.0,0.0,0.0,0.0,0.0,0.0,0.0,0.0,0.0,0.0,0.0,0.0,0.0,0.0,0.0,0.0,0.0,0.0],[0.0,0.0,0.0,0.0,0.0,0.0,0.0,0.0,0.0,0.0,0.0,0.0,0.0,0.0,0.0,0.0,0.0,0.0,0.0,0.0,0.0,0.0,0.0,0.0,1.0,1.0,1.0,1.0,1.0,1.0,1.0,0.0,0.0,0.0,0.0,0.0,0.0,0.0,0.0,0.0,0.0,0.0,0.0,0.0,0.0,0.0,0.0,0.0,0.0,0.0,0.0,0.0],[0.0,0.0,0.0,0.0,0.0,0.0,0.0,0.0,0.0,0.0,0.0,0.0,0.0,0.0,0.0,0.0,0.0,0.0,0.0,0.0,0.0,0.0,0.0,0.0,1.0,1.0,1.0,1.0,1.0,1.0,1.0,0.0,0.0,0.0,0.0,0.0,0.0,0.0,0.0,0.0,0.0,0.0,0.0,0.0,0.0,0.0,0.0,0.0,0.0,0.0,0.0,0.0],[0.0,0.0,0.0,0.0,0.0,0.0,0.0,0.0,0.0,0.0,0.0,0.0,0.0,0.0,0.0,0.0,0.0,0.0,0.0,0.0,0.0,0.0,0.0,0.0,0.0,1.0,1.0,1.0,1.0,1.0,1.0,1.0,0.0,0.0,0.0,0.0,0.0,0.0,0.0,0.0,0.0,0.0,0.0,0.0,0.0,0.0,0.0,0.0,0.0,0.0,0.0,0.0],[0.0,0.0,0.0,0.0,0.0,0.0,0.0,0.0,0.0,0.0,0.0,0.0,0.0,0.0,0.0,0.0,0.0,0.0,0.0,0.0,0.0,0.0,0.0,0.0,0.0,0.0,1.0,1.0,1.0,1.0,1.0,1.0,0.0,0.0,0.0,0.0,0.0,0.0,0.0,0.0,0.0,0.0,0.0,0.0,0.0,0.0,0.0,0.0,0.0,0.0,0.0,0.0],[0.0,0.0,0.0,0.0,0.0,0.0,0.0,0.0,0.0,0.0,0.0,0.0,0.0,0.0,0.0,0.0,0.0,0.0,0.0,0.0,0.0,0.0,0.0,0.0,0.0,0.0,1.0,1.0,1.0,1.0,1.0,0.0,0.0,0.0,0.0,0.0,0.0,0.0,0.0,0.0,0.0,0.0,0.0,0.0,0.0,0.0,0.0,0.0,0.0,0.0,0.0,0.0],[0.0,0.0,0.0,0.0,0.0,0.0,0.0,0.0,0.0,0.0,0.0,0.0,0.0,0.0,0.0,0.0,0.0,0.0,0.0,0.0,0.0,0.0,0.0,0.0,0.0,0.0,0.0,0.0,0.0,1.0,0.0,0.0,0.0,0.0,0.0,0.0,0.0,0.0,0.0,0.0,0.0,0.0,0.0,0.0,0.0,0.0,0.0,0.0,0.0,0.0,0.0,0.0],[0.0,0.0,0.0,0.0,0.0,0.0,0.0,0.0,0.0,0.0,0.0,0.0,0.0,0.0,0.0,0.0,0.0,0.0,0.0,0.0,0.0,0.0,0.0,0.0,0.0,0.0,0.0,0.0,0.0,0.0,0.0,0.0,0.0,0.0,0.0,0.0,0.0,0.0,0.0,0.0,0.0,0.0,0.0,0.0,0.0,0.0,0.0,0.0,0.0,0.0,0.0,0.0],[0.0,0.0,0.0,0.0,0.0,0.0,0.0,0.0,0.0,0.0,0.0,0.0,0.0,0.0,0.0,0.0,0.0,0.0,0.0,0.0,0.0,0.0,0.0,0.0,0.0,0.0,0.0,0.0,0.0,0.0,0.0,0.0,0.0,0.0,0.0,0.0,0.0,0.0,0.0,0.0,0.0,0.0,0.0,0.0,0.0,0.0,0.0,0.0,0.0,0.0,0.0,0.0],[0.0,0.0,0.0,0.0,0.0,0.0,0.0,0.0,0.0,0.0,0.0,0.0,0.0,0.0,0.0,0.0,0.0,0.0,0.0,0.0,0.0,0.0,0.0,0.0,0.0,0.0,0.0,0.0,0.0,0.0,0.0,0.0,0.0,0.0,0.0,0.0,0.0,0.0,0.0,0.0,0.0,0.0,0.0,0.0,0.0,0.0,0.0,0.0,0.0,0.0,0.0,0.0],[0.0,0.0,0.0,0.0,0.0,0.0,0.0,0.0,0.0,0.0,0.0,0.0,0.0,0.0,0.0,0.0,0.0,0.0,0.0,0.0,0.0,0.0,0.0,0.0,0.0,0.0,0.0,0.0,0.0,0.0,0.0,0.0,0.0,0.0,0.0,0.0,0.0,0.0,0.0,0.0,0.0,0.0,0.0,0.0,0.0,0.0,0.0,0.0,0.0,0.0,0.0,0.0],[0.0,0.0,0.0,0.0,0.0,0.0,0.0,0.0,0.0,0.0,0.0,0.0,0.0,0.0,0.0,0.0,0.0,0.0,0.0,0.0,0.0,0.0,0.0,0.0,0.0,0.0,0.0,0.0,0.0,0.0,0.0,0.0,0.0,0.0,0.0,0.0,0.0,0.0,0.0,0.0,0.0,0.0,0.0,0.0,0.0,0.0,0.0,0.0,0.0,0.0,0.0,0.0],[0.0,0.0,0.0,0.0,0.0,0.0,0.0,0.0,0.0,0.0,0.0,0.0,0.0,0.0,0.0,0.0,0.0,0.0,0.0,0.0,0.0,0.0,0.0,0.0,0.0,0.0,0.0,0.0,0.0,0.0,0.0,0.0,0.0,0.0,0.0,0.0,0.0,0.0,0.0,0.0,0.0,0.0,0.0,0.0,0.0,0.0,0.0,0.0,0.0,0.0,0.0,0.0],[0.0,0.0,0.0,0.0,0.0,0.0,0.0,0.0,0.0,0.0,0.0,0.0,0.0,0.0,0.0,0.0,0.0,0.0,0.0,0.0,0.0,0.0,0.0,0.0,0.0,0.0,0.0,0.0,0.0,0.0,0.0,0.0,0.0,0.0,0.0,0.0,0.0,0.0,0.0,0.0,0.0,0.0,0.0,0.0,0.0,0.0,0.0,0.0,0.0,0.0,0.0,0.0],[0.0,0.0,0.0,0.0,0.0,0.0,0.0,0.0,0.0,0.0,0.0,0.0,0.0,0.0,0.0,0.0,0.0,0.0,0.0,0.0,0.0,0.0,0.0,0.0,0.0,0.0,0.0,0.0,0.0,0.0,0.0,0.0,0.0,0.0,0.0,0.0,0.0,0.0,0.0,0.0,0.0,0.0,0.0,0.0,0.0,0.0,0.0,0.0,0.0,0.0,0.0,0.0],[0.0,0.0,0.0,0.0,0.0,0.0,0.0,0.0,0.0,0.0,0.0,0.0,0.0,0.0,0.0,0.0,0.0,0.0,0.0,0.0,0.0,0.0,0.0,0.0,0.0,0.0,0.0,0.0,0.0,0.0,0.0,0.0,0.0,0.0,0.0,0.0,0.0,0.0,0.0,0.0,0.0,0.0,0.0,0.0,0.0,0.0,0.0,0.0,0.0,0.0,0.0,0.0],[0.0,0.0,0.0,0.0,0.0,0.0,0.0,0.0,0.0,0.0,0.0,0.0,0.0,0.0,0.0,0.0,0.0,0.0,0.0,0.0,0.0,0.0,0.0,0.0,0.0,0.0,0.0,0.0,0.0,0.0,0.0,0.0,0.0,0.0,0.0,0.0,0.0,0.0,0.0,0.0,0.0,0.0,0.0,0.0,0.0,0.0,0.0,0.0,0.0,0.0,0.0,0.0],[0.0,0.0,0.0,0.0,0.0,0.0,0.0,0.0,0.0,0.0,0.0,0.0,0.0,0.0,0.0,0.0,0.0,0.0,0.0,0.0,0.0,0.0,0.0,0.0,0.0,0.0,0.0,0.0,0.0,0.0,0.0,0.0,0.0,0.0,0.0,0.0,0.0,0.0,0.0,0.0,0.0,0.0,0.0,0.0,0.0,0.0,0.0,0.0,0.0,0.0,0.0,0.0],[0.0,0.0,0.0,0.0,0.0,0.0,0.0,0.0,0.0,0.0,0.0,0.0,0.0,0.0,0.0,0.0,0.0,0.0,0.0,0.0,0.0,0.0,0.0,0.0,0.0,0.0,0.0,0.0,0.0,0.0,0.0,0.0,0.0,0.0,0.0,0.0,0.0,0.0,0.0,0.0,0.0,0.0,0.0,0.0,0.0,0.0,0.0,0.0,0.0,0.0,0.0,0.0],[0.0,0.0,0.0,0.0,0.0,0.0,0.0,0.0,0.0,0.0,0.0,0.0,0.0,0.0,0.0,0.0,0.0,0.0,0.0,0.0,0.0,0.0,0.0,1.0,1.0,1.0,1.0,1.0,0.0,0.0,0.0,0.0,0.0,0.0,0.0,0.0,0.0,0.0,0.0,0.0,0.0,0.0,0.0,0.0,0.0,0.0,0.0,0.0,0.0,0.0,0.0,0.0],[0.0,0.0,0.0,0.0,0.0,0.0,0.0,0.0,0.0,0.0,0.0,0.0,0.0,0.0,0.0,0.0,0.0,0.0,0.0,0.0,0.0,1.0,1.0,1.0,1.0,1.0,1.0,1.0,0.0,0.0,0.0,0.0,0.0,0.0,0.0,0.0,0.0,0.0,0.0,0.0,0.0,0.0,0.0,0.0,0.0,0.0,0.0,0.0,0.0,0.0,0.0,0.0],[0.0,0.0,0.0,0.0,0.0,0.0,0.0,0.0,0.0,0.0,0.0,0.0,0.0,0.0,0.0,0.0,0.0,0.0,0.0,0.0,1.0,1.0,1.0,1.0,1.0,1.0,1.0,1.0,1.0,0.0,0.0,0.0,0.0,0.0,0.0,0.0,0.0,0.0,0.0,0.0,0.0,0.0,0.0,0.0,0.0,0.0,0.0,0.0,0.0,0.0,0.0,0.0],[0.0,0.0,0.0,0.0,0.0,0.0,0.0,0.0,0.0,0.0,0.0,0.0,0.0,0.0,0.0,0.0,0.0,0.0,0.0,1.0,1.0,1.0,1.0,1.0,1.0,1.0,1.0,1.0,1.0,0.0,0.0,0.0,0.0,0.0,0.0,0.0,0.0,0.0,0.0,0.0,0.0,0.0,0.0,0.0,0.0,0.0,0.0,0.0,0.0,0.0,0.0,0.0],[0.0,0.0,0.0,0.0,0.0,0.0,0.0,0.0,0.0,0.0,0.0,0.0,0.0,0.0,0.0,0.0,0.0,0.0,1.0,1.0,1.0,1.0,1.0,1.0,1.0,1.0,1.0,1.0,0.0,0.0,0.0,0.0,0.0,0.0,0.0,0.0,0.0,0.0,0.0,0.0,0.0,0.0,0.0,0.0,0.0,0.0,0.0,0.0,0.0,0.0,0.0,0.0],[0.0,0.0,0.0,0.0,0.0,0.0,0.0,0.0,0.0,0.0,0.0,0.0,0.0,0.0,0.0,0.0,0.0,0.0,0.0,1.0,1.0,1.0,1.0,1.0,1.0,0.0,0.0,0.0,0.0,0.0,0.0,0.0,0.0,0.0,0.0,0.0,0.0,0.0,0.0,0.0,0.0,0.0,0.0,0.0,0.0,0.0,0.0,0.0,0.0,0.0,0.0,0.0],[0.0,0.0,0.0,0.0,0.0,0.0,0.0,0.0,0.0,0.0,0.0,0.0,0.0,0.0,0.0,0.0,0.0,0.0,0.0,1.0,1.0,1.0,1.0,1.0,1.0,0.0,0.0,0.0,0.0,0.0,0.0,0.0,0.0,0.0,0.0,0.0,0.0,0.0,0.0,0.0,0.0,0.0,0.0,0.0,0.0,0.0,0.0,0.0,0.0,0.0,0.0,0.0],[0.0,0.0,0.0,0.0,0.0,0.0,0.0,0.0,0.0,0.0,0.0,0.0,0.0,0.0,0.0,0.0,0.0,0.0,0.0,1.0,1.0,1.0,1.0,1.0,1.0,0.0,0.0,0.0,0.0,0.0,0.0,0.0,0.0,0.0,0.0,0.0,0.0,0.0,0.0,0.0,0.0,0.0,0.0,0.0,0.0,0.0,0.0,0.0,0.0,0.0,0.0,0.0],[0.0,0.0,0.0,0.0,0.0,0.0,0.0,0.0,0.0,0.0,0.0,0.0,0.0,0.0,0.0,0.0,0.0,0.0,0.0,1.0,1.0,1.0,1.0,1.0,1.0,1.0,0.0,0.0,0.0,0.0,0.0,0.0,0.0,0.0,0.0,0.0,0.0,0.0,0.0,0.0,0.0,0.0,0.0,0.0,0.0,0.0,0.0,0.0,0.0,0.0,0.0,0.0],[0.0,0.0,0.0,0.0,0.0,0.0,0.0,0.0,0.0,0.0,0.0,0.0,0.0,0.0,0.0,0.0,0.0,0.0,0.0,0.0,1.0,1.0,1.0,1.0,1.0,0.0,0.0,0.0,0.0,0.0,0.0,0.0,0.0,0.0,0.0,0.0,0.0,0.0,0.0,0.0,0.0,0.0,0.0,0.0,0.0,0.0,0.0,0.0,0.0,0.0,0.0,0.0],[0.0,0.0,0.0,0.0,0.0,0.0,0.0,0.0,0.0,0.0,0.0,0.0,0.0,0.0,0.0,0.0,0.0,0.0,0.0,0.0,1.0,1.0,1.0,1.0,1.0,0.0,0.0,0.0,0.0,0.0,0.0,0.0,0.0,0.0,0.0,0.0,0.0,0.0,0.0,0.0,0.0,0.0,0.0,0.0,0.0,0.0,0.0,0.0,0.0,0.0,0.0,0.0],[0.0,0.0,0.0,0.0,0.0,0.0,0.0,0.0,0.0,0.0,0.0,0.0,0.0,0.0,0.0,0.0,0.0,0.0,0.0,0.0,0.0,1.0,1.0,1.0,1.0,0.0,0.0,0.0,0.0,0.0,0.0,0.0,0.0,0.0,0.0,0.0,0.0,0.0,0.0,0.0,0.0,0.0,0.0,0.0,0.0,0.0,0.0,0.0,0.0,0.0,0.0,0.0],[0.0,0.0,0.0,0.0,0.0,0.0,0.0,0.0,0.0,0.0,0.0,0.0,0.0,0.0,0.0,0.0,0.0,0.0,0.0,0.0,0.0,1.0,1.0,1.0,1.0,0.0,0.0,0.0,0.0,0.0,0.0,0.0,0.0,0.0,0.0,0.0,0.0,0.0,0.0,0.0,0.0,0.0,0.0,0.0,0.0,0.0,0.0,0.0,0.0,0.0,0.0,0.0],[0.0,0.0,0.0,0.0,0.0,0.0,0.0,0.0,0.0,0.0,0.0,0.0,0.0,0.0,0.0,0.0,0.0,0.0,0.0,0.0,0.0,0.0,1.0,1.0,1.0,0.0,0.0,0.0,0.0,0.0,0.0,0.0,0.0,0.0,0.0,0.0,0.0,0.0,0.0,0.0,0.0,0.0,0.0,0.0,0.0,0.0,0.0,0.0,0.0,0.0,0.0,0.0],[0.0,0.0,0.0,0.0,0.0,0.0,0.0,0.0,0.0,0.0,0.0,0.0,0.0,0.0,0.0,0.0,0.0,0.0,0.0,0.0,0.0,0.0,0.0,0.0,0.0,0.0,0.0,0.0,0.0,0.0,0.0,0.0,0.0,0.0,0.0,0.0,0.0,0.0,0.0,0.0,0.0,0.0,0.0,0.0,0.0,0.0,0.0,0.0,0.0,0.0,0.0,0.0],[0.0,0.0,0.0,0.0,0.0,0.0,0.0,0.0,0.0,0.0,0.0,0.0,0.0,0.0,0.0,0.0,0.0,0.0,0.0,0.0,0.0,0.0,0.0,0.0,0.0,0.0,0.0,0.0,0.0,0.0,0.0,0.0,0.0,0.0,0.0,0.0,0.0,0.0,0.0,0.0,0.0,0.0,0.0,0.0,0.0,0.0,0.0,0.0,0.0,0.0,0.0,0.0],[0.0,0.0,0.0,0.0,0.0,0.0,0.0,0.0,0.0,0.0,0.0,0.0,0.0,0.0,0.0,0.0,0.0,0.0,0.0,0.0,0.0,0.0,0.0,0.0,0.0,0.0,0.0,0.0,0.0,0.0,0.0,0.0,0.0,0.0,0.0,0.0,0.0,0.0,0.0,0.0,0.0,0.0,0.0,0.0,0.0,0.0,0.0,0.0,0.0,0.0,0.0,0.0],[0.0,0.0,0.0,0.0,0.0,0.0,0.0,0.0,0.0,0.0,0.0,0.0,0.0,0.0,0.0,0.0,0.0,0.0,0.0,0.0,0.0,0.0,0.0,0.0,0.0,0.0,0.0,0.0,0.0,0.0,0.0,0.0,0.0,0.0,0.0,0.0,0.0,0.0,0.0,0.0,0.0,0.0,0.0,0.0,0.0,0.0,0.0,0.0,0.0,0.0,0.0,0.0],[0.0,0.0,0.0,0.0,0.0,0.0,0.0,0.0,0.0,0.0,0.0,0.0,0.0,0.0,0.0,0.0,0.0,0.0,0.0,0.0,0.0,0.0,0.0,0.0,0.0,0.0,0.0,0.0,0.0,0.0,0.0,0.0,0.0,0.0,0.0,0.0,0.0,0.0,0.0,0.0,0.0,0.0,0.0,0.0,0.0,0.0,0.0,0.0,0.0,0.0,0.0,0.0],[0.0,0.0,0.0,0.0,0.0,0.0,0.0,0.0,0.0,0.0,0.0,0.0,0.0,0.0,0.0,0.0,0.0,0.0,0.0,0.0,0.0,0.0,0.0,0.0,0.0,0.0,0.0,0.0,0.0,0.0,0.0,0.0,0.0,0.0,0.0,0.0,0.0,0.0,0.0,0.0,0.0,0.0,0.0,0.0,0.0,0.0,0.0,0.0,0.0,0.0,0.0,0.0],[0.0,0.0,0.0,0.0,0.0,0.0,0.0,0.0,0.0,0.0,0.0,0.0,0.0,0.0,0.0,0.0,0.0,0.0,0.0,0.0,0.0,0.0,0.0,0.0,0.0,0.0,0.0,0.0,0.0,0.0,0.0,0.0,0.0,0.0,0.0,0.0,0.0,0.0,0.0,0.0,0.0,0.0,0.0,0.0,0.0,0.0,0.0,0.0,0.0,0.0,0.0,0.0],[0.0,0.0,0.0,0.0,0.0,0.0,0.0,0.0,0.0,0.0,0.0,0.0,0.0,0.0,0.0,0.0,0.0,0.0,0.0,0.0,0.0,0.0,0.0,0.0,0.0,0.0,0.0,0.0,0.0,0.0,0.0,0.0,0.0,0.0,0.0,0.0,0.0,0.0,0.0,0.0,0.0,0.0,0.0,0.0,0.0,0.0,0.0,0.0,0.0,0.0,0.0,0.0],[0.0,0.0,0.0,0.0,0.0,0.0,0.0,0.0,0.0,0.0,0.0,0.0,0.0,0.0,0.0,0.0,0.0,0.0,0.0,0.0,0.0,0.0,0.0,0.0,0.0,0.0,0.0,0.0,0.0,0.0,0.0,0.0,0.0,0.0,0.0,0.0,0.0,0.0,0.0,0.0,0.0,0.0,0.0,0.0,0.0,0.0,0.0,0.0,0.0,0.0,0.0,0.0],[0.0,0.0,0.0,0.0,0.0,0.0,0.0,0.0,0.0,0.0,0.0,0.0,0.0,0.0,0.0,0.0,0.0,0.0,0.0,0.0,0.0,0.0,0.0,0.0,0.0,0.0,0.0,0.0,0.0,0.0,0.0,0.0,0.0,0.0,0.0,0.0,0.0,0.0,0.0,0.0,0.0,0.0,0.0,0.0,0.0,0.0,0.0,0.0,0.0,0.0,0.0,0.0],[0.0,0.0,0.0,0.0,0.0,0.0,0.0,0.0,0.0,0.0,0.0,0.0,0.0,0.0,0.0,0.0,0.0,0.0,0.0,0.0,0.0,0.0,0.0,0.0,0.0,0.0,0.0,0.0,0.0,0.0,0.0,0.0,0.0,0.0,0.0,0.0,0.0,0.0,0.0,0.0,0.0,0.0,0.0,0.0,0.0,0.0,0.0,0.0,0.0,0.0,0.0,0.0],[0.0,0.0,0.0,0.0,0.0,0.0,0.0,0.0,0.0,0.0,0.0,0.0,0.0,0.0,0.0,0.0,0.0,0.0,0.0,0.0,0.0,0.0,0.0,0.0,0.0,0.0,0.0,0.0,0.0,0.0,0.0,0.0,0.0,0.0,0.0,0.0,0.0,0.0,0.0,0.0,0.0,0.0,0.0,0.0,0.0,0.0,0.0,0.0,0.0,0.0,0.0,0.0],[0.0,0.0,0.0,0.0,0.0,0.0,0.0,0.0,0.0,0.0,0.0,0.0,0.0,0.0,0.0,0.0,0.0,0.0,0.0,0.0,0.0,0.0,0.0,0.0,0.0,0.0,0.0,0.0,0.0,0.0,0.0,0.0,0.0,0.0,0.0,0.0,0.0,0.0,0.0,0.0,0.0,0.0,0.0,0.0,0.0,0.0,0.0,0.0,0.0,0.0,0.0,0.0],[0.0,0.0,0.0,0.0,0.0,0.0,0.0,0.0,0.0,0.0,0.0,0.0,0.0,0.0,0.0,0.0,0.0,0.0,0.0,0.0,0.0,0.0,0.0,0.0,0.0,0.0,0.0,0.0,0.0,0.0,0.0,0.0,0.0,0.0,0.0,0.0,0.0,0.0,0.0,0.0,0.0,0.0,0.0,0.0,0.0,0.0,0.0,0.0,0.0,0.0,0.0,0.0],[0.0,0.0,0.0,0.0,0.0,0.0,0.0,0.0,0.0,0.0,0.0,0.0,0.0,0.0,0.0,0.0,0.0,0.0,0.0,0.0,0.0,0.0,0.0,0.0,0.0,0.0,0.0,0.0,0.0,0.0,0.0,0.0,0.0,0.0,0.0,0.0,0.0,0.0,0.0,0.0,0.0,0.0,0.0,0.0,0.0,0.0,0.0,0.0,0.0,0.0,0.0,0.0],[0.0,0.0,0.0,0.0,0.0,0.0,0.0,0.0,0.0,0.0,0.0,0.0,0.0,0.0,0.0,0.0,0.0,0.0,0.0,0.0,0.0,0.0,0.0,0.0,0.0,0.0,0.0,0.0,0.0,0.0,0.0,0.0,0.0,0.0,0.0,0.0,0.0,0.0,0.0,0.0,0.0,0.0,0.0,0.0,0.0,0.0,0.0,0.0,0.0,0.0,0.0,0.0],[0.0,0.0,0.0,0.0,0.0,0.0,0.0,0.0,0.0,0.0,0.0,0.0,0.0,0.0,0.0,0.0,0.0,0.0,0.0,0.0,0.0,0.0,0.0,0.0,0.0,0.0,0.0,0.0,0.0,0.0,0.0,0.0,0.0,0.0,0.0,0.0,0.0,0.0,0.0,0.0,0.0,0.0,0.0,0.0,0.0,0.0,0.0,0.0,0.0,0.0,0.0,0.0],[0.0,0.0,0.0,0.0,0.0,0.0,0.0,0.0,0.0,0.0,0.0,0.0,0.0,0.0,0.0,0.0,0.0,0.0,0.0,0.0,0.0,0.0,0.0,0.0,0.0,0.0,0.0,0.0,0.0,0.0,0.0,0.0,0.0,0.0,0.0,0.0,0.0,0.0,0.0,0.0,0.0,0.0,0.0,0.0,0.0,0.0,0.0,0.0,0.0,0.0,0.0,0.0],[0.0,0.0,0.0,0.0,0.0,0.0,0.0,0.0,0.0,0.0,0.0,0.0,0.0,0.0,0.0,0.0,0.0,0.0,0.0,0.0,0.0,0.0,0.0,0.0,0.0,0.0,0.0,0.0,0.0,0.0,0.0,0.0,0.0,0.0,0.0,0.0,0.0,0.0,0.0,0.0,0.0,0.0,0.0,0.0,0.0,0.0,0.0,0.0,0.0,0.0,0.0,0.0],[0.0,0.0,0.0,0.0,0.0,0.0,0.0,0.0,0.0,0.0,0.0,0.0,0.0,0.0,0.0,0.0,0.0,0.0,0.0,0.0,0.0,0.0,0.0,0.0,0.0,0.0,0.0,0.0,0.0,0.0,0.0,0.0,0.0,0.0,0.0,0.0,0.0,0.0,0.0,0.0,0.0,0.0,0.0,0.0,0.0,0.0,0.0,0.0,0.0,0.0,0.0,0.0],[0.0,0.0,0.0,0.0,0.0,0.0,0.0,0.0,0.0,0.0,0.0,0.0,0.0,0.0,0.0,0.0,0.0,0.0,0.0,0.0,0.0,0.0,0.0,0.0,0.0,0.0,0.0,0.0,0.0,0.0,0.0,0.0,0.0,0.0,0.0,0.0,0.0,0.0,0.0,0.0,0.0,0.0,0.0,0.0,0.0,0.0,0.0,0.0,0.0,0.0,0.0,0.0],[0.0,0.0,0.0,0.0,0.0,0.0,0.0,0.0,0.0,0.0,0.0,0.0,0.0,0.0,0.0,0.0,0.0,0.0,0.0,0.0,0.0,0.0,0.0,0.0,0.0,0.0,0.0,0.0,0.0,0.0,0.0,0.0,0.0,0.0,0.0,0.0,0.0,0.0,0.0,0.0,0.0,0.0,0.0,0.0,0.0,0.0,0.0,0.0,0.0,0.0,0.0,0.0],[0.0,0.0,0.0,0.0,0.0,0.0,0.0,0.0,0.0,0.0,0.0,0.0,0.0,0.0,0.0,0.0,0.0,0.0,0.0,0.0,0.0,0.0,0.0,0.0,0.0,0.0,0.0,0.0,0.0,0.0,0.0,0.0,0.0,0.0,0.0,0.0,0.0,0.0,0.0,0.0,0.0,0.0,0.0,0.0,0.0,0.0,0.0,0.0,0.0,0.0,0.0,0.0],[0.0,0.0,0.0,0.0,0.0,0.0,0.0,0.0,0.0,0.0,0.0,0.0,0.0,0.0,0.0,0.0,0.0,0.0,0.0,0.0,0.0,0.0,0.0,0.0,0.0,0.0,0.0,0.0,0.0,0.0,0.0,0.0,0.0,0.0,0.0,0.0,0.0,0.0,0.0,0.0,0.0,0.0,0.0,0.0,0.0,0.0,0.0,0.0,0.0,0.0,0.0,0.0],[0.0,0.0,0.0,0.0,0.0,0.0,0.0,0.0,0.0,0.0,0.0,0.0,0.0,0.0,0.0,0.0,0.0,0.0,0.0,0.0,0.0,0.0,0.0,0.0,0.0,0.0,0.0,0.0,0.0,0.0,0.0,0.0,0.0,0.0,0.0,0.0,0.0,0.0,0.0,0.0,0.0,0.0,0.0,0.0,0.0,0.0,0.0,0.0,0.0,0.0,0.0,0.0],[0.0,0.0,0.0,0.0,0.0,0.0,0.0,0.0,0.0,0.0,0.0,0.0,0.0,0.0,0.0,0.0,0.0,0.0,0.0,0.0,0.0,0.0,0.0,0.0,0.0,0.0,0.0,0.0,0.0,0.0,0.0,0.0,0.0,0.0,0.0,0.0,0.0,0.0,0.0,0.0,0.0,0.0,0.0,0.0,0.0,0.0,0.0,0.0,0.0,0.0,0.0,0.0],[0.0,0.0,0.0,0.0,0.0,0.0,0.0,0.0,0.0,0.0,0.0,0.0,0.0,0.0,0.0,0.0,0.0,0.0,0.0,0.0,0.0,0.0,0.0,0.0,0.0,0.0,0.0,0.0,0.0,0.0,0.0,0.0,0.0,0.0,0.0,0.0,0.0,0.0,0.0,0.0,0.0,0.0,0.0,0.0,0.0,0.0,0.0,0.0,0.0,0.0,0.0,0.0],[0.0,0.0,0.0,0.0,0.0,0.0,0.0,0.0,0.0,0.0,0.0,0.0,0.0,0.0,0.0,0.0,0.0,0.0,0.0,0.0,0.0,0.0,0.0,0.0,0.0,0.0,0.0,0.0,0.0,0.0,0.0,0.0,0.0,0.0,0.0,0.0,0.0,0.0,0.0,0.0,0.0,0.0,0.0,0.0,0.0,0.0,0.0,0.0,0.0,0.0,0.0,0.0],[0.0,0.0,0.0,0.0,0.0,0.0,0.0,0.0,0.0,0.0,0.0,0.0,0.0,0.0,0.0,0.0,0.0,0.0,0.0,0.0,0.0,0.0,0.0,0.0,0.0,0.0,0.0,0.0,0.0,0.0,0.0,0.0,0.0,0.0,0.0,0.0,0.0,0.0,0.0,0.0,0.0,0.0,0.0,0.0,0.0,0.0,0.0,0.0,0.0,0.0,0.0,0.0],[0.0,0.0,0.0,0.0,0.0,0.0,0.0,0.0,0.0,0.0,0.0,0.0,0.0,0.0,0.0,0.0,0.0,0.0,0.0,0.0,0.0,0.0,0.0,0.0,0.0,0.0,0.0,0.0,0.0,0.0,0.0,0.0,0.0,0.0,0.0,0.0,0.0,0.0,0.0,0.0,0.0,0.0,0.0,0.0,0.0,0.0,0.0,0.0,0.0,0.0,0.0,0.0],[0.0,0.0,0.0,0.0,0.0,0.0,0.0,0.0,0.0,0.0,0.0,0.0,0.0,0.0,0.0,0.0,0.0,0.0,0.0,0.0,0.0,0.0,0.0,0.0,0.0,0.0,0.0,0.0,0.0,0.0,0.0,0.0,0.0,0.0,0.0,0.0,0.0,0.0,0.0,0.0,0.0,0.0,0.0,0.0,0.0,0.0,0.0,0.0,0.0,0.0,0.0,0.0],[0.0,0.0,0.0,0.0,0.0,0.0,0.0,0.0,0.0,0.0,0.0,0.0,0.0,0.0,0.0,0.0,0.0,0.0,0.0,0.0,0.0,0.0,0.0,0.0,0.0,0.0,0.0,0.0,0.0,0.0,0.0,0.0,0.0,0.0,0.0,0.0,0.0,0.0,0.0,0.0,0.0,0.0,0.0,0.0,0.0,0.0,0.0,0.0,0.0,0.0,0.0,0.0],[0.0,0.0,0.0,0.0,0.0,0.0,0.0,0.0,0.0,0.0,0.0,0.0,0.0,0.0,0.0,0.0,0.0,0.0,0.0,0.0,0.0,0.0,0.0,0.0,0.0,0.0,0.0,0.0,0.0,0.0,0.0,0.0,0.0,0.0,0.0,0.0,0.0,0.0,0.0,0.0,0.0,0.0,0.0,0.0,0.0,0.0,0.0,0.0,0.0,0.0,0.0,0.0],[0.0,0.0,0.0,0.0,0.0,0.0,0.0,0.0,0.0,0.0,0.0,0.0,0.0,0.0,0.0,0.0,0.0,0.0,0.0,0.0,0.0,0.0,0.0,0.0,0.0,0.0,0.0,0.0,0.0,0.0,0.0,0.0,0.0,0.0,0.0,0.0,0.0,0.0,0.0,0.0,0.0,0.0,0.0,0.0,0.0,0.0,0.0,0.0,0.0,0.0,0.0,0.0],[0.0,0.0,0.0,0.0,0.0,0.0,0.0,0.0,0.0,0.0,0.0,0.0,0.0,0.0,0.0,0.0,0.0,0.0,0.0,0.0,0.0,0.0,0.0,0.0,0.0,0.0,0.0,0.0,0.0,0.0,0.0,0.0,0.0,0.0,0.0,0.0,0.0,0.0,0.0,0.0,0.0,0.0,0.0,0.0,0.0,0.0,0.0,0.0,0.0,0.0,0.0,0.0],[0.0,0.0,0.0,0.0,0.0,0.0,0.0,0.0,0.0,0.0,0.0,0.0,0.0,0.0,0.0,0.0,0.0,0.0,0.0,0.0,0.0,0.0,0.0,0.0,0.0,0.0,0.0,0.0,0.0,0.0,0.0,0.0,0.0,0.0,0.0,0.0,0.0,0.0,0.0,0.0,0.0,0.0,0.0,0.0,0.0,0.0,0.0,0.0,0.0,0.0,0.0,0.0],[0.0,0.0,0.0,0.0,0.0,0.0,0.0,0.0,0.0,0.0,0.0,0.0,0.0,0.0,0.0,0.0,0.0,0.0,0.0,0.0,0.0,0.0,0.0,0.0,0.0,0.0,0.0,0.0,0.0,0.0,0.0,0.0,0.0,0.0,0.0,0.0,0.0,0.0,0.0,0.0,0.0,0.0,0.0,0.0,0.0,0.0,0.0,0.0,0.0,0.0,0.0,0.0],[0.0,0.0,0.0,0.0,0.0,0.0,0.0,0.0,0.0,0.0,0.0,0.0,0.0,0.0,0.0,0.0,0.0,0.0,0.0,0.0,0.0,0.0,0.0,0.0,0.0,0.0,0.0,0.0,0.0,0.0,0.0,0.0,0.0,0.0,0.0,0.0,0.0,0.0,0.0,0.0,0.0,0.0,0.0,0.0,0.0,0.0,0.0,0.0,0.0,0.0,0.0,0.0],[0.0,0.0,0.0,0.0,0.0,0.0,0.0,0.0,0.0,0.0,0.0,0.0,0.0,0.0,0.0,0.0,0.0,0.0,0.0,0.0,0.0,0.0,0.0,0.0,0.0,0.0,0.0,0.0,0.0,0.0,0.0,0.0,0.0,0.0,0.0,0.0,0.0,0.0,0.0,0.0,0.0,0.0,0.0,0.0,0.0,0.0,0.0,0.0,0.0,0.0,0.0,0.0],[0.0,0.0,0.0,0.0,0.0,0.0,0.0,0.0,0.0,0.0,0.0,0.0,0.0,0.0,0.0,0.0,0.0,0.0,0.0,0.0,0.0,0.0,0.0,0.0,0.0,0.0,0.0,0.0,0.0,0.0,0.0,0.0,0.0,0.0,0.0,0.0,0.0,0.0,0.0,0.0,0.0,0.0,0.0,0.0,0.0,0.0,0.0,0.0,0.0,0.0,0.0,0.0],[0.0,0.0,0.0,0.0,0.0,0.0,0.0,0.0,0.0,0.0,0.0,0.0,0.0,0.0,0.0,0.0,0.0,0.0,0.0,0.0,0.0,0.0,0.0,0.0,0.0,0.0,0.0,0.0,0.0,0.0,0.0,0.0,0.0,0.0,0.0,0.0,0.0,0.0,0.0,0.0,0.0,0.0,0.0,0.0,0.0,0.0,0.0,0.0,0.0,0.0,0.0,0.0]]],\"x\":[0],\"y\":[0]}},\"id\":\"fcccde7e-1b51-4fc0-9920-95d01c2afd03\",\"type\":\"ColumnDataSource\"},{\"attributes\":{\"below\":[{\"id\":\"b44cbd1b-1f6b-4ccb-aef4-a03ecc66f4e9\",\"type\":\"LinearAxis\"}],\"left\":[{\"id\":\"d397a613-de32-4b42-a582-93698820db59\",\"type\":\"LinearAxis\"}],\"plot_height\":400,\"plot_width\":400,\"renderers\":[{\"id\":\"b44cbd1b-1f6b-4ccb-aef4-a03ecc66f4e9\",\"type\":\"LinearAxis\"},{\"id\":\"74a0a9aa-fec2-4e32-83bf-c35b6d33fb3f\",\"type\":\"Grid\"},{\"id\":\"d397a613-de32-4b42-a582-93698820db59\",\"type\":\"LinearAxis\"},{\"id\":\"af4fb081-2a42-4fb5-a9a6-40aa32d3a247\",\"type\":\"Grid\"},{\"id\":\"6458737d-edd1-4ffa-a5c2-c97fe7406fb4\",\"type\":\"BoxAnnotation\"},{\"id\":\"5a98f8b6-d30a-4545-b049-5ec260d4b7ea\",\"type\":\"GlyphRenderer\"}],\"title\":{\"id\":\"c6fffd5a-1c5c-4ce6-a8bf-ef5bb3a4f2de\",\"type\":\"Title\"},\"tool_events\":{\"id\":\"a4788fa8-3d58-418e-9de1-02898f13c2d1\",\"type\":\"ToolEvents\"},\"toolbar\":{\"id\":\"d8fda21b-24a4-4fe7-8bdb-f77c924a6e37\",\"type\":\"Toolbar\"},\"x_range\":{\"id\":\"68df198b-a7f0-436c-9fe2-80407944a43d\",\"type\":\"Range1d\"},\"y_range\":{\"id\":\"0bd2ed8b-10f9-4445-9627-d345d0327bd9\",\"type\":\"Range1d\"}},\"id\":\"688dcbe6-3dc3-4416-a9f2-a56ce80f8446\",\"subtype\":\"Figure\",\"type\":\"Plot\"}],\"root_ids\":[\"688dcbe6-3dc3-4416-a9f2-a56ce80f8446\"]},\"title\":\"Bokeh Application\",\"version\":\"0.12.0\"}};\n",
       "            var render_items = [{\"docid\":\"2f0f7e18-ccfc-4c5a-a26e-17c4eba14d2f\",\"elementid\":\"7192cf4d-84bf-4a09-a82b-4c88f5b71a01\",\"modelid\":\"688dcbe6-3dc3-4416-a9f2-a56ce80f8446\",\"notebook_comms_target\":\"aec36475-1146-418d-bf26-62e8a71e5894\"}];\n",
       "            \n",
       "            Bokeh.embed.embed_items(docs_json, render_items);\n",
       "        });\n",
       "      },\n",
       "      function(Bokeh) {\n",
       "      }\n",
       "    ];\n",
       "  \n",
       "    function run_inline_js() {\n",
       "      for (var i = 0; i < inline_js.length; i++) {\n",
       "        inline_js[i](window.Bokeh);\n",
       "      }\n",
       "    }\n",
       "  \n",
       "    if (window._bokeh_is_loading === 0) {\n",
       "      console.log(\"Bokeh: BokehJS loaded, going straight to plotting\");\n",
       "      run_inline_js();\n",
       "    } else {\n",
       "      load_libs(js_urls, function() {\n",
       "        console.log(\"Bokeh: BokehJS plotting callback run at\", now());\n",
       "        run_inline_js();\n",
       "      });\n",
       "    }\n",
       "  }(this));\n",
       "</script>"
      ]
     },
     "metadata": {},
     "output_type": "display_data"
    },
    {
     "data": {
      "text/html": [
       "<p><code>&lt;Bokeh Notebook handle for <strong>In[10]</strong>&gt;</code></p>"
      ],
      "text/plain": [
       "<bokeh.io._CommsHandle at 0x2aced32e5a90>"
      ]
     },
     "execution_count": 10,
     "metadata": {},
     "output_type": "execute_result"
    }
   ],
   "source": [
    "mask_data = mask.get_data()\n",
    "coronal_plane = mask_data[:,int(mask_data.shape[1] / 2), :]\n",
    "p = figure(title=\"PPA Mask\",plot_width=400, plot_height=400, \\\n",
    "               x_range=(0, mask.shape[0]), y_range=(0, mask.shape[1]))\n",
    "p.axis.visible = False\n",
    "p.image(image=[coronal_plane], x=[0], y=[0], dw=[mask.shape[0]], dh=[mask.shape[1]])\n",
    "show(p)"
   ]
  },
  {
   "cell_type": "markdown",
   "metadata": {},
   "source": [
    "### Plot a voxel time-series\n",
    "\n",
    "After masking, the fMRI dataset at this stage is in the format rows=time x columns=voxels. First, we'll transpose the data to make the time series go across columns. Each time-point will be a column vector of voxel values.   "
   ]
  },
  {
   "cell_type": "code",
   "execution_count": 11,
   "metadata": {
    "collapsed": false
   },
   "outputs": [
    {
     "name": "stdout",
     "output_type": "stream",
     "text": [
      "(310, 2504)\n",
      "(2504, 310)\n"
     ]
    }
   ],
   "source": [
    "# What is the dimensionality of the data\n",
    "print(epi_mask_data.shape)\n",
    "\n",
    "maskedData = np.transpose(np.copy(epi_mask_data))\n",
    "print(maskedData.shape)"
   ]
  },
  {
   "cell_type": "code",
   "execution_count": 12,
   "metadata": {
    "collapsed": false
   },
   "outputs": [
    {
     "data": {
      "text/html": [
       "\n",
       "\n",
       "    <div class=\"bk-root\">\n",
       "        <div class=\"plotdiv\" id=\"a313fe16-d29b-4d8c-aef5-4b2ef4ffd016\"></div>\n",
       "    </div>\n",
       "<script type=\"text/javascript\">\n",
       "  \n",
       "  (function(global) {\n",
       "    function now() {\n",
       "      return new Date();\n",
       "    }\n",
       "  \n",
       "    if (typeof (window._bokeh_onload_callbacks) === \"undefined\") {\n",
       "      window._bokeh_onload_callbacks = [];\n",
       "    }\n",
       "  \n",
       "    function run_callbacks() {\n",
       "      window._bokeh_onload_callbacks.forEach(function(callback) { callback() });\n",
       "      delete window._bokeh_onload_callbacks\n",
       "      console.info(\"Bokeh: all callbacks have finished\");\n",
       "    }\n",
       "  \n",
       "    function load_libs(js_urls, callback) {\n",
       "      window._bokeh_onload_callbacks.push(callback);\n",
       "      if (window._bokeh_is_loading > 0) {\n",
       "        console.log(\"Bokeh: BokehJS is being loaded, scheduling callback at\", now());\n",
       "        return null;\n",
       "      }\n",
       "      if (js_urls == null || js_urls.length === 0) {\n",
       "        run_callbacks();\n",
       "        return null;\n",
       "      }\n",
       "      console.log(\"Bokeh: BokehJS not loaded, scheduling load and callback at\", now());\n",
       "      window._bokeh_is_loading = js_urls.length;\n",
       "      for (var i = 0; i < js_urls.length; i++) {\n",
       "        var url = js_urls[i];\n",
       "        var s = document.createElement('script');\n",
       "        s.src = url;\n",
       "        s.async = false;\n",
       "        s.onreadystatechange = s.onload = function() {\n",
       "          window._bokeh_is_loading--;\n",
       "          if (window._bokeh_is_loading === 0) {\n",
       "            console.log(\"Bokeh: all BokehJS libraries loaded\");\n",
       "            run_callbacks()\n",
       "          }\n",
       "        };\n",
       "        s.onerror = function() {\n",
       "          console.warn(\"failed to load library \" + url);\n",
       "        };\n",
       "        console.log(\"Bokeh: injecting script tag for BokehJS library: \", url);\n",
       "        document.getElementsByTagName(\"head\")[0].appendChild(s);\n",
       "      }\n",
       "    };var element = document.getElementById(\"a313fe16-d29b-4d8c-aef5-4b2ef4ffd016\");\n",
       "    if (element == null) {\n",
       "      console.log(\"Bokeh: ERROR: autoload.js configured with elementid 'a313fe16-d29b-4d8c-aef5-4b2ef4ffd016' but no matching script tag was found. \")\n",
       "      return false;\n",
       "    }\n",
       "  \n",
       "    var js_urls = [];\n",
       "  \n",
       "    var inline_js = [\n",
       "      function(Bokeh) {\n",
       "        Bokeh.$(function() {\n",
       "            var docs_json = {\"922c35ea-91ab-446b-b23b-2d6441ba97f5\":{\"roots\":{\"references\":[{\"attributes\":{\"overlay\":{\"id\":\"e2ad2ded-b212-404d-a600-f2d7bb5acf93\",\"type\":\"BoxAnnotation\"},\"plot\":{\"id\":\"aad3017c-2b3d-4422-bfd3-26a5edb62ce0\",\"subtype\":\"Figure\",\"type\":\"Plot\"}},\"id\":\"d4e1a0cf-0956-4fcc-b851-347ce5cd6464\",\"type\":\"BoxZoomTool\"},{\"attributes\":{\"plot\":{\"id\":\"aad3017c-2b3d-4422-bfd3-26a5edb62ce0\",\"subtype\":\"Figure\",\"type\":\"Plot\"}},\"id\":\"06cffc24-7e9b-4ebe-82ef-5b5fd93611e6\",\"type\":\"WheelZoomTool\"},{\"attributes\":{\"plot\":{\"id\":\"aad3017c-2b3d-4422-bfd3-26a5edb62ce0\",\"subtype\":\"Figure\",\"type\":\"Plot\"},\"ticker\":{\"id\":\"b2470f43-73be-47c3-a925-1a871a9b11cf\",\"type\":\"BasicTicker\"}},\"id\":\"d394ef46-619f-4c41-ad06-70bf2f3c4e22\",\"type\":\"Grid\"},{\"attributes\":{},\"id\":\"6a7d9cd2-6ea8-4777-8354-6575ecf7a8e9\",\"type\":\"BasicTickFormatter\"},{\"attributes\":{\"active_drag\":\"auto\",\"active_scroll\":\"auto\",\"active_tap\":\"auto\",\"tools\":[{\"id\":\"f032364e-48b8-454d-9706-20e9639681ea\",\"type\":\"PanTool\"},{\"id\":\"06cffc24-7e9b-4ebe-82ef-5b5fd93611e6\",\"type\":\"WheelZoomTool\"},{\"id\":\"d4e1a0cf-0956-4fcc-b851-347ce5cd6464\",\"type\":\"BoxZoomTool\"},{\"id\":\"5ac479cd-1461-4f01-9c4b-c6516cbed175\",\"type\":\"SaveTool\"},{\"id\":\"9db45b9a-4fe7-4666-afa5-9221aced4143\",\"type\":\"ResetTool\"},{\"id\":\"ad3947e4-2366-4a49-8e14-daf0a334f9fb\",\"type\":\"HelpTool\"}]},\"id\":\"b4c4062e-c293-4e04-99f6-5d5eeff43a31\",\"type\":\"Toolbar\"},{\"attributes\":{\"plot\":{\"id\":\"aad3017c-2b3d-4422-bfd3-26a5edb62ce0\",\"subtype\":\"Figure\",\"type\":\"Plot\"}},\"id\":\"f032364e-48b8-454d-9706-20e9639681ea\",\"type\":\"PanTool\"},{\"attributes\":{\"callback\":null},\"id\":\"4ac93c70-b711-459a-915e-f58b6dcd4936\",\"type\":\"DataRange1d\"},{\"attributes\":{},\"id\":\"9ac2827c-80ac-4913-bb3b-dd24f6d05537\",\"type\":\"BasicTicker\"},{\"attributes\":{\"plot\":{\"id\":\"aad3017c-2b3d-4422-bfd3-26a5edb62ce0\",\"subtype\":\"Figure\",\"type\":\"Plot\"}},\"id\":\"9db45b9a-4fe7-4666-afa5-9221aced4143\",\"type\":\"ResetTool\"},{\"attributes\":{\"callback\":null,\"column_names\":[\"y\",\"x\"],\"data\":{\"x\":[1,2,3,4,5,6,7,8,9,10,11,12,13,14,15,16,17,18,19,20,21,22,23,24,25,26,27,28,29,30,31,32,33,34,35,36,37,38,39,40,41,42,43,44,45,46,47,48,49,50,51,52,53,54,55,56,57,58,59,60,61,62,63,64,65,66,67,68,69,70,71,72,73,74,75,76,77,78,79,80,81,82,83,84,85,86,87,88,89,90,91,92,93,94,95,96,97,98,99,100,101,102,103,104,105,106,107,108,109,110,111,112,113,114,115,116,117,118,119,120,121,122,123,124,125,126,127,128,129,130,131,132,133,134,135,136,137,138,139,140,141,142,143,144,145,146,147,148,149,150,151,152,153,154,155,156,157,158,159,160,161,162,163,164,165,166,167,168,169,170,171,172,173,174,175,176,177,178,179,180,181,182,183,184,185,186,187,188,189,190,191,192,193,194,195,196,197,198,199,200,201,202,203,204,205,206,207,208,209,210,211,212,213,214,215,216,217,218,219,220,221,222,223,224,225,226,227,228,229,230,231,232,233,234,235,236,237,238,239,240,241,242,243,244,245,246,247,248,249,250,251,252,253,254,255,256,257,258,259,260,261,262,263,264,265,266,267,268,269,270,271,272,273,274,275,276,277,278,279,280,281,282,283,284,285,286,287,288,289,290,291,292,293,294,295,296,297,298,299,300,301,302,303,304,305,306,307,308,309,310],\"y\":[8463.263671875,8230.48828125,9070.1279296875,8507.28515625,10056.48828125,9419.7470703125,10181.73828125,9435.2177734375,11907.2001953125,7993.90576171875,11122.904296875,11548.728515625,7736.64404296875,9369.271484375,11507.892578125,8469.267578125,8480.689453125,9038.0400390625,10241.296875,7659.6240234375,8010.787109375,9442.1826171875,7651.32861328125,7911.21435546875,9049.66796875,7872.8544921875,8646.556640625,8895.9970703125,8881.158203125,8644.5380859375,12497.98046875,12913.7216796875,12994.6689453125,10491.2880859375,11664.81640625,9816.314453125,11686.146484375,11444.6181640625,9109.6064453125,10897.4287109375,10541.6669921875,8958.4140625,10369.7080078125,10643.9091796875,10208.751953125,7784.68896484375,8766.005859375,9978.779296875,10507.009765625,7714.32958984375,8217.2431640625,9407.240234375,10184.216796875,7485.90869140625,8937.705078125,9833.31640625,9868.302734375,6659.998046875,6812.80322265625,8860.5869140625,9893.3115234375,10402.9912109375,6208.56494140625,8251.736328125,9579.423828125,10530.8603515625,7810.4375,9486.1279296875,10276.8359375,8699.55078125,6693.673828125,8042.2041015625,5581.7861328125,6374.1484375,3969.425048828125,14916.0888671875,11689.080078125,12179.75390625,7746.1591796875,9119.162109375,11132.32421875,7799.3251953125,8488.45703125,10694.9794921875,10344.6162109375,7523.4931640625,8173.76904296875,10480.7783203125,10743.103515625,8464.11328125,7426.6455078125,8754.193359375,10109.138671875,10332.0146484375,9955.5546875,8214.072265625,7616.35888671875,8829.607421875,9534.625,10266.921875,7121.0126953125,8232.4296875,8890.69140625,9819.283203125,9736.33203125,6792.7099609375,6437.5712890625,7578.55078125,8685.9521484375,9385.0888671875,9452.658203125,6572.623046875,7741.91796875,9247.0068359375,9270.3740234375,9733.388671875,6644.728515625,7375.7529296875,9416.6669921875,8823.9541015625,10227.7109375,6411.7099609375,6627.2099609375,8845.8642578125,9042.796875,9692.9150390625,9269.1728515625,6557.2470703125,6409.0810546875,5866.5380859375,7737.1708984375,9058.23828125,9317.2568359375,6807.80224609375,6244.7587890625,5962.796875,5683.5625,6494.15283203125,9331.2783203125,9515.5087890625,6509.2421875,6073.404296875,5412.47119140625,5759.4228515625,6385.4853515625,7577.63623046875,9441.0859375,6455.2138671875,5512.67041015625,3950.52099609375,6279.0693359375,6633.392578125,6909.73681640625,3839.960205078125,11650.2607421875,9593.83984375,10226.765625,7876.755859375,8242.91015625,9602.8720703125,8206.91796875,7899.00927734375,9422.1728515625,8161.43212890625,8567.5908203125,10474.91796875,10729.0107421875,8665.75,7674.64697265625,8611.53125,9798.1220703125,10069.61328125,8562.318359375,7615.251953125,8129.10107421875,8758.6728515625,9791.9189453125,8125.1435546875,7738.3466796875,8819.9365234375,8911.2451171875,9724.13671875,7210.2265625,6904.93603515625,8087.27734375,8791.287109375,9176.8349609375,8685.1845703125,7366.1025390625,6464.55517578125,5844.75341796875,7395.783203125,8902.5087890625,8409.986328125,8810.5234375,6066.7705078125,5855.82421875,6961.7998046875,9839.892578125,7827.93798828125,9067.1259765625,5965.82568359375,5596.4814453125,6376.533203125,8905.43359375,7806.697265625,9568.0341796875,9343.1064453125,6325.400390625,6094.63037109375,5987.13525390625,8282.1064453125,8103.1328125,8888.9853515625,7122.26123046875,6400.619140625,6088.5888671875,5812.85888671875,7042.9140625,8958.83984375,7728.21826171875,6862.1875,6692.19921875,6187.4267578125,6097.9287109375,6617.75390625,8307.62890625,8225.9150390625,6611.61328125,7031.189453125,6983.1396484375,7234.23046875,6428.4658203125,7304.45654296875,6831.98095703125,6842.9111328125,7793.1767578125,6657.43798828125,8225.5224609375,7302.41796875,7420.42919921875,9745.6669921875,8645.9501953125,7542.16650390625,7035.5703125,9601.697265625,8381.2001953125,7728.64794921875,7009.080078125,9235.5927734375,8191.3251953125,7706.748046875,7744.22607421875,9122.1416015625,7945.52099609375,7562.57080078125,7289.21728515625,9247.9833984375,9015.025390625,7065.03271484375,7998.31298828125,7344.8115234375,7325.72998046875,8687.4580078125,8884.5546875,7742.40478515625,6990.6376953125,7148.84521484375,8840.4326171875,8110.8173828125,6457.439453125,6919.384765625,6929.2626953125,6939.98681640625,6994.77490234375,8706.359375,8020.7978515625,7727.76806640625,6685.39794921875,6536.0537109375,6559.09716796875,9112.0322265625,7777.03857421875,7502.6474609375,7770.45654296875,6758.1240234375,6279.40234375,6800.9765625,8119.25732421875,7623.02978515625,8387.6318359375,7347.72314453125,7029.5439453125,6160.728515625,6303.3193359375,7745.29736328125,7745.44287109375,8414.33984375,7561.4853515625,6976.923828125,6450.79541015625,6178.228515625,7220.3564453125,8112.1923828125,7842.173828125,7367.052734375,6990.0205078125,6282.97802734375,6827.322265625,7870.25146484375]}},\"id\":\"7ee0da07-1559-4533-87db-b2023937a289\",\"type\":\"ColumnDataSource\"},{\"attributes\":{\"axis_label\":\"Voxel Intensity\",\"formatter\":{\"id\":\"476b5e1a-aabd-4474-9c6b-7146e64d79f0\",\"type\":\"BasicTickFormatter\"},\"plot\":{\"id\":\"aad3017c-2b3d-4422-bfd3-26a5edb62ce0\",\"subtype\":\"Figure\",\"type\":\"Plot\"},\"ticker\":{\"id\":\"9ac2827c-80ac-4913-bb3b-dd24f6d05537\",\"type\":\"BasicTicker\"}},\"id\":\"adbeb162-a2de-46e3-980c-8c9da187a002\",\"type\":\"LinearAxis\"},{\"attributes\":{},\"id\":\"f336938d-ddaa-4c42-9896-a6f886bdc4b4\",\"type\":\"ToolEvents\"},{\"attributes\":{\"dimension\":1,\"plot\":{\"id\":\"aad3017c-2b3d-4422-bfd3-26a5edb62ce0\",\"subtype\":\"Figure\",\"type\":\"Plot\"},\"ticker\":{\"id\":\"9ac2827c-80ac-4913-bb3b-dd24f6d05537\",\"type\":\"BasicTicker\"}},\"id\":\"c03527ac-2d29-40d6-b798-f3dfaeed63b4\",\"type\":\"Grid\"},{\"attributes\":{\"plot\":null,\"text\":\"Voxel time-series Run 1 for voxel number = 100\"},\"id\":\"7987703c-ae0c-4164-98bd-9590f2b84702\",\"type\":\"Title\"},{\"attributes\":{\"plot\":{\"id\":\"aad3017c-2b3d-4422-bfd3-26a5edb62ce0\",\"subtype\":\"Figure\",\"type\":\"Plot\"}},\"id\":\"5ac479cd-1461-4f01-9c4b-c6516cbed175\",\"type\":\"SaveTool\"},{\"attributes\":{\"axis_label\":\"TR\",\"formatter\":{\"id\":\"6a7d9cd2-6ea8-4777-8354-6575ecf7a8e9\",\"type\":\"BasicTickFormatter\"},\"plot\":{\"id\":\"aad3017c-2b3d-4422-bfd3-26a5edb62ce0\",\"subtype\":\"Figure\",\"type\":\"Plot\"},\"ticker\":{\"id\":\"b2470f43-73be-47c3-a925-1a871a9b11cf\",\"type\":\"BasicTicker\"}},\"id\":\"03e63404-164d-415c-9364-6fbdf7400909\",\"type\":\"LinearAxis\"},{\"attributes\":{\"line_alpha\":{\"value\":0.1},\"line_color\":{\"value\":\"#1f77b4\"},\"x\":{\"field\":\"x\"},\"y\":{\"field\":\"y\"}},\"id\":\"dac63160-2f07-459e-a1a0-320486a82ed6\",\"type\":\"Line\"},{\"attributes\":{\"line_color\":{\"value\":\"#1f77b4\"},\"x\":{\"field\":\"x\"},\"y\":{\"field\":\"y\"}},\"id\":\"b2c5ef33-a1c7-46af-a54b-fc35befc159c\",\"type\":\"Line\"},{\"attributes\":{\"bottom_units\":\"screen\",\"fill_alpha\":{\"value\":0.5},\"fill_color\":{\"value\":\"lightgrey\"},\"left_units\":\"screen\",\"level\":\"overlay\",\"line_alpha\":{\"value\":1.0},\"line_color\":{\"value\":\"black\"},\"line_dash\":[4,4],\"line_width\":{\"value\":2},\"plot\":null,\"render_mode\":\"css\",\"right_units\":\"screen\",\"top_units\":\"screen\"},\"id\":\"e2ad2ded-b212-404d-a600-f2d7bb5acf93\",\"type\":\"BoxAnnotation\"},{\"attributes\":{},\"id\":\"476b5e1a-aabd-4474-9c6b-7146e64d79f0\",\"type\":\"BasicTickFormatter\"},{\"attributes\":{\"below\":[{\"id\":\"03e63404-164d-415c-9364-6fbdf7400909\",\"type\":\"LinearAxis\"}],\"left\":[{\"id\":\"adbeb162-a2de-46e3-980c-8c9da187a002\",\"type\":\"LinearAxis\"}],\"renderers\":[{\"id\":\"03e63404-164d-415c-9364-6fbdf7400909\",\"type\":\"LinearAxis\"},{\"id\":\"d394ef46-619f-4c41-ad06-70bf2f3c4e22\",\"type\":\"Grid\"},{\"id\":\"adbeb162-a2de-46e3-980c-8c9da187a002\",\"type\":\"LinearAxis\"},{\"id\":\"c03527ac-2d29-40d6-b798-f3dfaeed63b4\",\"type\":\"Grid\"},{\"id\":\"e2ad2ded-b212-404d-a600-f2d7bb5acf93\",\"type\":\"BoxAnnotation\"},{\"id\":\"8132190a-0548-42d4-b213-1cdbbaf836a9\",\"type\":\"GlyphRenderer\"}],\"title\":{\"id\":\"7987703c-ae0c-4164-98bd-9590f2b84702\",\"type\":\"Title\"},\"tool_events\":{\"id\":\"f336938d-ddaa-4c42-9896-a6f886bdc4b4\",\"type\":\"ToolEvents\"},\"toolbar\":{\"id\":\"b4c4062e-c293-4e04-99f6-5d5eeff43a31\",\"type\":\"Toolbar\"},\"x_range\":{\"id\":\"4ac93c70-b711-459a-915e-f58b6dcd4936\",\"type\":\"DataRange1d\"},\"y_range\":{\"id\":\"81033048-0419-4e2c-8bc2-f625c442e86f\",\"type\":\"DataRange1d\"}},\"id\":\"aad3017c-2b3d-4422-bfd3-26a5edb62ce0\",\"subtype\":\"Figure\",\"type\":\"Plot\"},{\"attributes\":{\"plot\":{\"id\":\"aad3017c-2b3d-4422-bfd3-26a5edb62ce0\",\"subtype\":\"Figure\",\"type\":\"Plot\"}},\"id\":\"ad3947e4-2366-4a49-8e14-daf0a334f9fb\",\"type\":\"HelpTool\"},{\"attributes\":{\"data_source\":{\"id\":\"7ee0da07-1559-4533-87db-b2023937a289\",\"type\":\"ColumnDataSource\"},\"glyph\":{\"id\":\"b2c5ef33-a1c7-46af-a54b-fc35befc159c\",\"type\":\"Line\"},\"hover_glyph\":null,\"nonselection_glyph\":{\"id\":\"dac63160-2f07-459e-a1a0-320486a82ed6\",\"type\":\"Line\"},\"selection_glyph\":null},\"id\":\"8132190a-0548-42d4-b213-1cdbbaf836a9\",\"type\":\"GlyphRenderer\"},{\"attributes\":{\"callback\":null},\"id\":\"81033048-0419-4e2c-8bc2-f625c442e86f\",\"type\":\"DataRange1d\"},{\"attributes\":{},\"id\":\"b2470f43-73be-47c3-a925-1a871a9b11cf\",\"type\":\"BasicTicker\"}],\"root_ids\":[\"aad3017c-2b3d-4422-bfd3-26a5edb62ce0\"]},\"title\":\"Bokeh Application\",\"version\":\"0.12.0\"}};\n",
       "            var render_items = [{\"docid\":\"922c35ea-91ab-446b-b23b-2d6441ba97f5\",\"elementid\":\"a313fe16-d29b-4d8c-aef5-4b2ef4ffd016\",\"modelid\":\"aad3017c-2b3d-4422-bfd3-26a5edb62ce0\",\"notebook_comms_target\":\"d4d540cc-dc9a-4880-8b67-40faa852c5ad\"}];\n",
       "            \n",
       "            Bokeh.embed.embed_items(docs_json, render_items);\n",
       "        });\n",
       "      },\n",
       "      function(Bokeh) {\n",
       "      }\n",
       "    ];\n",
       "  \n",
       "    function run_inline_js() {\n",
       "      for (var i = 0; i < inline_js.length; i++) {\n",
       "        inline_js[i](window.Bokeh);\n",
       "      }\n",
       "    }\n",
       "  \n",
       "    if (window._bokeh_is_loading === 0) {\n",
       "      console.log(\"Bokeh: BokehJS loaded, going straight to plotting\");\n",
       "      run_inline_js();\n",
       "    } else {\n",
       "      load_libs(js_urls, function() {\n",
       "        console.log(\"Bokeh: BokehJS plotting callback run at\", now());\n",
       "        run_inline_js();\n",
       "      });\n",
       "    }\n",
       "  }(this));\n",
       "</script>"
      ]
     },
     "metadata": {},
     "output_type": "display_data"
    },
    {
     "data": {
      "text/html": [
       "<p><code>&lt;Bokeh Notebook handle for <strong>In[12]</strong>&gt;</code></p>"
      ],
      "text/plain": [
       "<bokeh.io._CommsHandle at 0x2aced3324630>"
      ]
     },
     "execution_count": 12,
     "metadata": {},
     "output_type": "execute_result"
    }
   ],
   "source": [
    "# Plot a voxel value through time\n",
    "voxel_num = 100\n",
    "p2 = figure(title=\"Voxel time-series Run 1 for voxel number = %d\" % (voxel_num))\n",
    "p2.line(x = range(1, 311),y = maskedData[0:310,voxel_num])\n",
    "p2.xaxis.axis_label = 'TR'\n",
    "p2.yaxis.axis_label = 'Voxel Intensity'\n",
    "\n",
    "show(p2)"
   ]
  },
  {
   "cell_type": "markdown",
   "metadata": {},
   "source": [
    "## Scaling the data a.k.a Z-scoring\n",
    "\n",
    "Now we'll scale the data to center the mean around zero and have a standard deviation of one ($\\mu=0, \\sigma = 1$) for  the data. Why do we scale the data? See here: http://scikit-learn.org/stable/modules/preprocessing.html\n",
    "\n",
    "There are many ways to scale the data. Z-scoring is one of the most common approaches. We will use the StandardScaler method to accomplish this.\n"
   ]
  },
  {
   "cell_type": "markdown",
   "metadata": {},
   "source": [
    "**Self-study:** Explore other normalization techniques in the link above."
   ]
  },
  {
   "cell_type": "code",
   "execution_count": 13,
   "metadata": {
    "collapsed": false
   },
   "outputs": [],
   "source": [
    "scaler = preprocessing.StandardScaler().fit(maskedData)\n",
    "\n",
    "maskedData_zscore =  scaler.transform(maskedData)                               "
   ]
  },
  {
   "cell_type": "markdown",
   "metadata": {},
   "source": [
    "### Check if the z scoring worked\n",
    "\n",
    "The mean values never equal exactly zero. This happens because of rounding and precision limitations. These small values are considered zero for most practical purposes. We can print out the values. Also check that the standard deviation is now correct."
   ]
  },
  {
   "cell_type": "code",
   "execution_count": 14,
   "metadata": {
    "collapsed": false
   },
   "outputs": [
    {
     "name": "stdout",
     "output_type": "stream",
     "text": [
      "[  6.09376549e-09   1.58437899e-07  -1.40156615e-07   5.27110728e-07\n",
      "   4.57032421e-08   5.48438912e-08  -2.52891283e-07  -4.23516695e-07\n",
      "   1.64531670e-07  -3.65625930e-08]\n",
      "[ 1.00000012  1.          1.          1.          1.          0.99999988\n",
      "  1.          0.99999994  1.          1.        ]\n"
     ]
    }
   ],
   "source": [
    "x_mean = np.mean(maskedData_zscore, axis=0)\n",
    "x_std = np.std(maskedData_zscore, axis=0)\n",
    "print(x_mean[0:10])\n",
    "print(x_std[0:10])"
   ]
  },
  {
   "cell_type": "markdown",
   "metadata": {},
   "source": [
    "**Exercise:** Plot the distribution of values as a histogram."
   ]
  },
  {
   "cell_type": "code",
   "execution_count": 15,
   "metadata": {
    "collapsed": false
   },
   "outputs": [
    {
     "data": {
      "text/html": [
       "\n",
       "\n",
       "    <div class=\"bk-root\">\n",
       "        <div class=\"plotdiv\" id=\"c537c9b0-ad75-494a-a944-ddfa1e3db6aa\"></div>\n",
       "    </div>\n",
       "<script type=\"text/javascript\">\n",
       "  \n",
       "  (function(global) {\n",
       "    function now() {\n",
       "      return new Date();\n",
       "    }\n",
       "  \n",
       "    if (typeof (window._bokeh_onload_callbacks) === \"undefined\") {\n",
       "      window._bokeh_onload_callbacks = [];\n",
       "    }\n",
       "  \n",
       "    function run_callbacks() {\n",
       "      window._bokeh_onload_callbacks.forEach(function(callback) { callback() });\n",
       "      delete window._bokeh_onload_callbacks\n",
       "      console.info(\"Bokeh: all callbacks have finished\");\n",
       "    }\n",
       "  \n",
       "    function load_libs(js_urls, callback) {\n",
       "      window._bokeh_onload_callbacks.push(callback);\n",
       "      if (window._bokeh_is_loading > 0) {\n",
       "        console.log(\"Bokeh: BokehJS is being loaded, scheduling callback at\", now());\n",
       "        return null;\n",
       "      }\n",
       "      if (js_urls == null || js_urls.length === 0) {\n",
       "        run_callbacks();\n",
       "        return null;\n",
       "      }\n",
       "      console.log(\"Bokeh: BokehJS not loaded, scheduling load and callback at\", now());\n",
       "      window._bokeh_is_loading = js_urls.length;\n",
       "      for (var i = 0; i < js_urls.length; i++) {\n",
       "        var url = js_urls[i];\n",
       "        var s = document.createElement('script');\n",
       "        s.src = url;\n",
       "        s.async = false;\n",
       "        s.onreadystatechange = s.onload = function() {\n",
       "          window._bokeh_is_loading--;\n",
       "          if (window._bokeh_is_loading === 0) {\n",
       "            console.log(\"Bokeh: all BokehJS libraries loaded\");\n",
       "            run_callbacks()\n",
       "          }\n",
       "        };\n",
       "        s.onerror = function() {\n",
       "          console.warn(\"failed to load library \" + url);\n",
       "        };\n",
       "        console.log(\"Bokeh: injecting script tag for BokehJS library: \", url);\n",
       "        document.getElementsByTagName(\"head\")[0].appendChild(s);\n",
       "      }\n",
       "    };var element = document.getElementById(\"c537c9b0-ad75-494a-a944-ddfa1e3db6aa\");\n",
       "    if (element == null) {\n",
       "      console.log(\"Bokeh: ERROR: autoload.js configured with elementid 'c537c9b0-ad75-494a-a944-ddfa1e3db6aa' but no matching script tag was found. \")\n",
       "      return false;\n",
       "    }\n",
       "  \n",
       "    var js_urls = [];\n",
       "  \n",
       "    var inline_js = [\n",
       "      function(Bokeh) {\n",
       "        Bokeh.$(function() {\n",
       "            var docs_json = {\"4bbeb719-bb53-42d3-834e-08db726cba3c\":{\"roots\":{\"references\":[{\"attributes\":{},\"id\":\"559cd160-7553-42a8-a965-36a736a7dad5\",\"type\":\"ToolEvents\"},{\"attributes\":{\"callback\":null,\"column_names\":[\"right\",\"top\",\"left\"],\"data\":{\"left\":[-3.612997531890869,-3.3803588509559632,-3.1477201700210573,-2.915081489086151,-2.682442808151245,-2.449804127216339,-2.217165446281433,-1.984526765346527,-1.7518880844116211,-1.519249403476715,-1.286610722541809,-1.0539720416069032,-0.8213333606719972,-0.5886946797370913,-0.35605599880218497,-0.12341731786727905,0.10922136306762686,0.3418600440025328,0.5744987249374391,0.8071374058723446,1.039776086807251,1.2724147677421564,1.5050534486770628,1.7376921296119692,1.9703308105468746,2.202969491481781,2.4356081724166865,2.668246853351593,2.900885534286499,3.1335242152214047,3.366162896156311,3.5988015770912165,3.831440258026123,4.064078938961029,4.296717619895935,4.529356300830841,4.761994981765747,4.994633662700652,5.227272343635558,5.459911024570465],\"right\":[-3.3803588509559632,-3.1477201700210573,-2.915081489086151,-2.682442808151245,-2.449804127216339,-2.217165446281433,-1.984526765346527,-1.7518880844116211,-1.519249403476715,-1.286610722541809,-1.0539720416069032,-0.8213333606719972,-0.5886946797370913,-0.35605599880218497,-0.12341731786727905,0.10922136306762686,0.3418600440025328,0.5744987249374391,0.8071374058723446,1.039776086807251,1.2724147677421564,1.5050534486770628,1.7376921296119692,1.9703308105468746,2.202969491481781,2.4356081724166865,2.668246853351593,2.900885534286499,3.1335242152214047,3.366162896156311,3.5988015770912165,3.831440258026123,4.064078938961029,4.296717619895935,4.529356300830841,4.761994981765747,4.994633662700652,5.227272343635558,5.459911024570465,5.692549705505371],\"top\":[5,2,5,10,7,10,12,12,20,36,78,164,253,322,318,279,285,184,105,102,56,56,43,30,26,23,7,10,10,12,7,4,4,3,2,0,1,0,0,1]}},\"id\":\"907914ab-545d-4432-b389-a7843bad274d\",\"type\":\"ColumnDataSource\"},{\"attributes\":{\"plot\":{\"id\":\"3b1239ea-7933-4c98-b2bb-89fe7a13dce4\",\"subtype\":\"Figure\",\"type\":\"Plot\"}},\"id\":\"cf25a90a-6739-457c-a128-4022d6eb86f7\",\"type\":\"ResetTool\"},{\"attributes\":{\"plot\":null,\"text\":\"Histogram of Intensity Values for Voxel 100 Over Time\"},\"id\":\"1bfc4b4f-feff-41a8-b375-c8a33f6eac9a\",\"type\":\"Title\"},{\"attributes\":{\"data_source\":{\"id\":\"907914ab-545d-4432-b389-a7843bad274d\",\"type\":\"ColumnDataSource\"},\"glyph\":{\"id\":\"3d7b832a-0f7b-45dd-8eee-234a5608524a\",\"type\":\"Quad\"},\"hover_glyph\":null,\"nonselection_glyph\":{\"id\":\"4280699a-ae7c-4ab6-b513-e0d24475adbb\",\"type\":\"Quad\"},\"selection_glyph\":null},\"id\":\"4cca17cb-cc0e-41e4-b2ef-dbdf1e2f515c\",\"type\":\"GlyphRenderer\"},{\"attributes\":{\"plot\":{\"id\":\"3b1239ea-7933-4c98-b2bb-89fe7a13dce4\",\"subtype\":\"Figure\",\"type\":\"Plot\"}},\"id\":\"34b4273f-31aa-48d5-9cbe-29cf9d9cc13b\",\"type\":\"PanTool\"},{\"attributes\":{\"plot\":{\"id\":\"3b1239ea-7933-4c98-b2bb-89fe7a13dce4\",\"subtype\":\"Figure\",\"type\":\"Plot\"}},\"id\":\"c6b00ceb-2684-4663-8f17-fbec0ff6bb04\",\"type\":\"WheelZoomTool\"},{\"attributes\":{\"overlay\":{\"id\":\"02263339-0314-4535-afce-a80e0b63df1b\",\"type\":\"BoxAnnotation\"},\"plot\":{\"id\":\"3b1239ea-7933-4c98-b2bb-89fe7a13dce4\",\"subtype\":\"Figure\",\"type\":\"Plot\"}},\"id\":\"ae10dd56-2572-4913-a8d9-a967a7e2fab0\",\"type\":\"BoxZoomTool\"},{\"attributes\":{},\"id\":\"16062344-5caa-4d68-83a8-c18641d949fc\",\"type\":\"BasicTickFormatter\"},{\"attributes\":{},\"id\":\"b031c7e8-2045-46ff-8a51-0259fa59746c\",\"type\":\"BasicTicker\"},{\"attributes\":{\"formatter\":{\"id\":\"259d2d26-9d4b-4e70-a888-c75d03950d26\",\"type\":\"BasicTickFormatter\"},\"plot\":{\"id\":\"3b1239ea-7933-4c98-b2bb-89fe7a13dce4\",\"subtype\":\"Figure\",\"type\":\"Plot\"},\"ticker\":{\"id\":\"b031c7e8-2045-46ff-8a51-0259fa59746c\",\"type\":\"BasicTicker\"}},\"id\":\"9b5595ed-2a3a-4340-9c65-8606b62cf1a9\",\"type\":\"LinearAxis\"},{\"attributes\":{\"callback\":null},\"id\":\"7d8c0a40-f271-4f90-969e-cdfd849f2372\",\"type\":\"DataRange1d\"},{\"attributes\":{\"bottom_units\":\"screen\",\"fill_alpha\":{\"value\":0.5},\"fill_color\":{\"value\":\"lightgrey\"},\"left_units\":\"screen\",\"level\":\"overlay\",\"line_alpha\":{\"value\":1.0},\"line_color\":{\"value\":\"black\"},\"line_dash\":[4,4],\"line_width\":{\"value\":2},\"plot\":null,\"render_mode\":\"css\",\"right_units\":\"screen\",\"top_units\":\"screen\"},\"id\":\"02263339-0314-4535-afce-a80e0b63df1b\",\"type\":\"BoxAnnotation\"},{\"attributes\":{},\"id\":\"259d2d26-9d4b-4e70-a888-c75d03950d26\",\"type\":\"BasicTickFormatter\"},{\"attributes\":{},\"id\":\"11f89035-884d-4657-beca-f0bac818d727\",\"type\":\"BasicTicker\"},{\"attributes\":{\"bottom\":{\"value\":0},\"fill_color\":{\"value\":\"#1f77b4\"},\"left\":{\"field\":\"left\"},\"line_color\":{\"value\":\"#1f77b4\"},\"right\":{\"field\":\"right\"},\"top\":{\"field\":\"top\"}},\"id\":\"3d7b832a-0f7b-45dd-8eee-234a5608524a\",\"type\":\"Quad\"},{\"attributes\":{\"active_drag\":\"auto\",\"active_scroll\":\"auto\",\"active_tap\":\"auto\",\"tools\":[{\"id\":\"34b4273f-31aa-48d5-9cbe-29cf9d9cc13b\",\"type\":\"PanTool\"},{\"id\":\"c6b00ceb-2684-4663-8f17-fbec0ff6bb04\",\"type\":\"WheelZoomTool\"},{\"id\":\"ae10dd56-2572-4913-a8d9-a967a7e2fab0\",\"type\":\"BoxZoomTool\"},{\"id\":\"b124984a-3c97-4e90-a45e-2b1844473d03\",\"type\":\"SaveTool\"},{\"id\":\"cf25a90a-6739-457c-a128-4022d6eb86f7\",\"type\":\"ResetTool\"},{\"id\":\"bb6c63c8-20b0-49b9-aeb8-2288f31820a2\",\"type\":\"HelpTool\"}]},\"id\":\"9966fcce-fd82-4757-8ccb-2264b1b011ee\",\"type\":\"Toolbar\"},{\"attributes\":{\"formatter\":{\"id\":\"16062344-5caa-4d68-83a8-c18641d949fc\",\"type\":\"BasicTickFormatter\"},\"plot\":{\"id\":\"3b1239ea-7933-4c98-b2bb-89fe7a13dce4\",\"subtype\":\"Figure\",\"type\":\"Plot\"},\"ticker\":{\"id\":\"11f89035-884d-4657-beca-f0bac818d727\",\"type\":\"BasicTicker\"}},\"id\":\"4c4dfdee-69eb-46ce-b3ca-473903c2faf7\",\"type\":\"LinearAxis\"},{\"attributes\":{\"dimension\":1,\"plot\":{\"id\":\"3b1239ea-7933-4c98-b2bb-89fe7a13dce4\",\"subtype\":\"Figure\",\"type\":\"Plot\"},\"ticker\":{\"id\":\"11f89035-884d-4657-beca-f0bac818d727\",\"type\":\"BasicTicker\"}},\"id\":\"918a65ae-9e43-4e3e-8fd5-cd21c53e11c6\",\"type\":\"Grid\"},{\"attributes\":{\"plot\":{\"id\":\"3b1239ea-7933-4c98-b2bb-89fe7a13dce4\",\"subtype\":\"Figure\",\"type\":\"Plot\"},\"ticker\":{\"id\":\"b031c7e8-2045-46ff-8a51-0259fa59746c\",\"type\":\"BasicTicker\"}},\"id\":\"30761a18-5054-459c-8ebc-a32fd4171a69\",\"type\":\"Grid\"},{\"attributes\":{\"bottom\":{\"value\":0},\"fill_alpha\":{\"value\":0.1},\"fill_color\":{\"value\":\"#1f77b4\"},\"left\":{\"field\":\"left\"},\"line_alpha\":{\"value\":0.1},\"line_color\":{\"value\":\"#1f77b4\"},\"right\":{\"field\":\"right\"},\"top\":{\"field\":\"top\"}},\"id\":\"4280699a-ae7c-4ab6-b513-e0d24475adbb\",\"type\":\"Quad\"},{\"attributes\":{\"below\":[{\"id\":\"9b5595ed-2a3a-4340-9c65-8606b62cf1a9\",\"type\":\"LinearAxis\"}],\"left\":[{\"id\":\"4c4dfdee-69eb-46ce-b3ca-473903c2faf7\",\"type\":\"LinearAxis\"}],\"renderers\":[{\"id\":\"9b5595ed-2a3a-4340-9c65-8606b62cf1a9\",\"type\":\"LinearAxis\"},{\"id\":\"30761a18-5054-459c-8ebc-a32fd4171a69\",\"type\":\"Grid\"},{\"id\":\"4c4dfdee-69eb-46ce-b3ca-473903c2faf7\",\"type\":\"LinearAxis\"},{\"id\":\"918a65ae-9e43-4e3e-8fd5-cd21c53e11c6\",\"type\":\"Grid\"},{\"id\":\"02263339-0314-4535-afce-a80e0b63df1b\",\"type\":\"BoxAnnotation\"},{\"id\":\"4cca17cb-cc0e-41e4-b2ef-dbdf1e2f515c\",\"type\":\"GlyphRenderer\"}],\"title\":{\"id\":\"1bfc4b4f-feff-41a8-b375-c8a33f6eac9a\",\"type\":\"Title\"},\"tool_events\":{\"id\":\"559cd160-7553-42a8-a965-36a736a7dad5\",\"type\":\"ToolEvents\"},\"toolbar\":{\"id\":\"9966fcce-fd82-4757-8ccb-2264b1b011ee\",\"type\":\"Toolbar\"},\"x_range\":{\"id\":\"7d8c0a40-f271-4f90-969e-cdfd849f2372\",\"type\":\"DataRange1d\"},\"y_range\":{\"id\":\"306ba19c-5a41-4603-baf0-3f724e122032\",\"type\":\"DataRange1d\"}},\"id\":\"3b1239ea-7933-4c98-b2bb-89fe7a13dce4\",\"subtype\":\"Figure\",\"type\":\"Plot\"},{\"attributes\":{\"plot\":{\"id\":\"3b1239ea-7933-4c98-b2bb-89fe7a13dce4\",\"subtype\":\"Figure\",\"type\":\"Plot\"}},\"id\":\"b124984a-3c97-4e90-a45e-2b1844473d03\",\"type\":\"SaveTool\"},{\"attributes\":{\"callback\":null},\"id\":\"306ba19c-5a41-4603-baf0-3f724e122032\",\"type\":\"DataRange1d\"},{\"attributes\":{\"plot\":{\"id\":\"3b1239ea-7933-4c98-b2bb-89fe7a13dce4\",\"subtype\":\"Figure\",\"type\":\"Plot\"}},\"id\":\"bb6c63c8-20b0-49b9-aeb8-2288f31820a2\",\"type\":\"HelpTool\"}],\"root_ids\":[\"3b1239ea-7933-4c98-b2bb-89fe7a13dce4\"]},\"title\":\"Bokeh Application\",\"version\":\"0.12.0\"}};\n",
       "            var render_items = [{\"docid\":\"4bbeb719-bb53-42d3-834e-08db726cba3c\",\"elementid\":\"c537c9b0-ad75-494a-a944-ddfa1e3db6aa\",\"modelid\":\"3b1239ea-7933-4c98-b2bb-89fe7a13dce4\",\"notebook_comms_target\":\"45119aea-166f-4e82-b067-a41d7fbc87a2\"}];\n",
       "            \n",
       "            Bokeh.embed.embed_items(docs_json, render_items);\n",
       "        });\n",
       "      },\n",
       "      function(Bokeh) {\n",
       "      }\n",
       "    ];\n",
       "  \n",
       "    function run_inline_js() {\n",
       "      for (var i = 0; i < inline_js.length; i++) {\n",
       "        inline_js[i](window.Bokeh);\n",
       "      }\n",
       "    }\n",
       "  \n",
       "    if (window._bokeh_is_loading === 0) {\n",
       "      console.log(\"Bokeh: BokehJS loaded, going straight to plotting\");\n",
       "      run_inline_js();\n",
       "    } else {\n",
       "      load_libs(js_urls, function() {\n",
       "        console.log(\"Bokeh: BokehJS plotting callback run at\", now());\n",
       "        run_inline_js();\n",
       "      });\n",
       "    }\n",
       "  }(this));\n",
       "</script>"
      ]
     },
     "metadata": {},
     "output_type": "display_data"
    },
    {
     "data": {
      "text/html": [
       "<p><code>&lt;Bokeh Notebook handle for <strong>In[15]</strong>&gt;</code></p>"
      ],
      "text/plain": [
       "<bokeh.io._CommsHandle at 0x2ace91e6c6d8>"
      ]
     },
     "execution_count": 15,
     "metadata": {},
     "output_type": "execute_result"
    }
   ],
   "source": [
    "hist = figure(title=\"Histogram of Intensity Values for Voxel 100 Over Time\")\n",
    "dat, edges = np.histogram(maskedData_zscore[:,100], bins=40)\n",
    "hist.quad(top=dat, bottom = 0, \n",
    "         left = edges[:-1], right=edges[1:])\n",
    "show(hist)"
   ]
  },
  {
   "cell_type": "code",
   "execution_count": 16,
   "metadata": {
    "collapsed": false
   },
   "outputs": [
    {
     "data": {
      "text/html": [
       "\n",
       "\n",
       "    <div class=\"bk-root\">\n",
       "        <div class=\"plotdiv\" id=\"b85ac084-c973-4671-b593-92ca6b841b3c\"></div>\n",
       "    </div>\n",
       "<script type=\"text/javascript\">\n",
       "  \n",
       "  (function(global) {\n",
       "    function now() {\n",
       "      return new Date();\n",
       "    }\n",
       "  \n",
       "    if (typeof (window._bokeh_onload_callbacks) === \"undefined\") {\n",
       "      window._bokeh_onload_callbacks = [];\n",
       "    }\n",
       "  \n",
       "    function run_callbacks() {\n",
       "      window._bokeh_onload_callbacks.forEach(function(callback) { callback() });\n",
       "      delete window._bokeh_onload_callbacks\n",
       "      console.info(\"Bokeh: all callbacks have finished\");\n",
       "    }\n",
       "  \n",
       "    function load_libs(js_urls, callback) {\n",
       "      window._bokeh_onload_callbacks.push(callback);\n",
       "      if (window._bokeh_is_loading > 0) {\n",
       "        console.log(\"Bokeh: BokehJS is being loaded, scheduling callback at\", now());\n",
       "        return null;\n",
       "      }\n",
       "      if (js_urls == null || js_urls.length === 0) {\n",
       "        run_callbacks();\n",
       "        return null;\n",
       "      }\n",
       "      console.log(\"Bokeh: BokehJS not loaded, scheduling load and callback at\", now());\n",
       "      window._bokeh_is_loading = js_urls.length;\n",
       "      for (var i = 0; i < js_urls.length; i++) {\n",
       "        var url = js_urls[i];\n",
       "        var s = document.createElement('script');\n",
       "        s.src = url;\n",
       "        s.async = false;\n",
       "        s.onreadystatechange = s.onload = function() {\n",
       "          window._bokeh_is_loading--;\n",
       "          if (window._bokeh_is_loading === 0) {\n",
       "            console.log(\"Bokeh: all BokehJS libraries loaded\");\n",
       "            run_callbacks()\n",
       "          }\n",
       "        };\n",
       "        s.onerror = function() {\n",
       "          console.warn(\"failed to load library \" + url);\n",
       "        };\n",
       "        console.log(\"Bokeh: injecting script tag for BokehJS library: \", url);\n",
       "        document.getElementsByTagName(\"head\")[0].appendChild(s);\n",
       "      }\n",
       "    };var element = document.getElementById(\"b85ac084-c973-4671-b593-92ca6b841b3c\");\n",
       "    if (element == null) {\n",
       "      console.log(\"Bokeh: ERROR: autoload.js configured with elementid 'b85ac084-c973-4671-b593-92ca6b841b3c' but no matching script tag was found. \")\n",
       "      return false;\n",
       "    }\n",
       "  \n",
       "    var js_urls = [];\n",
       "  \n",
       "    var inline_js = [\n",
       "      function(Bokeh) {\n",
       "        Bokeh.$(function() {\n",
       "            var docs_json = {\"81a0421e-fdd9-4754-8a29-c611081de6a7\":{\"roots\":{\"references\":[{\"attributes\":{},\"id\":\"e9bc6d30-99a3-4b57-8416-eff79d8b3fcf\",\"type\":\"ToolEvents\"},{\"attributes\":{\"plot\":{\"id\":\"9e9edb65-5c4d-4ffe-8d7d-54d77d4581c6\",\"subtype\":\"Figure\",\"type\":\"Plot\"}},\"id\":\"b999cc02-df93-4aa8-a9b1-07bd4a657294\",\"type\":\"WheelZoomTool\"},{\"attributes\":{},\"id\":\"1bf7177d-c0c3-4f8b-8f23-30032216edc8\",\"type\":\"BasicTickFormatter\"},{\"attributes\":{\"plot\":{\"id\":\"9e9edb65-5c4d-4ffe-8d7d-54d77d4581c6\",\"subtype\":\"Figure\",\"type\":\"Plot\"}},\"id\":\"e022c193-3d89-449e-8a17-603a95ec53f5\",\"type\":\"PanTool\"},{\"attributes\":{},\"id\":\"085d080e-58a2-4941-8595-f7c0d1d5ffbd\",\"type\":\"BasicTickFormatter\"},{\"attributes\":{\"axis_label\":\"Voxel Intensity (Standardized)\",\"formatter\":{\"id\":\"085d080e-58a2-4941-8595-f7c0d1d5ffbd\",\"type\":\"BasicTickFormatter\"},\"plot\":{\"id\":\"9e9edb65-5c4d-4ffe-8d7d-54d77d4581c6\",\"subtype\":\"Figure\",\"type\":\"Plot\"},\"ticker\":{\"id\":\"be008815-6828-4336-a1bd-0cd66018078b\",\"type\":\"BasicTicker\"}},\"id\":\"2e5253b9-1f58-48eb-a68f-2081cf5e5f9a\",\"type\":\"LinearAxis\"},{\"attributes\":{\"bottom_units\":\"screen\",\"fill_alpha\":{\"value\":0.5},\"fill_color\":{\"value\":\"lightgrey\"},\"left_units\":\"screen\",\"level\":\"overlay\",\"line_alpha\":{\"value\":1.0},\"line_color\":{\"value\":\"black\"},\"line_dash\":[4,4],\"line_width\":{\"value\":2},\"plot\":null,\"render_mode\":\"css\",\"right_units\":\"screen\",\"top_units\":\"screen\"},\"id\":\"a79f9814-f0be-4e58-b8db-98a1bf63828f\",\"type\":\"BoxAnnotation\"},{\"attributes\":{\"data_source\":{\"id\":\"b6523185-024f-4e58-b222-45b82d8047ec\",\"type\":\"ColumnDataSource\"},\"glyph\":{\"id\":\"7fc40b83-e764-40f4-a995-a0d22f478dfd\",\"type\":\"Line\"},\"hover_glyph\":null,\"nonselection_glyph\":{\"id\":\"d8ec7b1a-bcfa-46d5-97b8-feac298521e8\",\"type\":\"Line\"},\"selection_glyph\":null},\"id\":\"641b7ebd-6124-4e5a-85a7-ed42cee814b5\",\"type\":\"GlyphRenderer\"},{\"attributes\":{\"callback\":null,\"column_names\":[\"y\",\"x\"],\"data\":{\"x\":[1,2,3,4,5,6,7,8,9,10,11,12,13,14,15,16,17,18,19,20,21,22,23,24,25,26,27,28,29,30,31,32,33,34,35,36,37,38,39,40,41,42,43,44,45,46,47,48,49,50,51,52,53,54,55,56,57,58,59,60,61,62,63,64,65,66,67,68,69,70,71,72,73,74,75,76,77,78,79,80,81,82,83,84,85,86,87,88,89,90,91,92,93,94,95,96,97,98,99,100,101,102,103,104,105,106,107,108,109,110,111,112,113,114,115,116,117,118,119,120,121,122,123,124,125,126,127,128,129,130,131,132,133,134,135,136,137,138,139,140,141,142,143,144,145,146,147,148,149,150,151,152,153,154,155,156,157,158,159,160,161,162,163,164,165,166,167,168,169,170,171,172,173,174,175,176,177,178,179,180,181,182,183,184,185,186,187,188,189,190,191,192,193,194,195,196,197,198,199,200,201,202,203,204,205,206,207,208,209,210,211,212,213,214,215,216,217,218,219,220,221,222,223,224,225,226,227,228,229,230,231,232,233,234,235,236,237,238,239,240,241,242,243,244,245,246,247,248,249,250,251,252,253,254,255,256,257,258,259,260,261,262,263,264,265,266,267,268,269,270,271,272,273,274,275,276,277,278,279,280,281,282,283,284,285,286,287,288,289,290,291,292,293,294,295,296,297,298,299,300,301,302,303,304,305,306,307,308,309,310,311,312,313,314,315,316,317,318,319,320,321,322,323,324,325,326,327,328,329,330,331,332,333,334,335,336,337,338,339,340,341,342,343,344,345,346,347,348,349,350,351,352,353,354,355,356,357,358,359,360,361,362,363,364,365,366,367,368,369,370,371,372,373,374,375,376,377,378,379,380,381,382,383,384,385,386,387,388,389,390,391,392,393,394,395,396,397,398,399,400,401,402,403,404,405,406,407,408,409,410,411,412,413,414,415,416,417,418,419,420,421,422,423,424,425,426,427,428,429,430,431,432,433,434,435,436,437,438,439,440,441,442,443,444,445,446,447,448,449,450,451,452,453,454,455,456,457,458,459,460,461,462,463,464,465,466,467,468,469,470,471,472,473,474,475,476,477,478,479,480,481,482,483,484,485,486,487,488,489,490,491,492,493,494,495,496,497,498,499,500,501,502,503,504,505,506,507,508,509,510,511,512,513,514,515,516,517,518,519,520,521,522,523,524,525,526,527,528,529,530,531,532,533,534,535,536,537,538,539,540,541,542,543,544,545,546,547,548,549,550,551,552,553,554,555,556,557,558,559,560,561,562,563,564,565,566,567,568,569,570,571,572,573,574,575,576,577,578,579,580,581,582,583,584,585,586,587,588,589,590,591,592,593,594,595,596,597,598,599,600,601,602,603,604,605,606,607,608,609,610,611,612,613,614,615,616,617,618,619,620,621,622,623,624,625,626,627,628,629,630,631,632,633,634,635,636,637,638,639,640,641,642,643,644,645,646,647,648,649,650,651,652,653,654,655,656,657,658,659,660,661,662,663,664,665,666,667,668,669,670,671,672,673,674,675,676,677,678,679,680,681,682,683,684,685,686,687,688,689,690,691,692,693,694,695,696,697,698,699,700,701,702,703,704,705,706,707,708,709,710,711,712,713,714,715,716,717,718,719,720,721,722,723,724,725,726,727,728,729,730,731,732,733,734,735,736,737,738,739,740,741,742,743,744,745,746,747,748,749,750,751,752,753,754,755,756,757,758,759,760,761,762,763,764,765,766,767,768,769,770,771,772,773,774,775,776,777,778,779,780,781,782,783,784,785,786,787,788,789,790,791,792,793,794,795,796,797,798,799,800,801,802,803,804,805,806,807,808,809,810,811,812,813,814,815,816,817,818,819,820,821,822,823,824,825,826,827,828,829,830,831,832,833,834,835,836,837,838,839,840,841,842,843,844,845,846,847,848,849,850,851,852,853,854,855,856,857,858,859,860,861,862,863,864,865,866,867,868,869,870,871,872,873,874,875,876,877,878,879,880,881,882,883,884,885,886,887,888,889,890,891,892,893,894,895,896,897,898,899,900,901,902,903,904,905,906,907,908,909,910,911,912,913,914,915,916,917,918,919,920,921,922,923,924,925,926,927,928,929,930,931,932,933,934,935,936,937,938,939,940,941,942,943,944,945,946,947,948,949,950,951,952,953,954,955,956,957,958,959,960,961,962,963,964,965,966,967,968,969,970,971,972,973,974,975,976,977,978,979,980,981,982,983,984,985,986,987,988,989,990,991,992,993,994,995,996,997,998,999,1000,1001,1002,1003,1004,1005,1006,1007,1008,1009,1010,1011,1012,1013,1014,1015,1016,1017,1018,1019,1020,1021,1022,1023,1024,1025,1026,1027,1028,1029,1030,1031,1032,1033,1034,1035,1036,1037,1038,1039,1040,1041,1042,1043,1044,1045,1046,1047,1048,1049,1050,1051,1052,1053,1054,1055,1056,1057,1058,1059,1060,1061,1062,1063,1064,1065,1066,1067,1068,1069,1070,1071,1072,1073,1074,1075,1076,1077,1078,1079,1080,1081,1082,1083,1084,1085,1086,1087,1088,1089,1090,1091,1092,1093,1094,1095,1096,1097,1098,1099,1100,1101,1102,1103,1104,1105,1106,1107,1108,1109,1110,1111,1112,1113,1114,1115,1116,1117,1118,1119,1120,1121,1122,1123,1124,1125,1126,1127,1128,1129,1130,1131,1132,1133,1134,1135,1136,1137,1138,1139,1140,1141,1142,1143,1144,1145,1146,1147,1148,1149,1150,1151,1152,1153,1154,1155,1156,1157,1158,1159,1160,1161,1162,1163,1164,1165,1166,1167,1168,1169,1170,1171,1172,1173,1174,1175,1176,1177,1178,1179,1180,1181,1182,1183,1184,1185,1186,1187,1188,1189,1190,1191,1192,1193,1194,1195,1196,1197,1198,1199,1200,1201,1202,1203,1204,1205,1206,1207,1208,1209,1210,1211,1212,1213,1214,1215,1216,1217,1218,1219,1220,1221,1222,1223,1224,1225,1226,1227,1228,1229,1230,1231,1232,1233,1234,1235,1236,1237,1238,1239,1240,1241,1242,1243,1244,1245,1246,1247,1248,1249,1250,1251,1252,1253,1254,1255,1256,1257,1258,1259,1260,1261,1262,1263,1264,1265,1266,1267,1268,1269,1270,1271,1272,1273,1274,1275,1276,1277,1278,1279,1280,1281,1282,1283,1284,1285,1286,1287,1288,1289,1290,1291,1292,1293,1294,1295,1296,1297,1298,1299,1300,1301,1302,1303,1304,1305,1306,1307,1308,1309,1310,1311,1312,1313,1314,1315,1316,1317,1318,1319,1320,1321,1322,1323,1324,1325,1326,1327,1328,1329,1330,1331,1332,1333,1334,1335,1336,1337,1338,1339,1340,1341,1342,1343,1344,1345,1346,1347,1348,1349,1350,1351,1352,1353,1354,1355,1356,1357,1358,1359,1360,1361,1362,1363,1364,1365,1366,1367,1368,1369,1370,1371,1372,1373,1374,1375,1376,1377,1378,1379,1380,1381,1382,1383,1384,1385,1386,1387,1388,1389,1390,1391,1392,1393,1394,1395,1396,1397,1398,1399,1400,1401,1402,1403,1404,1405,1406,1407,1408,1409,1410,1411,1412,1413,1414,1415,1416,1417,1418,1419,1420,1421,1422,1423,1424,1425,1426,1427,1428,1429,1430,1431,1432,1433,1434,1435,1436,1437,1438,1439,1440,1441,1442,1443,1444,1445,1446,1447,1448,1449,1450,1451,1452,1453,1454,1455,1456,1457,1458,1459,1460,1461,1462,1463,1464,1465,1466,1467,1468,1469,1470,1471,1472,1473,1474,1475,1476,1477,1478,1479,1480,1481,1482,1483,1484,1485,1486,1487,1488,1489,1490,1491,1492,1493,1494,1495,1496,1497,1498,1499,1500,1501,1502,1503,1504,1505,1506,1507,1508,1509,1510,1511,1512,1513,1514,1515,1516,1517,1518,1519,1520,1521,1522,1523,1524,1525,1526,1527,1528,1529,1530,1531,1532,1533,1534,1535,1536,1537,1538,1539,1540,1541,1542,1543,1544,1545,1546,1547,1548,1549,1550,1551,1552,1553,1554,1555,1556,1557,1558,1559,1560,1561,1562,1563,1564,1565,1566,1567,1568,1569,1570,1571,1572,1573,1574,1575,1576,1577,1578,1579,1580,1581,1582,1583,1584,1585,1586,1587,1588,1589,1590,1591,1592,1593,1594,1595,1596,1597,1598,1599,1600,1601,1602,1603,1604,1605,1606,1607,1608,1609,1610,1611,1612,1613,1614,1615,1616,1617,1618,1619,1620,1621,1622,1623,1624,1625,1626,1627,1628,1629,1630,1631,1632,1633,1634,1635,1636,1637,1638,1639,1640,1641,1642,1643,1644,1645,1646,1647,1648,1649,1650,1651,1652,1653,1654,1655,1656,1657,1658,1659,1660,1661,1662,1663,1664,1665,1666,1667,1668,1669,1670,1671,1672,1673,1674,1675,1676,1677,1678,1679,1680,1681,1682,1683,1684,1685,1686,1687,1688,1689,1690,1691,1692,1693,1694,1695,1696,1697,1698,1699,1700,1701,1702,1703,1704,1705,1706,1707,1708,1709,1710,1711,1712,1713,1714,1715,1716,1717,1718,1719,1720,1721,1722,1723,1724,1725,1726,1727,1728,1729,1730,1731,1732,1733,1734,1735,1736,1737,1738,1739,1740,1741,1742,1743,1744,1745,1746,1747,1748,1749,1750,1751,1752,1753,1754,1755,1756,1757,1758,1759,1760,1761,1762,1763,1764,1765,1766,1767,1768,1769,1770,1771,1772,1773,1774,1775,1776,1777,1778,1779,1780,1781,1782,1783,1784,1785,1786,1787,1788,1789,1790,1791,1792,1793,1794,1795,1796,1797,1798,1799,1800,1801,1802,1803,1804,1805,1806,1807,1808,1809,1810,1811,1812,1813,1814,1815,1816,1817,1818,1819,1820,1821,1822,1823,1824,1825,1826,1827,1828,1829,1830,1831,1832,1833,1834,1835,1836,1837,1838,1839,1840,1841,1842,1843,1844,1845,1846,1847,1848,1849,1850,1851,1852,1853,1854,1855,1856,1857,1858,1859,1860,1861,1862,1863,1864,1865,1866,1867,1868,1869,1870,1871,1872,1873,1874,1875,1876,1877,1878,1879,1880,1881,1882,1883,1884,1885,1886,1887,1888,1889,1890,1891,1892,1893,1894,1895,1896,1897,1898,1899,1900,1901,1902,1903,1904,1905,1906,1907,1908,1909,1910,1911,1912,1913,1914,1915,1916,1917,1918,1919,1920,1921,1922,1923,1924,1925,1926,1927,1928,1929,1930,1931,1932,1933,1934,1935,1936,1937,1938,1939,1940,1941,1942,1943,1944,1945,1946,1947,1948,1949,1950,1951,1952,1953,1954,1955,1956,1957,1958,1959,1960,1961,1962,1963,1964,1965,1966,1967,1968,1969,1970,1971,1972,1973,1974,1975,1976,1977,1978,1979,1980,1981,1982,1983,1984,1985,1986,1987,1988,1989,1990,1991,1992,1993,1994,1995,1996,1997,1998,1999,2000,2001,2002,2003,2004,2005,2006,2007,2008,2009,2010,2011,2012,2013,2014,2015,2016,2017,2018,2019,2020,2021,2022,2023,2024,2025,2026,2027,2028,2029,2030,2031,2032,2033,2034,2035,2036,2037,2038,2039,2040,2041,2042,2043,2044,2045,2046,2047,2048,2049,2050,2051,2052,2053,2054,2055,2056,2057,2058,2059,2060,2061,2062,2063,2064,2065,2066,2067,2068,2069,2070,2071,2072,2073,2074,2075,2076,2077,2078,2079,2080,2081,2082,2083,2084,2085,2086,2087,2088,2089,2090,2091,2092,2093,2094,2095,2096,2097,2098,2099,2100,2101,2102,2103,2104,2105,2106,2107,2108,2109,2110,2111,2112,2113,2114,2115,2116,2117,2118,2119,2120,2121,2122,2123,2124,2125,2126,2127,2128,2129,2130,2131,2132,2133,2134,2135,2136,2137,2138,2139,2140,2141,2142,2143,2144,2145,2146,2147,2148,2149,2150,2151,2152,2153,2154,2155,2156,2157,2158,2159,2160,2161,2162,2163,2164,2165,2166,2167,2168,2169,2170,2171,2172,2173,2174,2175,2176,2177,2178,2179,2180,2181,2182,2183,2184,2185,2186,2187,2188,2189,2190,2191,2192,2193,2194,2195,2196,2197,2198,2199,2200,2201,2202,2203,2204,2205,2206,2207,2208,2209,2210,2211,2212,2213,2214,2215,2216,2217,2218,2219,2220,2221,2222,2223,2224,2225,2226,2227,2228,2229,2230,2231,2232,2233,2234,2235,2236,2237,2238,2239,2240,2241,2242,2243,2244,2245,2246,2247,2248,2249,2250,2251,2252,2253,2254,2255,2256,2257,2258,2259,2260,2261,2262,2263,2264,2265,2266,2267,2268,2269,2270,2271,2272,2273,2274,2275,2276,2277,2278,2279,2280,2281,2282,2283,2284,2285,2286,2287,2288,2289,2290,2291,2292,2293,2294,2295,2296,2297,2298,2299,2300,2301,2302,2303,2304,2305,2306,2307,2308,2309,2310,2311,2312,2313,2314,2315,2316,2317,2318,2319,2320,2321,2322,2323,2324,2325,2326,2327,2328,2329,2330,2331,2332,2333,2334,2335,2336,2337,2338,2339,2340,2341,2342,2343,2344,2345,2346,2347,2348,2349,2350,2351,2352,2353,2354,2355,2356,2357,2358,2359,2360,2361,2362,2363,2364,2365,2366,2367,2368,2369,2370,2371,2372,2373,2374,2375,2376,2377,2378,2379,2380,2381,2382,2383,2384,2385,2386,2387,2388,2389,2390,2391,2392,2393,2394,2395,2396,2397,2398,2399,2400,2401,2402,2403,2404,2405,2406,2407,2408,2409,2410,2411,2412,2413,2414,2415,2416,2417,2418,2419,2420,2421,2422,2423,2424,2425,2426,2427,2428,2429,2430,2431,2432,2433,2434,2435,2436,2437,2438,2439,2440,2441,2442,2443,2444,2445,2446,2447,2448,2449,2450,2451,2452,2453,2454,2455,2456,2457,2458,2459,2460,2461,2462,2463,2464,2465,2466,2467,2468,2469,2470,2471,2472,2473,2474,2475,2476,2477,2478,2479,2480,2481,2482,2483,2484,2485,2486,2487,2488,2489,2490,2491,2492,2493,2494,2495,2496,2497,2498,2499,2500,2501,2502,2503,2504,2505,2506,2507,2508,2509,2510,2511,2512,2513,2514,2515,2516,2517,2518,2519,2520,2521,2522,2523,2524,2525,2526,2527,2528,2529,2530,2531,2532,2533,2534,2535,2536,2537,2538,2539,2540,2541,2542,2543,2544,2545,2546,2547,2548,2549,2550,2551,2552,2553,2554,2555,2556,2557,2558,2559,2560,2561,2562,2563,2564,2565,2566,2567,2568,2569,2570,2571,2572,2573,2574,2575,2576,2577,2578,2579,2580,2581,2582,2583,2584,2585,2586,2587,2588,2589,2590,2591,2592,2593,2594,2595,2596,2597,2598,2599,2600,2601,2602,2603,2604,2605,2606,2607,2608,2609,2610,2611,2612,2613,2614,2615,2616,2617,2618,2619,2620,2621,2622,2623,2624,2625,2626,2627,2628,2629,2630,2631,2632,2633,2634,2635,2636,2637,2638,2639,2640,2641,2642,2643,2644,2645,2646,2647,2648,2649,2650,2651,2652,2653,2654,2655,2656,2657,2658,2659,2660,2661,2662,2663,2664,2665,2666,2667,2668,2669,2670,2671,2672,2673,2674,2675,2676,2677,2678,2679,2680,2681,2682,2683,2684,2685,2686,2687,2688,2689,2690,2691,2692,2693,2694,2695,2696,2697,2698,2699,2700,2701,2702,2703,2704,2705,2706,2707,2708,2709,2710,2711,2712,2713,2714,2715,2716,2717,2718,2719,2720,2721,2722,2723,2724,2725,2726,2727,2728,2729,2730,2731,2732,2733,2734,2735,2736,2737,2738,2739,2740,2741,2742,2743,2744,2745,2746,2747,2748,2749,2750,2751,2752,2753,2754,2755,2756,2757,2758,2759,2760,2761,2762,2763,2764,2765,2766,2767,2768,2769,2770,2771,2772,2773,2774,2775,2776,2777,2778,2779,2780,2781,2782,2783,2784,2785,2786,2787,2788,2789,2790,2791,2792,2793,2794,2795,2796,2797,2798,2799,2800,2801,2802,2803,2804,2805,2806,2807,2808,2809,2810,2811,2812,2813,2814,2815,2816,2817,2818,2819,2820,2821,2822,2823,2824,2825,2826,2827,2828,2829,2830,2831,2832,2833,2834,2835,2836,2837,2838,2839,2840,2841,2842,2843,2844,2845,2846,2847,2848,2849,2850,2851,2852,2853,2854,2855,2856,2857,2858,2859,2860,2861,2862,2863,2864,2865,2866,2867,2868,2869,2870,2871,2872,2873,2874,2875,2876,2877,2878,2879,2880,2881,2882,2883,2884,2885,2886,2887,2888,2889,2890,2891,2892,2893,2894,2895,2896,2897,2898,2899,2900,2901,2902,2903,2904,2905,2906,2907,2908,2909,2910,2911,2912,2913,2914,2915,2916,2917,2918,2919,2920,2921,2922,2923,2924,2925,2926,2927,2928,2929,2930,2931,2932,2933,2934,2935,2936,2937,2938,2939,2940,2941,2942,2943,2944,2945,2946,2947,2948,2949,2950,2951,2952,2953,2954,2955,2956,2957,2958,2959,2960,2961,2962,2963,2964,2965,2966,2967,2968,2969,2970,2971,2972,2973,2974,2975,2976,2977,2978,2979,2980,2981,2982,2983,2984,2985,2986,2987,2988,2989,2990,2991,2992,2993,2994,2995,2996,2997,2998,2999,3000,3001,3002,3003,3004,3005,3006,3007,3008,3009,3010,3011,3012,3013,3014,3015,3016,3017,3018,3019,3020,3021,3022,3023,3024,3025,3026,3027,3028,3029,3030,3031,3032,3033,3034,3035,3036,3037,3038,3039,3040,3041,3042,3043,3044,3045,3046,3047,3048,3049,3050,3051,3052,3053,3054,3055,3056,3057,3058,3059,3060,3061,3062,3063,3064,3065,3066,3067,3068,3069,3070,3071,3072,3073,3074,3075,3076,3077,3078,3079,3080,3081,3082,3083,3084,3085,3086,3087,3088,3089,3090,3091,3092,3093,3094,3095,3096,3097,3098,3099,3100,3101,3102,3103,3104,3105,3106,3107,3108,3109,3110,3111,3112,3113,3114,3115,3116,3117,3118,3119,3120,3121,3122,3123,3124,3125,3126,3127,3128,3129,3130,3131,3132,3133,3134,3135,3136,3137,3138,3139,3140,3141,3142,3143,3144,3145,3146,3147,3148,3149,3150,3151,3152,3153,3154,3155,3156,3157,3158,3159,3160,3161,3162,3163,3164,3165,3166,3167,3168,3169,3170,3171,3172,3173,3174,3175,3176,3177,3178,3179,3180,3181,3182,3183,3184,3185,3186,3187,3188,3189,3190,3191,3192,3193,3194,3195,3196,3197,3198,3199,3200,3201,3202,3203,3204,3205,3206,3207,3208,3209,3210,3211,3212,3213,3214,3215,3216,3217,3218,3219,3220,3221,3222,3223,3224,3225,3226,3227,3228,3229,3230,3231,3232,3233,3234,3235,3236,3237,3238,3239,3240,3241,3242,3243,3244,3245,3246,3247,3248,3249,3250,3251,3252,3253,3254,3255,3256,3257,3258,3259,3260,3261,3262,3263,3264,3265,3266,3267,3268,3269,3270,3271,3272,3273,3274,3275,3276,3277,3278,3279,3280,3281,3282,3283,3284,3285,3286,3287,3288,3289,3290,3291,3292,3293,3294,3295,3296,3297,3298,3299,3300,3301,3302,3303,3304,3305,3306,3307,3308,3309,3310,3311,3312,3313,3314,3315,3316,3317,3318,3319,3320,3321,3322,3323,3324,3325,3326,3327,3328,3329,3330,3331,3332,3333,3334,3335,3336,3337,3338,3339,3340,3341,3342,3343,3344,3345,3346,3347,3348,3349,3350,3351,3352,3353,3354,3355,3356,3357,3358,3359,3360,3361,3362,3363,3364,3365,3366,3367,3368,3369,3370,3371,3372,3373,3374,3375,3376,3377,3378,3379,3380,3381,3382,3383,3384,3385,3386,3387,3388,3389,3390,3391,3392,3393,3394,3395,3396,3397,3398,3399,3400,3401,3402,3403,3404,3405,3406,3407,3408,3409,3410,3411,3412,3413,3414,3415,3416,3417,3418,3419,3420,3421,3422,3423,3424,3425,3426,3427,3428,3429,3430,3431,3432,3433,3434,3435,3436,3437,3438,3439,3440,3441,3442,3443,3444,3445,3446,3447,3448,3449,3450,3451,3452,3453,3454,3455,3456,3457,3458,3459,3460,3461,3462,3463,3464,3465,3466,3467,3468,3469,3470,3471,3472,3473,3474,3475,3476,3477,3478,3479,3480,3481,3482,3483,3484,3485,3486,3487,3488,3489,3490,3491,3492,3493,3494,3495,3496,3497,3498,3499,3500,3501,3502,3503,3504,3505,3506,3507,3508,3509,3510,3511,3512,3513,3514,3515,3516,3517,3518,3519,3520,3521,3522,3523,3524,3525,3526,3527,3528,3529,3530,3531,3532,3533,3534,3535,3536,3537,3538,3539,3540,3541,3542,3543,3544,3545,3546,3547,3548,3549,3550,3551,3552,3553,3554,3555,3556,3557,3558,3559,3560,3561,3562,3563,3564,3565,3566,3567,3568,3569,3570,3571,3572,3573,3574,3575,3576,3577,3578,3579,3580,3581,3582,3583,3584,3585,3586,3587,3588,3589,3590,3591,3592,3593,3594,3595,3596,3597,3598,3599,3600,3601,3602,3603,3604,3605,3606,3607,3608,3609,3610,3611,3612,3613,3614,3615,3616,3617,3618,3619,3620,3621,3622,3623,3624,3625,3626,3627,3628,3629,3630,3631,3632,3633,3634,3635,3636,3637,3638,3639,3640,3641,3642,3643,3644,3645,3646,3647,3648,3649,3650,3651,3652,3653,3654,3655,3656,3657,3658,3659,3660,3661,3662,3663,3664,3665,3666,3667,3668,3669,3670,3671,3672,3673,3674,3675,3676,3677,3678,3679,3680,3681,3682,3683,3684,3685,3686,3687,3688,3689,3690,3691,3692,3693,3694,3695,3696,3697,3698,3699,3700,3701,3702,3703,3704,3705,3706,3707,3708,3709,3710,3711,3712,3713,3714,3715,3716,3717,3718,3719,3720,3721,3722,3723,3724,3725,3726,3727,3728,3729,3730,3731,3732,3733,3734,3735,3736,3737,3738,3739,3740,3741,3742,3743,3744,3745,3746,3747,3748,3749,3750,3751,3752,3753,3754,3755,3756,3757,3758,3759,3760,3761,3762,3763,3764,3765,3766,3767,3768,3769,3770,3771,3772,3773,3774,3775,3776,3777,3778,3779,3780,3781,3782,3783,3784,3785,3786,3787,3788,3789,3790,3791,3792,3793,3794,3795,3796,3797,3798,3799,3800,3801,3802,3803,3804,3805,3806,3807,3808,3809,3810,3811,3812,3813,3814,3815,3816,3817,3818,3819,3820,3821,3822,3823,3824,3825,3826,3827,3828,3829,3830,3831,3832,3833,3834,3835,3836,3837,3838,3839,3840,3841,3842,3843,3844,3845,3846,3847,3848,3849,3850,3851,3852,3853,3854,3855,3856,3857,3858,3859,3860,3861,3862,3863,3864,3865,3866,3867,3868,3869,3870,3871,3872,3873,3874,3875,3876,3877,3878,3879,3880,3881,3882,3883,3884,3885,3886,3887,3888,3889,3890,3891,3892,3893,3894,3895,3896,3897,3898,3899,3900,3901,3902,3903,3904,3905,3906,3907,3908,3909,3910,3911,3912,3913,3914,3915,3916,3917,3918,3919,3920,3921,3922,3923,3924,3925,3926,3927,3928,3929,3930,3931,3932,3933,3934,3935,3936,3937,3938,3939,3940,3941,3942,3943,3944,3945,3946,3947,3948,3949,3950,3951,3952,3953,3954,3955,3956,3957,3958,3959,3960,3961,3962,3963,3964,3965,3966,3967,3968,3969,3970,3971,3972,3973,3974,3975,3976,3977,3978,3979,3980,3981,3982,3983,3984,3985,3986,3987,3988,3989,3990,3991,3992,3993,3994,3995,3996,3997,3998,3999,4000,4001,4002,4003,4004,4005,4006,4007,4008,4009,4010,4011,4012,4013,4014,4015,4016,4017,4018,4019,4020,4021,4022,4023,4024,4025,4026,4027,4028,4029,4030,4031,4032,4033,4034,4035,4036,4037,4038,4039,4040,4041,4042,4043,4044,4045,4046,4047,4048,4049,4050,4051,4052,4053,4054,4055,4056,4057,4058,4059,4060,4061,4062,4063,4064,4065,4066,4067,4068,4069,4070,4071,4072,4073,4074,4075,4076,4077,4078,4079,4080,4081,4082,4083,4084,4085,4086,4087,4088,4089,4090,4091,4092,4093,4094,4095,4096,4097,4098,4099,4100,4101,4102,4103,4104,4105,4106,4107,4108,4109,4110,4111,4112,4113,4114,4115,4116,4117,4118,4119,4120,4121,4122,4123,4124,4125,4126,4127,4128,4129,4130,4131,4132,4133,4134,4135,4136,4137,4138,4139,4140,4141,4142,4143,4144,4145,4146,4147,4148,4149,4150,4151,4152,4153,4154,4155,4156,4157,4158,4159,4160,4161,4162,4163,4164,4165,4166,4167,4168,4169,4170,4171,4172,4173,4174,4175,4176,4177,4178,4179,4180,4181,4182,4183,4184,4185,4186,4187,4188,4189,4190,4191,4192,4193,4194,4195,4196,4197,4198,4199,4200,4201,4202,4203,4204,4205,4206,4207,4208,4209,4210,4211,4212,4213,4214,4215,4216,4217,4218,4219,4220,4221,4222,4223,4224,4225,4226,4227,4228,4229,4230,4231,4232,4233,4234,4235,4236,4237,4238,4239,4240,4241,4242,4243,4244,4245,4246,4247,4248,4249,4250,4251,4252,4253,4254,4255,4256,4257,4258,4259,4260,4261,4262,4263,4264,4265,4266,4267,4268,4269,4270,4271,4272,4273,4274,4275,4276,4277,4278,4279,4280,4281,4282,4283,4284,4285,4286,4287,4288,4289,4290,4291,4292,4293,4294,4295,4296,4297,4298,4299,4300,4301,4302,4303,4304,4305,4306,4307,4308,4309,4310,4311,4312,4313,4314,4315,4316,4317,4318,4319,4320,4321,4322,4323,4324,4325,4326,4327,4328,4329,4330,4331,4332,4333,4334,4335,4336,4337,4338,4339,4340,4341,4342,4343,4344,4345,4346,4347,4348,4349,4350,4351,4352,4353,4354,4355,4356,4357,4358,4359,4360,4361,4362,4363,4364,4365,4366,4367,4368,4369,4370,4371,4372,4373,4374,4375,4376,4377,4378,4379,4380,4381,4382,4383,4384,4385,4386,4387,4388,4389,4390,4391,4392,4393,4394,4395,4396,4397,4398,4399,4400,4401,4402,4403,4404,4405,4406,4407,4408,4409,4410,4411,4412,4413,4414,4415,4416,4417,4418,4419,4420,4421,4422,4423,4424,4425,4426,4427,4428,4429,4430,4431,4432,4433,4434,4435,4436,4437,4438,4439,4440,4441,4442,4443,4444,4445,4446,4447,4448,4449,4450,4451,4452,4453,4454,4455,4456,4457,4458,4459,4460,4461,4462,4463,4464,4465,4466,4467,4468,4469,4470,4471,4472,4473,4474,4475,4476,4477,4478,4479,4480,4481,4482,4483,4484,4485,4486,4487,4488,4489,4490,4491,4492,4493,4494,4495,4496,4497,4498,4499,4500,4501,4502,4503,4504,4505,4506,4507,4508,4509,4510,4511,4512,4513,4514,4515,4516,4517,4518,4519,4520,4521,4522,4523,4524,4525,4526,4527,4528,4529,4530,4531,4532,4533,4534,4535,4536,4537,4538,4539,4540,4541,4542,4543,4544,4545,4546,4547,4548,4549,4550,4551,4552,4553,4554,4555,4556,4557,4558,4559,4560,4561,4562,4563,4564,4565,4566,4567,4568,4569,4570,4571,4572,4573,4574,4575,4576,4577,4578,4579,4580,4581,4582,4583,4584,4585,4586,4587,4588,4589,4590,4591,4592,4593,4594,4595,4596,4597,4598,4599,4600,4601,4602,4603,4604,4605,4606,4607,4608,4609,4610,4611,4612,4613,4614,4615,4616,4617,4618,4619,4620,4621,4622,4623,4624,4625,4626,4627,4628,4629,4630,4631,4632,4633,4634,4635,4636,4637,4638,4639,4640,4641,4642,4643,4644,4645,4646,4647,4648,4649,4650,4651,4652,4653,4654,4655,4656,4657,4658,4659,4660,4661,4662,4663,4664,4665,4666,4667,4668,4669,4670,4671,4672,4673,4674,4675,4676,4677,4678,4679,4680,4681,4682,4683,4684,4685,4686,4687,4688,4689,4690,4691,4692,4693,4694,4695,4696,4697,4698,4699,4700,4701,4702,4703,4704,4705,4706,4707,4708,4709,4710,4711,4712,4713,4714,4715,4716,4717,4718,4719,4720,4721,4722,4723,4724,4725,4726,4727,4728,4729,4730,4731,4732,4733,4734,4735,4736,4737,4738,4739,4740,4741,4742,4743,4744,4745,4746,4747,4748,4749,4750,4751,4752,4753,4754,4755,4756,4757,4758,4759,4760,4761,4762,4763,4764,4765,4766,4767,4768,4769,4770,4771,4772,4773,4774,4775,4776,4777,4778,4779,4780,4781,4782,4783,4784,4785,4786,4787,4788,4789,4790,4791,4792,4793,4794,4795,4796,4797,4798,4799,4800,4801,4802,4803,4804,4805,4806,4807,4808,4809,4810,4811,4812,4813,4814,4815,4816,4817,4818,4819,4820,4821,4822,4823,4824,4825,4826,4827,4828,4829,4830,4831,4832,4833,4834,4835,4836,4837,4838,4839,4840,4841,4842,4843,4844,4845,4846,4847,4848,4849,4850,4851,4852,4853,4854,4855,4856,4857,4858,4859,4860,4861,4862,4863,4864,4865,4866,4867,4868,4869,4870,4871,4872,4873,4874,4875,4876,4877,4878,4879,4880,4881,4882,4883,4884,4885,4886,4887,4888,4889,4890,4891,4892,4893,4894,4895,4896,4897,4898,4899,4900,4901,4902,4903,4904,4905,4906,4907,4908,4909,4910,4911,4912,4913,4914,4915,4916,4917,4918,4919,4920,4921,4922,4923,4924,4925,4926,4927,4928,4929,4930,4931,4932,4933,4934,4935,4936,4937,4938,4939,4940,4941,4942,4943,4944,4945,4946,4947,4948,4949,4950,4951,4952,4953,4954,4955,4956,4957,4958,4959,4960,4961,4962,4963,4964,4965,4966,4967,4968,4969,4970,4971,4972,4973,4974,4975,4976,4977,4978,4979,4980,4981,4982,4983,4984,4985,4986,4987,4988,4989,4990,4991,4992,4993,4994,4995,4996,4997,4998,4999,5000,5001,5002,5003,5004,5005,5006,5007,5008,5009,5010,5011,5012,5013,5014,5015,5016,5017,5018,5019,5020,5021,5022,5023,5024,5025,5026,5027,5028,5029,5030,5031,5032,5033,5034,5035,5036,5037,5038,5039,5040,5041,5042,5043,5044,5045,5046,5047,5048,5049,5050,5051,5052,5053,5054,5055,5056,5057,5058,5059,5060,5061,5062,5063,5064,5065,5066,5067,5068,5069,5070,5071,5072,5073,5074,5075,5076,5077,5078,5079,5080,5081,5082,5083,5084,5085,5086,5087,5088,5089,5090,5091,5092,5093,5094,5095,5096,5097,5098,5099,5100,5101,5102,5103,5104,5105,5106,5107,5108,5109,5110,5111,5112,5113,5114,5115,5116,5117,5118,5119,5120,5121,5122,5123,5124,5125,5126,5127,5128,5129,5130,5131,5132,5133,5134,5135,5136,5137,5138,5139,5140,5141,5142,5143,5144,5145,5146,5147,5148,5149,5150,5151,5152,5153,5154,5155,5156,5157,5158,5159,5160,5161,5162,5163,5164,5165,5166,5167,5168,5169,5170,5171,5172,5173,5174,5175,5176,5177,5178,5179,5180,5181,5182,5183,5184,5185,5186,5187,5188,5189,5190,5191,5192,5193,5194,5195,5196,5197,5198,5199,5200,5201,5202,5203,5204,5205,5206,5207,5208,5209,5210,5211,5212,5213,5214,5215,5216,5217,5218,5219,5220,5221,5222,5223,5224,5225,5226,5227,5228,5229,5230,5231,5232,5233,5234,5235,5236,5237,5238,5239,5240,5241,5242,5243,5244,5245,5246,5247,5248,5249,5250,5251,5252,5253,5254,5255,5256,5257,5258,5259,5260,5261,5262,5263,5264,5265,5266,5267,5268,5269,5270,5271,5272,5273,5274,5275,5276,5277,5278,5279,5280,5281,5282,5283,5284,5285,5286,5287,5288,5289,5290,5291,5292,5293,5294,5295,5296,5297,5298,5299,5300,5301,5302,5303,5304,5305,5306,5307,5308,5309,5310,5311,5312,5313,5314,5315,5316,5317,5318,5319,5320,5321,5322,5323,5324,5325,5326,5327,5328,5329,5330,5331,5332,5333,5334,5335,5336,5337,5338,5339,5340,5341,5342,5343,5344,5345,5346,5347,5348,5349,5350,5351,5352,5353,5354,5355,5356,5357,5358,5359,5360,5361,5362,5363,5364,5365,5366,5367,5368,5369,5370,5371,5372,5373,5374,5375,5376,5377,5378,5379,5380,5381,5382,5383,5384,5385,5386,5387,5388,5389,5390,5391,5392,5393,5394,5395,5396,5397,5398,5399,5400,5401,5402,5403,5404,5405,5406,5407,5408,5409,5410,5411,5412,5413,5414,5415,5416,5417,5418,5419,5420,5421,5422,5423,5424,5425,5426,5427,5428,5429,5430,5431,5432,5433,5434,5435,5436,5437,5438,5439,5440,5441,5442,5443,5444,5445,5446,5447,5448,5449,5450,5451,5452,5453,5454,5455,5456,5457,5458,5459,5460,5461,5462,5463,5464,5465,5466,5467,5468,5469,5470,5471,5472,5473,5474,5475,5476,5477,5478,5479,5480,5481,5482,5483,5484,5485,5486,5487,5488,5489,5490,5491,5492,5493,5494,5495,5496,5497,5498,5499,5500,5501,5502,5503,5504,5505,5506,5507,5508,5509,5510,5511,5512,5513,5514,5515,5516,5517,5518,5519],\"y\":[-0.3317081034183502,-0.4528256952762604,-0.580342710018158,-0.6655974388122559,-0.656968355178833,-0.38614246249198914,-0.5855719447135925,-0.5620417594909668,-0.5736515522003174,-0.6777817606925964,-0.706628143787384,-0.6457736492156982,-0.8892003297805786,-0.40809187293052673,-0.4354906976222992,-0.490192711353302,-0.44526946544647217,-0.7293704152107239,-0.8000233769416809,-0.49774858355522156,-0.4943062663078308,-0.3999989628791809,-0.6216121315956116,-0.31468886137008667,-0.1052812933921814,-0.5250311493873596,-0.4179314076900482,-0.7892262935638428,-0.3224438428878784,-0.19681747257709503,-0.3815106153488159,-0.3868660628795624,-0.6268870830535889,-0.7779350876808167,-0.41666772961616516,-0.3411857783794403,-0.579424262046814,-0.32372748851776123,-0.3140498697757721,-0.5495282411575317,-0.8787341117858887,-0.6585572957992554,-0.6946960091590881,-0.7209075689315796,-0.20387262105941772,-0.27421966195106506,-0.13043738901615143,-0.213838130235672,-0.3030228912830353,-0.4974014163017273,-0.6944135427474976,-0.7863962650299072,-0.5513356924057007,-0.376810759305954,-0.756951630115509,-0.787584662437439,-0.9513307213783264,-0.9090816378593445,-0.33657106757164,-0.7165050506591797,-0.5942013263702393,-0.3613370358943939,-0.42135435342788696,-0.7564918994903564,-0.5968348979949951,-0.6220561861991882,-0.44604015350341797,-0.3217957615852356,-0.6551787257194519,-0.4696624279022217,-0.37829819321632385,-0.949149489402771,-0.04787293076515198,-0.45448875427246094,-0.400906503200531,-0.547928512096405,-0.5660741329193115,-0.18676580488681793,-0.5112903118133545,-0.17890451848506927,-0.3780134320259094,-0.36177462339401245,-0.400898277759552,-0.6290392279624939,-0.4188646674156189,-0.3924758732318878,-0.4205971956253052,-0.4143906533718109,-0.45460236072540283,-0.7437366843223572,-0.3349176347255707,-0.28178641200065613,-0.2693062722682953,-0.22434629499912262,-0.4966934323310852,-0.3628165125846863,-0.21628862619400024,-0.5389015674591064,-0.28669673204421997,-0.15407493710517883,-0.34919607639312744,-0.5948594212532043,-0.5457299947738647,-0.5207369923591614,-0.5532594323158264,-0.5055946707725525,-0.5858835577964783,-0.6507760882377625,-0.8961406946182251,-0.47816261649131775,-0.1727418750524521,-0.48629069328308105,-0.6502545475959778,-0.6646167039871216,-0.7264448404312134,-0.539654016494751,-0.6367509961128235,-0.5677995085716248,-0.3856579065322876,-0.6192135810852051,-0.8129496574401855,-0.5935848951339722,-0.44333693385124207,-0.5485263466835022,-0.39366215467453003,-0.7226119637489319,-0.4387260973453522,-0.6895744204521179,-0.6159095168113708,-0.316584050655365,-0.5543554425239563,-0.4822457730770111,-0.2845554053783417,-0.8302361369132996,-0.42038995027542114,-0.47870877385139465,-0.3940611779689789,-0.38950854539871216,-0.7378029227256775,-0.5025776028633118,-0.47866806387901306,-0.7729129791259766,-0.5598661303520203,-0.12559182941913605,-0.7432702779769897,-0.6022416353225708,-0.4559129774570465,-0.6125182509422302,-0.3628929853439331,-0.40842553973197937,-0.6761853694915771,-0.7554106116294861,-0.5904192328453064,-0.3803839385509491,-0.5551227331161499,-0.670068085193634,-0.44396093487739563,-0.5572465658187866,-0.6086998581886292,-0.16910508275032043,-0.3157992362976074,-0.5509952902793884,-0.8392825126647949,-0.6469954252243042,-0.2773219347000122,-0.639491617679596,-0.4468187987804413,-0.5150903463363647,-0.7488954067230225,-0.5721951723098755,-0.3512323498725891,-0.2634393274784088,-0.6585409045219421,-0.6521281003952026,-0.49234697222709656,-0.6414517760276794,-0.3853498101234436,-0.6179566979408264,-0.19990274310112,-0.37599948048591614,-0.6384268403053284,-0.8573852181434631,-0.5621038675308228,-0.4901682138442993,-0.45878151059150696,-0.30939868092536926,-0.4546530842781067,-0.6201046705245972,-0.7039451003074646,-0.5728383660316467,-0.5436275601387024,-0.4773326516151428,-0.7718983292579651,-0.6172276735305786,-0.30123504996299744,-0.558067798614502,-0.942110002040863,-0.6069933772087097,-0.835177481174469,-0.5855567455291748,-0.7733033895492554,-0.20581009984016418,-0.3220357298851013,-0.41292625665664673,-0.5531091094017029,-0.29691648483276367,-0.6603711843490601,-0.46794483065605164,-0.13447971642017365,-0.496906042098999,-0.673143744468689,-0.8286935091018677,-0.7093964219093323,-0.632072389125824,-0.46952953934669495,-0.43178585171699524,-0.48445025086402893,-0.42035770416259766,-0.4521937966346741,-0.5582684874534607,-0.7026003003120422,-0.4482537806034088,-0.24971133470535278,-0.5338956713676453,-0.59128737449646,-0.3920004367828369,-0.24529719352722168,-0.7466757297515869,-0.21460507810115814,-0.5135141015052795,-0.31394582986831665,-0.6504552364349365,-0.8712517619132996,-0.2661260962486267,-0.46312639117240906,-0.5917572975158691,-0.7485404014587402,-0.9046677947044373,-0.6028937697410583,-0.6303271651268005,-0.5059393644332886,-0.6817671060562134,-0.40305328369140625,-0.39572611451148987,-0.5186449885368347,-0.668576180934906,-0.277988076210022,-0.3520755469799042,-0.36883172392845154,-0.38999927043914795,-0.6267670392990112,-0.7040380835533142,-0.655517041683197,-0.39434996247291565,-0.3951433598995209,-0.5235363245010376,-0.4886719286441803,-0.3707345426082611,-0.6199857592582703,-0.7355606555938721,-0.4350636303424835,-0.3132413327693939,-0.4496297836303711,-0.6598609685897827,-0.6212108135223389,-0.6233610510826111,-0.30942410230636597,-0.2520656883716583,-0.536842405796051,-0.6687456369400024,-0.45645931363105774,-0.410168319940567,-0.477685809135437,-0.2521551549434662,-0.48590999841690063,-0.5921186804771423,-0.7268528342247009,-0.47832030057907104,-0.2955762445926666,-0.43900686502456665,-0.7109202146530151,-0.6271399259567261,-0.3345086872577667,-0.46136897802352905,-0.4380377233028412,-0.580501139163971,-0.6042811274528503,-0.6325197815895081,-0.4710018038749695,-0.43994346261024475,-0.5177202820777893,-0.6594568490982056,-0.5016148090362549,-0.2524104714393616,-0.6306338310241699,-0.5543753504753113,-0.30175358057022095,-0.7316328883171082,-0.5146791338920593,-0.8284996151924133,-0.7828043699264526,-0.43707749247550964,-0.7119308114051819,-0.652383029460907,-0.2728717625141144,-0.5000301003456116,-0.3413463830947876,-0.16274771094322205,-0.7790582180023193,-0.8917791247367859]}},\"id\":\"b6523185-024f-4e58-b222-45b82d8047ec\",\"type\":\"ColumnDataSource\"},{\"attributes\":{\"line_alpha\":{\"value\":0.1},\"line_color\":{\"value\":\"#1f77b4\"},\"x\":{\"field\":\"x\"},\"y\":{\"field\":\"y\"}},\"id\":\"d8ec7b1a-bcfa-46d5-97b8-feac298521e8\",\"type\":\"Line\"},{\"attributes\":{\"plot\":{\"id\":\"9e9edb65-5c4d-4ffe-8d7d-54d77d4581c6\",\"subtype\":\"Figure\",\"type\":\"Plot\"},\"ticker\":{\"id\":\"f22c4151-378d-4ff1-855a-cd78129281a3\",\"type\":\"BasicTicker\"}},\"id\":\"58ff5b38-f74f-4309-b15d-5b93905e6bef\",\"type\":\"Grid\"},{\"attributes\":{\"callback\":null},\"id\":\"2579bf7a-e011-477e-8225-fa46f921e6dc\",\"type\":\"DataRange1d\"},{\"attributes\":{\"plot\":{\"id\":\"9e9edb65-5c4d-4ffe-8d7d-54d77d4581c6\",\"subtype\":\"Figure\",\"type\":\"Plot\"}},\"id\":\"ee0fdaf1-4ef2-4a9c-a81e-f6e3e532bea0\",\"type\":\"HelpTool\"},{\"attributes\":{\"overlay\":{\"id\":\"a79f9814-f0be-4e58-b8db-98a1bf63828f\",\"type\":\"BoxAnnotation\"},\"plot\":{\"id\":\"9e9edb65-5c4d-4ffe-8d7d-54d77d4581c6\",\"subtype\":\"Figure\",\"type\":\"Plot\"}},\"id\":\"d52b5adf-4312-4461-bd81-f5337696a2a8\",\"type\":\"BoxZoomTool\"},{\"attributes\":{\"dimension\":1,\"plot\":{\"id\":\"9e9edb65-5c4d-4ffe-8d7d-54d77d4581c6\",\"subtype\":\"Figure\",\"type\":\"Plot\"},\"ticker\":{\"id\":\"be008815-6828-4336-a1bd-0cd66018078b\",\"type\":\"BasicTicker\"}},\"id\":\"ad113645-f491-4115-8073-91bf21cc31cb\",\"type\":\"Grid\"},{\"attributes\":{\"line_color\":{\"value\":\"#1f77b4\"},\"x\":{\"field\":\"x\"},\"y\":{\"field\":\"y\"}},\"id\":\"7fc40b83-e764-40f4-a995-a0d22f478dfd\",\"type\":\"Line\"},{\"attributes\":{\"axis_label\":\"Voxel Number\",\"formatter\":{\"id\":\"1bf7177d-c0c3-4f8b-8f23-30032216edc8\",\"type\":\"BasicTickFormatter\"},\"plot\":{\"id\":\"9e9edb65-5c4d-4ffe-8d7d-54d77d4581c6\",\"subtype\":\"Figure\",\"type\":\"Plot\"},\"ticker\":{\"id\":\"f22c4151-378d-4ff1-855a-cd78129281a3\",\"type\":\"BasicTicker\"}},\"id\":\"32dc63cf-ed38-4490-9af2-2fe29c7d22dd\",\"type\":\"LinearAxis\"},{\"attributes\":{\"plot\":null,\"text\":\"Scaled Voxel values for time point = 100\"},\"id\":\"3b53e6fb-76f9-4b72-b787-bf207a68affe\",\"type\":\"Title\"},{\"attributes\":{\"active_drag\":\"auto\",\"active_scroll\":\"auto\",\"active_tap\":\"auto\",\"tools\":[{\"id\":\"e022c193-3d89-449e-8a17-603a95ec53f5\",\"type\":\"PanTool\"},{\"id\":\"b999cc02-df93-4aa8-a9b1-07bd4a657294\",\"type\":\"WheelZoomTool\"},{\"id\":\"d52b5adf-4312-4461-bd81-f5337696a2a8\",\"type\":\"BoxZoomTool\"},{\"id\":\"fc10e08b-053f-43fa-a1b4-f47918e50709\",\"type\":\"SaveTool\"},{\"id\":\"e93c752a-87bf-47c4-988d-c754953c4ffd\",\"type\":\"ResetTool\"},{\"id\":\"ee0fdaf1-4ef2-4a9c-a81e-f6e3e532bea0\",\"type\":\"HelpTool\"}]},\"id\":\"bcbb4c60-d479-4d2b-85e1-0d58e88d684e\",\"type\":\"Toolbar\"},{\"attributes\":{\"callback\":null},\"id\":\"acd4cd88-3597-45a1-b8c8-715163b080c9\",\"type\":\"DataRange1d\"},{\"attributes\":{\"plot\":{\"id\":\"9e9edb65-5c4d-4ffe-8d7d-54d77d4581c6\",\"subtype\":\"Figure\",\"type\":\"Plot\"}},\"id\":\"e93c752a-87bf-47c4-988d-c754953c4ffd\",\"type\":\"ResetTool\"},{\"attributes\":{\"below\":[{\"id\":\"32dc63cf-ed38-4490-9af2-2fe29c7d22dd\",\"type\":\"LinearAxis\"}],\"left\":[{\"id\":\"2e5253b9-1f58-48eb-a68f-2081cf5e5f9a\",\"type\":\"LinearAxis\"}],\"renderers\":[{\"id\":\"32dc63cf-ed38-4490-9af2-2fe29c7d22dd\",\"type\":\"LinearAxis\"},{\"id\":\"58ff5b38-f74f-4309-b15d-5b93905e6bef\",\"type\":\"Grid\"},{\"id\":\"2e5253b9-1f58-48eb-a68f-2081cf5e5f9a\",\"type\":\"LinearAxis\"},{\"id\":\"ad113645-f491-4115-8073-91bf21cc31cb\",\"type\":\"Grid\"},{\"id\":\"a79f9814-f0be-4e58-b8db-98a1bf63828f\",\"type\":\"BoxAnnotation\"},{\"id\":\"641b7ebd-6124-4e5a-85a7-ed42cee814b5\",\"type\":\"GlyphRenderer\"}],\"title\":{\"id\":\"3b53e6fb-76f9-4b72-b787-bf207a68affe\",\"type\":\"Title\"},\"tool_events\":{\"id\":\"e9bc6d30-99a3-4b57-8416-eff79d8b3fcf\",\"type\":\"ToolEvents\"},\"toolbar\":{\"id\":\"bcbb4c60-d479-4d2b-85e1-0d58e88d684e\",\"type\":\"Toolbar\"},\"x_range\":{\"id\":\"acd4cd88-3597-45a1-b8c8-715163b080c9\",\"type\":\"DataRange1d\"},\"y_range\":{\"id\":\"2579bf7a-e011-477e-8225-fa46f921e6dc\",\"type\":\"DataRange1d\"}},\"id\":\"9e9edb65-5c4d-4ffe-8d7d-54d77d4581c6\",\"subtype\":\"Figure\",\"type\":\"Plot\"},{\"attributes\":{},\"id\":\"f22c4151-378d-4ff1-855a-cd78129281a3\",\"type\":\"BasicTicker\"},{\"attributes\":{},\"id\":\"be008815-6828-4336-a1bd-0cd66018078b\",\"type\":\"BasicTicker\"},{\"attributes\":{\"plot\":{\"id\":\"9e9edb65-5c4d-4ffe-8d7d-54d77d4581c6\",\"subtype\":\"Figure\",\"type\":\"Plot\"}},\"id\":\"fc10e08b-053f-43fa-a1b4-f47918e50709\",\"type\":\"SaveTool\"}],\"root_ids\":[\"9e9edb65-5c4d-4ffe-8d7d-54d77d4581c6\"]},\"title\":\"Bokeh Application\",\"version\":\"0.12.0\"}};\n",
       "            var render_items = [{\"docid\":\"81a0421e-fdd9-4754-8a29-c611081de6a7\",\"elementid\":\"b85ac084-c973-4671-b593-92ca6b841b3c\",\"modelid\":\"9e9edb65-5c4d-4ffe-8d7d-54d77d4581c6\",\"notebook_comms_target\":\"0a539239-ae7c-4b37-981f-7cee52dc988b\"}];\n",
       "            \n",
       "            Bokeh.embed.embed_items(docs_json, render_items);\n",
       "        });\n",
       "      },\n",
       "      function(Bokeh) {\n",
       "      }\n",
       "    ];\n",
       "  \n",
       "    function run_inline_js() {\n",
       "      for (var i = 0; i < inline_js.length; i++) {\n",
       "        inline_js[i](window.Bokeh);\n",
       "      }\n",
       "    }\n",
       "  \n",
       "    if (window._bokeh_is_loading === 0) {\n",
       "      console.log(\"Bokeh: BokehJS loaded, going straight to plotting\");\n",
       "      run_inline_js();\n",
       "    } else {\n",
       "      load_libs(js_urls, function() {\n",
       "        console.log(\"Bokeh: BokehJS plotting callback run at\", now());\n",
       "        run_inline_js();\n",
       "      });\n",
       "    }\n",
       "  }(this));\n",
       "</script>"
      ]
     },
     "metadata": {},
     "output_type": "display_data"
    },
    {
     "data": {
      "text/html": [
       "<p><code>&lt;Bokeh Notebook handle for <strong>In[16]</strong>&gt;</code></p>"
      ],
      "text/plain": [
       "<bokeh.io._CommsHandle at 0x2aced3370518>"
      ]
     },
     "execution_count": 16,
     "metadata": {},
     "output_type": "execute_result"
    }
   ],
   "source": [
    "row_num = 100 # Choose a time-point to plot a feature column\n",
    "p3 = figure(title=\"Scaled Voxel values for time point = %d\" % (row_num))\n",
    "p3.line(x=range(1,5520),y= maskedData_zscore[row_num,:]) # Plotting the column here instead of rows.\n",
    "p3.xaxis.axis_label = 'Voxel Number'\n",
    "p3.yaxis.axis_label = 'Voxel Intensity (Standardized)'\n",
    "\n",
    "show(p3)"
   ]
  },
  {
   "cell_type": "markdown",
   "metadata": {},
   "source": [
    "**Exercise:** Z-score the data by writing your own code instead of using the StandardScaler() method\n"
   ]
  },
  {
   "cell_type": "code",
   "execution_count": 17,
   "metadata": {
    "collapsed": false
   },
   "outputs": [
    {
     "name": "stdout",
     "output_type": "stream",
     "text": [
      "[  1.29097290e-06  -1.67334082e-05  -1.02199509e-05  -2.28716352e-05\n",
      "   5.35460210e-07   2.72224666e-05  -1.82192063e-06  -3.00883994e-06\n",
      "  -5.59395522e-06   2.13057993e-06]\n",
      "[ 1.00000006  0.99999983  1.00000012  1.00000015  0.9999999   1.00000021\n",
      "  1.00000007  1.00000004  0.99999993  1.00000023]\n"
     ]
    },
    {
     "data": {
      "text/html": [
       "\n",
       "\n",
       "    <div class=\"bk-root\">\n",
       "        <div class=\"plotdiv\" id=\"6bad2de2-f276-4ebd-bf1d-ac891d55f131\"></div>\n",
       "    </div>\n",
       "<script type=\"text/javascript\">\n",
       "  \n",
       "  (function(global) {\n",
       "    function now() {\n",
       "      return new Date();\n",
       "    }\n",
       "  \n",
       "    if (typeof (window._bokeh_onload_callbacks) === \"undefined\") {\n",
       "      window._bokeh_onload_callbacks = [];\n",
       "    }\n",
       "  \n",
       "    function run_callbacks() {\n",
       "      window._bokeh_onload_callbacks.forEach(function(callback) { callback() });\n",
       "      delete window._bokeh_onload_callbacks\n",
       "      console.info(\"Bokeh: all callbacks have finished\");\n",
       "    }\n",
       "  \n",
       "    function load_libs(js_urls, callback) {\n",
       "      window._bokeh_onload_callbacks.push(callback);\n",
       "      if (window._bokeh_is_loading > 0) {\n",
       "        console.log(\"Bokeh: BokehJS is being loaded, scheduling callback at\", now());\n",
       "        return null;\n",
       "      }\n",
       "      if (js_urls == null || js_urls.length === 0) {\n",
       "        run_callbacks();\n",
       "        return null;\n",
       "      }\n",
       "      console.log(\"Bokeh: BokehJS not loaded, scheduling load and callback at\", now());\n",
       "      window._bokeh_is_loading = js_urls.length;\n",
       "      for (var i = 0; i < js_urls.length; i++) {\n",
       "        var url = js_urls[i];\n",
       "        var s = document.createElement('script');\n",
       "        s.src = url;\n",
       "        s.async = false;\n",
       "        s.onreadystatechange = s.onload = function() {\n",
       "          window._bokeh_is_loading--;\n",
       "          if (window._bokeh_is_loading === 0) {\n",
       "            console.log(\"Bokeh: all BokehJS libraries loaded\");\n",
       "            run_callbacks()\n",
       "          }\n",
       "        };\n",
       "        s.onerror = function() {\n",
       "          console.warn(\"failed to load library \" + url);\n",
       "        };\n",
       "        console.log(\"Bokeh: injecting script tag for BokehJS library: \", url);\n",
       "        document.getElementsByTagName(\"head\")[0].appendChild(s);\n",
       "      }\n",
       "    };var element = document.getElementById(\"6bad2de2-f276-4ebd-bf1d-ac891d55f131\");\n",
       "    if (element == null) {\n",
       "      console.log(\"Bokeh: ERROR: autoload.js configured with elementid '6bad2de2-f276-4ebd-bf1d-ac891d55f131' but no matching script tag was found. \")\n",
       "      return false;\n",
       "    }\n",
       "  \n",
       "    var js_urls = [];\n",
       "  \n",
       "    var inline_js = [\n",
       "      function(Bokeh) {\n",
       "        Bokeh.$(function() {\n",
       "            var docs_json = {\"9f1eee3f-7689-4037-b5e9-ad97806e916c\":{\"roots\":{\"references\":[{\"attributes\":{\"plot\":{\"id\":\"e24eaf1a-41e4-4563-b0a7-919e9c99bc69\",\"subtype\":\"Figure\",\"type\":\"Plot\"},\"ticker\":{\"id\":\"f0b27a19-36ef-4f90-bd92-dbe6ebc7ba2a\",\"type\":\"BasicTicker\"}},\"id\":\"da2604f7-617a-4f5d-a24d-247bdf8a8989\",\"type\":\"Grid\"},{\"attributes\":{\"overlay\":{\"id\":\"c4092960-4650-4e6a-904a-500ca31c74a4\",\"type\":\"BoxAnnotation\"},\"plot\":{\"id\":\"e24eaf1a-41e4-4563-b0a7-919e9c99bc69\",\"subtype\":\"Figure\",\"type\":\"Plot\"}},\"id\":\"cb6ea8fd-cbc2-48c2-88e4-2dab60dfd366\",\"type\":\"BoxZoomTool\"},{\"attributes\":{\"axis_label\":\"Voxel Number\",\"formatter\":{\"id\":\"18205a3a-4d44-4db9-affd-cc61c39f1ae3\",\"type\":\"BasicTickFormatter\"},\"plot\":{\"id\":\"e24eaf1a-41e4-4563-b0a7-919e9c99bc69\",\"subtype\":\"Figure\",\"type\":\"Plot\"},\"ticker\":{\"id\":\"f0b27a19-36ef-4f90-bd92-dbe6ebc7ba2a\",\"type\":\"BasicTicker\"}},\"id\":\"b7a931f2-4471-4139-bd02-569dd6a6133d\",\"type\":\"LinearAxis\"},{\"attributes\":{\"callback\":null},\"id\":\"b3167dc9-f8b2-444c-b9f5-a2a5fdabbc71\",\"type\":\"DataRange1d\"},{\"attributes\":{\"line_alpha\":{\"value\":0.1},\"line_color\":{\"value\":\"#1f77b4\"},\"x\":{\"field\":\"x\"},\"y\":{\"field\":\"y\"}},\"id\":\"f6afedd0-b900-401b-a3b1-75ef5808beb7\",\"type\":\"Line\"},{\"attributes\":{\"plot\":{\"id\":\"e24eaf1a-41e4-4563-b0a7-919e9c99bc69\",\"subtype\":\"Figure\",\"type\":\"Plot\"}},\"id\":\"e2d90cb0-5ea8-4d07-a514-e0dd5ba2db36\",\"type\":\"WheelZoomTool\"},{\"attributes\":{\"callback\":null,\"column_names\":[\"y\",\"x\"],\"data\":{\"x\":[1,2,3,4,5,6,7,8,9,10,11,12,13,14,15,16,17,18,19,20,21,22,23,24,25,26,27,28,29,30,31,32,33,34,35,36,37,38,39,40,41,42,43,44,45,46,47,48,49,50,51,52,53,54,55,56,57,58,59,60,61,62,63,64,65,66,67,68,69,70,71,72,73,74,75,76,77,78,79,80,81,82,83,84,85,86,87,88,89,90,91,92,93,94,95,96,97,98,99,100,101,102,103,104,105,106,107,108,109,110,111,112,113,114,115,116,117,118,119,120,121,122,123,124,125,126,127,128,129,130,131,132,133,134,135,136,137,138,139,140,141,142,143,144,145,146,147,148,149,150,151,152,153,154,155,156,157,158,159,160,161,162,163,164,165,166,167,168,169,170,171,172,173,174,175,176,177,178,179,180,181,182,183,184,185,186,187,188,189,190,191,192,193,194,195,196,197,198,199,200,201,202,203,204,205,206,207,208,209,210,211,212,213,214,215,216,217,218,219,220,221,222,223,224,225,226,227,228,229,230,231,232,233,234,235,236,237,238,239,240,241,242,243,244,245,246,247,248,249,250,251,252,253,254,255,256,257,258,259,260,261,262,263,264,265,266,267,268,269,270,271,272,273,274,275,276,277,278,279,280,281,282,283,284,285,286,287,288,289,290,291,292,293,294,295,296,297,298,299,300,301,302,303,304,305,306,307,308,309,310,311,312,313,314,315,316,317,318,319,320,321,322,323,324,325,326,327,328,329,330,331,332,333,334,335,336,337,338,339,340,341,342,343,344,345,346,347,348,349,350,351,352,353,354,355,356,357,358,359,360,361,362,363,364,365,366,367,368,369,370,371,372,373,374,375,376,377,378,379,380,381,382,383,384,385,386,387,388,389,390,391,392,393,394,395,396,397,398,399,400,401,402,403,404,405,406,407,408,409,410,411,412,413,414,415,416,417,418,419,420,421,422,423,424,425,426,427,428,429,430,431,432,433,434,435,436,437,438,439,440,441,442,443,444,445,446,447,448,449,450,451,452,453,454,455,456,457,458,459,460,461,462,463,464,465,466,467,468,469,470,471,472,473,474,475,476,477,478,479,480,481,482,483,484,485,486,487,488,489,490,491,492,493,494,495,496,497,498,499,500,501,502,503,504,505,506,507,508,509,510,511,512,513,514,515,516,517,518,519,520,521,522,523,524,525,526,527,528,529,530,531,532,533,534,535,536,537,538,539,540,541,542,543,544,545,546,547,548,549,550,551,552,553,554,555,556,557,558,559,560,561,562,563,564,565,566,567,568,569,570,571,572,573,574,575,576,577,578,579,580,581,582,583,584,585,586,587,588,589,590,591,592,593,594,595,596,597,598,599,600,601,602,603,604,605,606,607,608,609,610,611,612,613,614,615,616,617,618,619,620,621,622,623,624,625,626,627,628,629,630,631,632,633,634,635,636,637,638,639,640,641,642,643,644,645,646,647,648,649,650,651,652,653,654,655,656,657,658,659,660,661,662,663,664,665,666,667,668,669,670,671,672,673,674,675,676,677,678,679,680,681,682,683,684,685,686,687,688,689,690,691,692,693,694,695,696,697,698,699,700,701,702,703,704,705,706,707,708,709,710,711,712,713,714,715,716,717,718,719,720,721,722,723,724,725,726,727,728,729,730,731,732,733,734,735,736,737,738,739,740,741,742,743,744,745,746,747,748,749,750,751,752,753,754,755,756,757,758,759,760,761,762,763,764,765,766,767,768,769,770,771,772,773,774,775,776,777,778,779,780,781,782,783,784,785,786,787,788,789,790,791,792,793,794,795,796,797,798,799,800,801,802,803,804,805,806,807,808,809,810,811,812,813,814,815,816,817,818,819,820,821,822,823,824,825,826,827,828,829,830,831,832,833,834,835,836,837,838,839,840,841,842,843,844,845,846,847,848,849,850,851,852,853,854,855,856,857,858,859,860,861,862,863,864,865,866,867,868,869,870,871,872,873,874,875,876,877,878,879,880,881,882,883,884,885,886,887,888,889,890,891,892,893,894,895,896,897,898,899,900,901,902,903,904,905,906,907,908,909,910,911,912,913,914,915,916,917,918,919,920,921,922,923,924,925,926,927,928,929,930,931,932,933,934,935,936,937,938,939,940,941,942,943,944,945,946,947,948,949,950,951,952,953,954,955,956,957,958,959,960,961,962,963,964,965,966,967,968,969,970,971,972,973,974,975,976,977,978,979,980,981,982,983,984,985,986,987,988,989,990,991,992,993,994,995,996,997,998,999,1000,1001,1002,1003,1004,1005,1006,1007,1008,1009,1010,1011,1012,1013,1014,1015,1016,1017,1018,1019,1020,1021,1022,1023,1024,1025,1026,1027,1028,1029,1030,1031,1032,1033,1034,1035,1036,1037,1038,1039,1040,1041,1042,1043,1044,1045,1046,1047,1048,1049,1050,1051,1052,1053,1054,1055,1056,1057,1058,1059,1060,1061,1062,1063,1064,1065,1066,1067,1068,1069,1070,1071,1072,1073,1074,1075,1076,1077,1078,1079,1080,1081,1082,1083,1084,1085,1086,1087,1088,1089,1090,1091,1092,1093,1094,1095,1096,1097,1098,1099,1100,1101,1102,1103,1104,1105,1106,1107,1108,1109,1110,1111,1112,1113,1114,1115,1116,1117,1118,1119,1120,1121,1122,1123,1124,1125,1126,1127,1128,1129,1130,1131,1132,1133,1134,1135,1136,1137,1138,1139,1140,1141,1142,1143,1144,1145,1146,1147,1148,1149,1150,1151,1152,1153,1154,1155,1156,1157,1158,1159,1160,1161,1162,1163,1164,1165,1166,1167,1168,1169,1170,1171,1172,1173,1174,1175,1176,1177,1178,1179,1180,1181,1182,1183,1184,1185,1186,1187,1188,1189,1190,1191,1192,1193,1194,1195,1196,1197,1198,1199,1200,1201,1202,1203,1204,1205,1206,1207,1208,1209,1210,1211,1212,1213,1214,1215,1216,1217,1218,1219,1220,1221,1222,1223,1224,1225,1226,1227,1228,1229,1230,1231,1232,1233,1234,1235,1236,1237,1238,1239,1240,1241,1242,1243,1244,1245,1246,1247,1248,1249,1250,1251,1252,1253,1254,1255,1256,1257,1258,1259,1260,1261,1262,1263,1264,1265,1266,1267,1268,1269,1270,1271,1272,1273,1274,1275,1276,1277,1278,1279,1280,1281,1282,1283,1284,1285,1286,1287,1288,1289,1290,1291,1292,1293,1294,1295,1296,1297,1298,1299,1300,1301,1302,1303,1304,1305,1306,1307,1308,1309,1310,1311,1312,1313,1314,1315,1316,1317,1318,1319,1320,1321,1322,1323,1324,1325,1326,1327,1328,1329,1330,1331,1332,1333,1334,1335,1336,1337,1338,1339,1340,1341,1342,1343,1344,1345,1346,1347,1348,1349,1350,1351,1352,1353,1354,1355,1356,1357,1358,1359,1360,1361,1362,1363,1364,1365,1366,1367,1368,1369,1370,1371,1372,1373,1374,1375,1376,1377,1378,1379,1380,1381,1382,1383,1384,1385,1386,1387,1388,1389,1390,1391,1392,1393,1394,1395,1396,1397,1398,1399,1400,1401,1402,1403,1404,1405,1406,1407,1408,1409,1410,1411,1412,1413,1414,1415,1416,1417,1418,1419,1420,1421,1422,1423,1424,1425,1426,1427,1428,1429,1430,1431,1432,1433,1434,1435,1436,1437,1438,1439,1440,1441,1442,1443,1444,1445,1446,1447,1448,1449,1450,1451,1452,1453,1454,1455,1456,1457,1458,1459,1460,1461,1462,1463,1464,1465,1466,1467,1468,1469,1470,1471,1472,1473,1474,1475,1476,1477,1478,1479,1480,1481,1482,1483,1484,1485,1486,1487,1488,1489,1490,1491,1492,1493,1494,1495,1496,1497,1498,1499,1500,1501,1502,1503,1504,1505,1506,1507,1508,1509,1510,1511,1512,1513,1514,1515,1516,1517,1518,1519,1520,1521,1522,1523,1524,1525,1526,1527,1528,1529,1530,1531,1532,1533,1534,1535,1536,1537,1538,1539,1540,1541,1542,1543,1544,1545,1546,1547,1548,1549,1550,1551,1552,1553,1554,1555,1556,1557,1558,1559,1560,1561,1562,1563,1564,1565,1566,1567,1568,1569,1570,1571,1572,1573,1574,1575,1576,1577,1578,1579,1580,1581,1582,1583,1584,1585,1586,1587,1588,1589,1590,1591,1592,1593,1594,1595,1596,1597,1598,1599,1600,1601,1602,1603,1604,1605,1606,1607,1608,1609,1610,1611,1612,1613,1614,1615,1616,1617,1618,1619,1620,1621,1622,1623,1624,1625,1626,1627,1628,1629,1630,1631,1632,1633,1634,1635,1636,1637,1638,1639,1640,1641,1642,1643,1644,1645,1646,1647,1648,1649,1650,1651,1652,1653,1654,1655,1656,1657,1658,1659,1660,1661,1662,1663,1664,1665,1666,1667,1668,1669,1670,1671,1672,1673,1674,1675,1676,1677,1678,1679,1680,1681,1682,1683,1684,1685,1686,1687,1688,1689,1690,1691,1692,1693,1694,1695,1696,1697,1698,1699,1700,1701,1702,1703,1704,1705,1706,1707,1708,1709,1710,1711,1712,1713,1714,1715,1716,1717,1718,1719,1720,1721,1722,1723,1724,1725,1726,1727,1728,1729,1730,1731,1732,1733,1734,1735,1736,1737,1738,1739,1740,1741,1742,1743,1744,1745,1746,1747,1748,1749,1750,1751,1752,1753,1754,1755,1756,1757,1758,1759,1760,1761,1762,1763,1764,1765,1766,1767,1768,1769,1770,1771,1772,1773,1774,1775,1776,1777,1778,1779,1780,1781,1782,1783,1784,1785,1786,1787,1788,1789,1790,1791,1792,1793,1794,1795,1796,1797,1798,1799,1800,1801,1802,1803,1804,1805,1806,1807,1808,1809,1810,1811,1812,1813,1814,1815,1816,1817,1818,1819,1820,1821,1822,1823,1824,1825,1826,1827,1828,1829,1830,1831,1832,1833,1834,1835,1836,1837,1838,1839,1840,1841,1842,1843,1844,1845,1846,1847,1848,1849,1850,1851,1852,1853,1854,1855,1856,1857,1858,1859,1860,1861,1862,1863,1864,1865,1866,1867,1868,1869,1870,1871,1872,1873,1874,1875,1876,1877,1878,1879,1880,1881,1882,1883,1884,1885,1886,1887,1888,1889,1890,1891,1892,1893,1894,1895,1896,1897,1898,1899,1900,1901,1902,1903,1904,1905,1906,1907,1908,1909,1910,1911,1912,1913,1914,1915,1916,1917,1918,1919,1920,1921,1922,1923,1924,1925,1926,1927,1928,1929,1930,1931,1932,1933,1934,1935,1936,1937,1938,1939,1940,1941,1942,1943,1944,1945,1946,1947,1948,1949,1950,1951,1952,1953,1954,1955,1956,1957,1958,1959,1960,1961,1962,1963,1964,1965,1966,1967,1968,1969,1970,1971,1972,1973,1974,1975,1976,1977,1978,1979,1980,1981,1982,1983,1984,1985,1986,1987,1988,1989,1990,1991,1992,1993,1994,1995,1996,1997,1998,1999,2000,2001,2002,2003,2004,2005,2006,2007,2008,2009,2010,2011,2012,2013,2014,2015,2016,2017,2018,2019,2020,2021,2022,2023,2024,2025,2026,2027,2028,2029,2030,2031,2032,2033,2034,2035,2036,2037,2038,2039,2040,2041,2042,2043,2044,2045,2046,2047,2048,2049,2050,2051,2052,2053,2054,2055,2056,2057,2058,2059,2060,2061,2062,2063,2064,2065,2066,2067,2068,2069,2070,2071,2072,2073,2074,2075,2076,2077,2078,2079,2080,2081,2082,2083,2084,2085,2086,2087,2088,2089,2090,2091,2092,2093,2094,2095,2096,2097,2098,2099,2100,2101,2102,2103,2104,2105,2106,2107,2108,2109,2110,2111,2112,2113,2114,2115,2116,2117,2118,2119,2120,2121,2122,2123,2124,2125,2126,2127,2128,2129,2130,2131,2132,2133,2134,2135,2136,2137,2138,2139,2140,2141,2142,2143,2144,2145,2146,2147,2148,2149,2150,2151,2152,2153,2154,2155,2156,2157,2158,2159,2160,2161,2162,2163,2164,2165,2166,2167,2168,2169,2170,2171,2172,2173,2174,2175,2176,2177,2178,2179,2180,2181,2182,2183,2184,2185,2186,2187,2188,2189,2190,2191,2192,2193,2194,2195,2196,2197,2198,2199,2200,2201,2202,2203,2204,2205,2206,2207,2208,2209,2210,2211,2212,2213,2214,2215,2216,2217,2218,2219,2220,2221,2222,2223,2224,2225,2226,2227,2228,2229,2230,2231,2232,2233,2234,2235,2236,2237,2238,2239,2240,2241,2242,2243,2244,2245,2246,2247,2248,2249,2250,2251,2252,2253,2254,2255,2256,2257,2258,2259,2260,2261,2262,2263,2264,2265,2266,2267,2268,2269,2270,2271,2272,2273,2274,2275,2276,2277,2278,2279,2280,2281,2282,2283,2284,2285,2286,2287,2288,2289,2290,2291,2292,2293,2294,2295,2296,2297,2298,2299,2300,2301,2302,2303,2304,2305,2306,2307,2308,2309,2310,2311,2312,2313,2314,2315,2316,2317,2318,2319,2320,2321,2322,2323,2324,2325,2326,2327,2328,2329,2330,2331,2332,2333,2334,2335,2336,2337,2338,2339,2340,2341,2342,2343,2344,2345,2346,2347,2348,2349,2350,2351,2352,2353,2354,2355,2356,2357,2358,2359,2360,2361,2362,2363,2364,2365,2366,2367,2368,2369,2370,2371,2372,2373,2374,2375,2376,2377,2378,2379,2380,2381,2382,2383,2384,2385,2386,2387,2388,2389,2390,2391,2392,2393,2394,2395,2396,2397,2398,2399,2400,2401,2402,2403,2404,2405,2406,2407,2408,2409,2410,2411,2412,2413,2414,2415,2416,2417,2418,2419,2420,2421,2422,2423,2424,2425,2426,2427,2428,2429,2430,2431,2432,2433,2434,2435,2436,2437,2438,2439,2440,2441,2442,2443,2444,2445,2446,2447,2448,2449,2450,2451,2452,2453,2454,2455,2456,2457,2458,2459,2460,2461,2462,2463,2464,2465,2466,2467,2468,2469,2470,2471,2472,2473,2474,2475,2476,2477,2478,2479,2480,2481,2482,2483,2484,2485,2486,2487,2488,2489,2490,2491,2492,2493,2494,2495,2496,2497,2498,2499,2500,2501,2502,2503,2504,2505,2506,2507,2508,2509,2510,2511,2512,2513,2514,2515,2516,2517,2518,2519,2520,2521,2522,2523,2524,2525,2526,2527,2528,2529,2530,2531,2532,2533,2534,2535,2536,2537,2538,2539,2540,2541,2542,2543,2544,2545,2546,2547,2548,2549,2550,2551,2552,2553,2554,2555,2556,2557,2558,2559,2560,2561,2562,2563,2564,2565,2566,2567,2568,2569,2570,2571,2572,2573,2574,2575,2576,2577,2578,2579,2580,2581,2582,2583,2584,2585,2586,2587,2588,2589,2590,2591,2592,2593,2594,2595,2596,2597,2598,2599,2600,2601,2602,2603,2604,2605,2606,2607,2608,2609,2610,2611,2612,2613,2614,2615,2616,2617,2618,2619,2620,2621,2622,2623,2624,2625,2626,2627,2628,2629,2630,2631,2632,2633,2634,2635,2636,2637,2638,2639,2640,2641,2642,2643,2644,2645,2646,2647,2648,2649,2650,2651,2652,2653,2654,2655,2656,2657,2658,2659,2660,2661,2662,2663,2664,2665,2666,2667,2668,2669,2670,2671,2672,2673,2674,2675,2676,2677,2678,2679,2680,2681,2682,2683,2684,2685,2686,2687,2688,2689,2690,2691,2692,2693,2694,2695,2696,2697,2698,2699,2700,2701,2702,2703,2704,2705,2706,2707,2708,2709,2710,2711,2712,2713,2714,2715,2716,2717,2718,2719,2720,2721,2722,2723,2724,2725,2726,2727,2728,2729,2730,2731,2732,2733,2734,2735,2736,2737,2738,2739,2740,2741,2742,2743,2744,2745,2746,2747,2748,2749,2750,2751,2752,2753,2754,2755,2756,2757,2758,2759,2760,2761,2762,2763,2764,2765,2766,2767,2768,2769,2770,2771,2772,2773,2774,2775,2776,2777,2778,2779,2780,2781,2782,2783,2784,2785,2786,2787,2788,2789,2790,2791,2792,2793,2794,2795,2796,2797,2798,2799,2800,2801,2802,2803,2804,2805,2806,2807,2808,2809,2810,2811,2812,2813,2814,2815,2816,2817,2818,2819,2820,2821,2822,2823,2824,2825,2826,2827,2828,2829,2830,2831,2832,2833,2834,2835,2836,2837,2838,2839,2840,2841,2842,2843,2844,2845,2846,2847,2848,2849,2850,2851,2852,2853,2854,2855,2856,2857,2858,2859,2860,2861,2862,2863,2864,2865,2866,2867,2868,2869,2870,2871,2872,2873,2874,2875,2876,2877,2878,2879,2880,2881,2882,2883,2884,2885,2886,2887,2888,2889,2890,2891,2892,2893,2894,2895,2896,2897,2898,2899,2900,2901,2902,2903,2904,2905,2906,2907,2908,2909,2910,2911,2912,2913,2914,2915,2916,2917,2918,2919,2920,2921,2922,2923,2924,2925,2926,2927,2928,2929,2930,2931,2932,2933,2934,2935,2936,2937,2938,2939,2940,2941,2942,2943,2944,2945,2946,2947,2948,2949,2950,2951,2952,2953,2954,2955,2956,2957,2958,2959,2960,2961,2962,2963,2964,2965,2966,2967,2968,2969,2970,2971,2972,2973,2974,2975,2976,2977,2978,2979,2980,2981,2982,2983,2984,2985,2986,2987,2988,2989,2990,2991,2992,2993,2994,2995,2996,2997,2998,2999,3000,3001,3002,3003,3004,3005,3006,3007,3008,3009,3010,3011,3012,3013,3014,3015,3016,3017,3018,3019,3020,3021,3022,3023,3024,3025,3026,3027,3028,3029,3030,3031,3032,3033,3034,3035,3036,3037,3038,3039,3040,3041,3042,3043,3044,3045,3046,3047,3048,3049,3050,3051,3052,3053,3054,3055,3056,3057,3058,3059,3060,3061,3062,3063,3064,3065,3066,3067,3068,3069,3070,3071,3072,3073,3074,3075,3076,3077,3078,3079,3080,3081,3082,3083,3084,3085,3086,3087,3088,3089,3090,3091,3092,3093,3094,3095,3096,3097,3098,3099,3100,3101,3102,3103,3104,3105,3106,3107,3108,3109,3110,3111,3112,3113,3114,3115,3116,3117,3118,3119,3120,3121,3122,3123,3124,3125,3126,3127,3128,3129,3130,3131,3132,3133,3134,3135,3136,3137,3138,3139,3140,3141,3142,3143,3144,3145,3146,3147,3148,3149,3150,3151,3152,3153,3154,3155,3156,3157,3158,3159,3160,3161,3162,3163,3164,3165,3166,3167,3168,3169,3170,3171,3172,3173,3174,3175,3176,3177,3178,3179,3180,3181,3182,3183,3184,3185,3186,3187,3188,3189,3190,3191,3192,3193,3194,3195,3196,3197,3198,3199,3200,3201,3202,3203,3204,3205,3206,3207,3208,3209,3210,3211,3212,3213,3214,3215,3216,3217,3218,3219,3220,3221,3222,3223,3224,3225,3226,3227,3228,3229,3230,3231,3232,3233,3234,3235,3236,3237,3238,3239,3240,3241,3242,3243,3244,3245,3246,3247,3248,3249,3250,3251,3252,3253,3254,3255,3256,3257,3258,3259,3260,3261,3262,3263,3264,3265,3266,3267,3268,3269,3270,3271,3272,3273,3274,3275,3276,3277,3278,3279,3280,3281,3282,3283,3284,3285,3286,3287,3288,3289,3290,3291,3292,3293,3294,3295,3296,3297,3298,3299,3300,3301,3302,3303,3304,3305,3306,3307,3308,3309,3310,3311,3312,3313,3314,3315,3316,3317,3318,3319,3320,3321,3322,3323,3324,3325,3326,3327,3328,3329,3330,3331,3332,3333,3334,3335,3336,3337,3338,3339,3340,3341,3342,3343,3344,3345,3346,3347,3348,3349,3350,3351,3352,3353,3354,3355,3356,3357,3358,3359,3360,3361,3362,3363,3364,3365,3366,3367,3368,3369,3370,3371,3372,3373,3374,3375,3376,3377,3378,3379,3380,3381,3382,3383,3384,3385,3386,3387,3388,3389,3390,3391,3392,3393,3394,3395,3396,3397,3398,3399,3400,3401,3402,3403,3404,3405,3406,3407,3408,3409,3410,3411,3412,3413,3414,3415,3416,3417,3418,3419,3420,3421,3422,3423,3424,3425,3426,3427,3428,3429,3430,3431,3432,3433,3434,3435,3436,3437,3438,3439,3440,3441,3442,3443,3444,3445,3446,3447,3448,3449,3450,3451,3452,3453,3454,3455,3456,3457,3458,3459,3460,3461,3462,3463,3464,3465,3466,3467,3468,3469,3470,3471,3472,3473,3474,3475,3476,3477,3478,3479,3480,3481,3482,3483,3484,3485,3486,3487,3488,3489,3490,3491,3492,3493,3494,3495,3496,3497,3498,3499,3500,3501,3502,3503,3504,3505,3506,3507,3508,3509,3510,3511,3512,3513,3514,3515,3516,3517,3518,3519,3520,3521,3522,3523,3524,3525,3526,3527,3528,3529,3530,3531,3532,3533,3534,3535,3536,3537,3538,3539,3540,3541,3542,3543,3544,3545,3546,3547,3548,3549,3550,3551,3552,3553,3554,3555,3556,3557,3558,3559,3560,3561,3562,3563,3564,3565,3566,3567,3568,3569,3570,3571,3572,3573,3574,3575,3576,3577,3578,3579,3580,3581,3582,3583,3584,3585,3586,3587,3588,3589,3590,3591,3592,3593,3594,3595,3596,3597,3598,3599,3600,3601,3602,3603,3604,3605,3606,3607,3608,3609,3610,3611,3612,3613,3614,3615,3616,3617,3618,3619,3620,3621,3622,3623,3624,3625,3626,3627,3628,3629,3630,3631,3632,3633,3634,3635,3636,3637,3638,3639,3640,3641,3642,3643,3644,3645,3646,3647,3648,3649,3650,3651,3652,3653,3654,3655,3656,3657,3658,3659,3660,3661,3662,3663,3664,3665,3666,3667,3668,3669,3670,3671,3672,3673,3674,3675,3676,3677,3678,3679,3680,3681,3682,3683,3684,3685,3686,3687,3688,3689,3690,3691,3692,3693,3694,3695,3696,3697,3698,3699,3700,3701,3702,3703,3704,3705,3706,3707,3708,3709,3710,3711,3712,3713,3714,3715,3716,3717,3718,3719,3720,3721,3722,3723,3724,3725,3726,3727,3728,3729,3730,3731,3732,3733,3734,3735,3736,3737,3738,3739,3740,3741,3742,3743,3744,3745,3746,3747,3748,3749,3750,3751,3752,3753,3754,3755,3756,3757,3758,3759,3760,3761,3762,3763,3764,3765,3766,3767,3768,3769,3770,3771,3772,3773,3774,3775,3776,3777,3778,3779,3780,3781,3782,3783,3784,3785,3786,3787,3788,3789,3790,3791,3792,3793,3794,3795,3796,3797,3798,3799,3800,3801,3802,3803,3804,3805,3806,3807,3808,3809,3810,3811,3812,3813,3814,3815,3816,3817,3818,3819,3820,3821,3822,3823,3824,3825,3826,3827,3828,3829,3830,3831,3832,3833,3834,3835,3836,3837,3838,3839,3840,3841,3842,3843,3844,3845,3846,3847,3848,3849,3850,3851,3852,3853,3854,3855,3856,3857,3858,3859,3860,3861,3862,3863,3864,3865,3866,3867,3868,3869,3870,3871,3872,3873,3874,3875,3876,3877,3878,3879,3880,3881,3882,3883,3884,3885,3886,3887,3888,3889,3890,3891,3892,3893,3894,3895,3896,3897,3898,3899,3900,3901,3902,3903,3904,3905,3906,3907,3908,3909,3910,3911,3912,3913,3914,3915,3916,3917,3918,3919,3920,3921,3922,3923,3924,3925,3926,3927,3928,3929,3930,3931,3932,3933,3934,3935,3936,3937,3938,3939,3940,3941,3942,3943,3944,3945,3946,3947,3948,3949,3950,3951,3952,3953,3954,3955,3956,3957,3958,3959,3960,3961,3962,3963,3964,3965,3966,3967,3968,3969,3970,3971,3972,3973,3974,3975,3976,3977,3978,3979,3980,3981,3982,3983,3984,3985,3986,3987,3988,3989,3990,3991,3992,3993,3994,3995,3996,3997,3998,3999,4000,4001,4002,4003,4004,4005,4006,4007,4008,4009,4010,4011,4012,4013,4014,4015,4016,4017,4018,4019,4020,4021,4022,4023,4024,4025,4026,4027,4028,4029,4030,4031,4032,4033,4034,4035,4036,4037,4038,4039,4040,4041,4042,4043,4044,4045,4046,4047,4048,4049,4050,4051,4052,4053,4054,4055,4056,4057,4058,4059,4060,4061,4062,4063,4064,4065,4066,4067,4068,4069,4070,4071,4072,4073,4074,4075,4076,4077,4078,4079,4080,4081,4082,4083,4084,4085,4086,4087,4088,4089,4090,4091,4092,4093,4094,4095,4096,4097,4098,4099,4100,4101,4102,4103,4104,4105,4106,4107,4108,4109,4110,4111,4112,4113,4114,4115,4116,4117,4118,4119,4120,4121,4122,4123,4124,4125,4126,4127,4128,4129,4130,4131,4132,4133,4134,4135,4136,4137,4138,4139,4140,4141,4142,4143,4144,4145,4146,4147,4148,4149,4150,4151,4152,4153,4154,4155,4156,4157,4158,4159,4160,4161,4162,4163,4164,4165,4166,4167,4168,4169,4170,4171,4172,4173,4174,4175,4176,4177,4178,4179,4180,4181,4182,4183,4184,4185,4186,4187,4188,4189,4190,4191,4192,4193,4194,4195,4196,4197,4198,4199,4200,4201,4202,4203,4204,4205,4206,4207,4208,4209,4210,4211,4212,4213,4214,4215,4216,4217,4218,4219,4220,4221,4222,4223,4224,4225,4226,4227,4228,4229,4230,4231,4232,4233,4234,4235,4236,4237,4238,4239,4240,4241,4242,4243,4244,4245,4246,4247,4248,4249,4250,4251,4252,4253,4254,4255,4256,4257,4258,4259,4260,4261,4262,4263,4264,4265,4266,4267,4268,4269,4270,4271,4272,4273,4274,4275,4276,4277,4278,4279,4280,4281,4282,4283,4284,4285,4286,4287,4288,4289,4290,4291,4292,4293,4294,4295,4296,4297,4298,4299,4300,4301,4302,4303,4304,4305,4306,4307,4308,4309,4310,4311,4312,4313,4314,4315,4316,4317,4318,4319,4320,4321,4322,4323,4324,4325,4326,4327,4328,4329,4330,4331,4332,4333,4334,4335,4336,4337,4338,4339,4340,4341,4342,4343,4344,4345,4346,4347,4348,4349,4350,4351,4352,4353,4354,4355,4356,4357,4358,4359,4360,4361,4362,4363,4364,4365,4366,4367,4368,4369,4370,4371,4372,4373,4374,4375,4376,4377,4378,4379,4380,4381,4382,4383,4384,4385,4386,4387,4388,4389,4390,4391,4392,4393,4394,4395,4396,4397,4398,4399,4400,4401,4402,4403,4404,4405,4406,4407,4408,4409,4410,4411,4412,4413,4414,4415,4416,4417,4418,4419,4420,4421,4422,4423,4424,4425,4426,4427,4428,4429,4430,4431,4432,4433,4434,4435,4436,4437,4438,4439,4440,4441,4442,4443,4444,4445,4446,4447,4448,4449,4450,4451,4452,4453,4454,4455,4456,4457,4458,4459,4460,4461,4462,4463,4464,4465,4466,4467,4468,4469,4470,4471,4472,4473,4474,4475,4476,4477,4478,4479,4480,4481,4482,4483,4484,4485,4486,4487,4488,4489,4490,4491,4492,4493,4494,4495,4496,4497,4498,4499,4500,4501,4502,4503,4504,4505,4506,4507,4508,4509,4510,4511,4512,4513,4514,4515,4516,4517,4518,4519,4520,4521,4522,4523,4524,4525,4526,4527,4528,4529,4530,4531,4532,4533,4534,4535,4536,4537,4538,4539,4540,4541,4542,4543,4544,4545,4546,4547,4548,4549,4550,4551,4552,4553,4554,4555,4556,4557,4558,4559,4560,4561,4562,4563,4564,4565,4566,4567,4568,4569,4570,4571,4572,4573,4574,4575,4576,4577,4578,4579,4580,4581,4582,4583,4584,4585,4586,4587,4588,4589,4590,4591,4592,4593,4594,4595,4596,4597,4598,4599,4600,4601,4602,4603,4604,4605,4606,4607,4608,4609,4610,4611,4612,4613,4614,4615,4616,4617,4618,4619,4620,4621,4622,4623,4624,4625,4626,4627,4628,4629,4630,4631,4632,4633,4634,4635,4636,4637,4638,4639,4640,4641,4642,4643,4644,4645,4646,4647,4648,4649,4650,4651,4652,4653,4654,4655,4656,4657,4658,4659,4660,4661,4662,4663,4664,4665,4666,4667,4668,4669,4670,4671,4672,4673,4674,4675,4676,4677,4678,4679,4680,4681,4682,4683,4684,4685,4686,4687,4688,4689,4690,4691,4692,4693,4694,4695,4696,4697,4698,4699,4700,4701,4702,4703,4704,4705,4706,4707,4708,4709,4710,4711,4712,4713,4714,4715,4716,4717,4718,4719,4720,4721,4722,4723,4724,4725,4726,4727,4728,4729,4730,4731,4732,4733,4734,4735,4736,4737,4738,4739,4740,4741,4742,4743,4744,4745,4746,4747,4748,4749,4750,4751,4752,4753,4754,4755,4756,4757,4758,4759,4760,4761,4762,4763,4764,4765,4766,4767,4768,4769,4770,4771,4772,4773,4774,4775,4776,4777,4778,4779,4780,4781,4782,4783,4784,4785,4786,4787,4788,4789,4790,4791,4792,4793,4794,4795,4796,4797,4798,4799,4800,4801,4802,4803,4804,4805,4806,4807,4808,4809,4810,4811,4812,4813,4814,4815,4816,4817,4818,4819,4820,4821,4822,4823,4824,4825,4826,4827,4828,4829,4830,4831,4832,4833,4834,4835,4836,4837,4838,4839,4840,4841,4842,4843,4844,4845,4846,4847,4848,4849,4850,4851,4852,4853,4854,4855,4856,4857,4858,4859,4860,4861,4862,4863,4864,4865,4866,4867,4868,4869,4870,4871,4872,4873,4874,4875,4876,4877,4878,4879,4880,4881,4882,4883,4884,4885,4886,4887,4888,4889,4890,4891,4892,4893,4894,4895,4896,4897,4898,4899,4900,4901,4902,4903,4904,4905,4906,4907,4908,4909,4910,4911,4912,4913,4914,4915,4916,4917,4918,4919,4920,4921,4922,4923,4924,4925,4926,4927,4928,4929,4930,4931,4932,4933,4934,4935,4936,4937,4938,4939,4940,4941,4942,4943,4944,4945,4946,4947,4948,4949,4950,4951,4952,4953,4954,4955,4956,4957,4958,4959,4960,4961,4962,4963,4964,4965,4966,4967,4968,4969,4970,4971,4972,4973,4974,4975,4976,4977,4978,4979,4980,4981,4982,4983,4984,4985,4986,4987,4988,4989,4990,4991,4992,4993,4994,4995,4996,4997,4998,4999,5000,5001,5002,5003,5004,5005,5006,5007,5008,5009,5010,5011,5012,5013,5014,5015,5016,5017,5018,5019,5020,5021,5022,5023,5024,5025,5026,5027,5028,5029,5030,5031,5032,5033,5034,5035,5036,5037,5038,5039,5040,5041,5042,5043,5044,5045,5046,5047,5048,5049,5050,5051,5052,5053,5054,5055,5056,5057,5058,5059,5060,5061,5062,5063,5064,5065,5066,5067,5068,5069,5070,5071,5072,5073,5074,5075,5076,5077,5078,5079,5080,5081,5082,5083,5084,5085,5086,5087,5088,5089,5090,5091,5092,5093,5094,5095,5096,5097,5098,5099,5100,5101,5102,5103,5104,5105,5106,5107,5108,5109,5110,5111,5112,5113,5114,5115,5116,5117,5118,5119,5120,5121,5122,5123,5124,5125,5126,5127,5128,5129,5130,5131,5132,5133,5134,5135,5136,5137,5138,5139,5140,5141,5142,5143,5144,5145,5146,5147,5148,5149,5150,5151,5152,5153,5154,5155,5156,5157,5158,5159,5160,5161,5162,5163,5164,5165,5166,5167,5168,5169,5170,5171,5172,5173,5174,5175,5176,5177,5178,5179,5180,5181,5182,5183,5184,5185,5186,5187,5188,5189,5190,5191,5192,5193,5194,5195,5196,5197,5198,5199,5200,5201,5202,5203,5204,5205,5206,5207,5208,5209,5210,5211,5212,5213,5214,5215,5216,5217,5218,5219,5220,5221,5222,5223,5224,5225,5226,5227,5228,5229,5230,5231,5232,5233,5234,5235,5236,5237,5238,5239,5240,5241,5242,5243,5244,5245,5246,5247,5248,5249,5250,5251,5252,5253,5254,5255,5256,5257,5258,5259,5260,5261,5262,5263,5264,5265,5266,5267,5268,5269,5270,5271,5272,5273,5274,5275,5276,5277,5278,5279,5280,5281,5282,5283,5284,5285,5286,5287,5288,5289,5290,5291,5292,5293,5294,5295,5296,5297,5298,5299,5300,5301,5302,5303,5304,5305,5306,5307,5308,5309,5310,5311,5312,5313,5314,5315,5316,5317,5318,5319,5320,5321,5322,5323,5324,5325,5326,5327,5328,5329,5330,5331,5332,5333,5334,5335,5336,5337,5338,5339,5340,5341,5342,5343,5344,5345,5346,5347,5348,5349,5350,5351,5352,5353,5354,5355,5356,5357,5358,5359,5360,5361,5362,5363,5364,5365,5366,5367,5368,5369,5370,5371,5372,5373,5374,5375,5376,5377,5378,5379,5380,5381,5382,5383,5384,5385,5386,5387,5388,5389,5390,5391,5392,5393,5394,5395,5396,5397,5398,5399,5400,5401,5402,5403,5404,5405,5406,5407,5408,5409,5410,5411,5412,5413,5414,5415,5416,5417,5418,5419,5420,5421,5422,5423,5424,5425,5426,5427,5428,5429,5430,5431,5432,5433,5434,5435,5436,5437,5438,5439,5440,5441,5442,5443,5444,5445,5446,5447,5448,5449,5450,5451,5452,5453,5454,5455,5456,5457,5458,5459,5460,5461,5462,5463,5464,5465,5466,5467,5468,5469,5470,5471,5472,5473,5474,5475,5476,5477,5478,5479,5480,5481,5482,5483,5484,5485,5486,5487,5488,5489,5490,5491,5492,5493,5494,5495,5496,5497,5498,5499,5500,5501,5502,5503,5504,5505,5506,5507,5508,5509,5510,5511,5512,5513,5514,5515,5516,5517,5518,5519],\"y\":[1.65117948808893,0.9572968776610756,-1.7471874427653753,-0.14755582353802704,1.1524516064526564,0.9173845576663592,0.7022110490382443,-0.10485300696003613,0.5086218162260601,0.10598799154509866,0.27330428808305934,-0.8634767036158371,0.10867281714976385,-0.2902429545801306,-1.8631085062997454,0.11560405059854231,-0.06721456987539325,-0.016895615357637863,0.4400413511086433,0.21109539160178675,-1.1975183219595362,1.2518292912247528,0.6537511209960224,-0.3770223104580329,-1.7261824004618214,-1.4388982332827502,-0.37526895496110874,-2.2498173231302947,0.044620549152751744,1.7330940652108573,-0.1328049376721625,0.42248822743965886,0.3023559797207118,0.23836633156287562,-1.0347184813221348,0.13749751187040385,-0.2050290946816249,-0.7415793591801204,-1.6092750744604314,0.4180930974775029,0.32237867329719444,0.33348195353106486,-1.0889316070886392,-1.9322094988303116,0.6236622882720196,0.4981838717834332,-0.12368983733212578,-0.8010799476170368,-1.0640128248365937,-0.6974871649204151,3.195979610637912,2.799302498158555,0.21561184750234594,-0.14740710141998434,2.0727245042010023,0.16798163232920424,0.5535476370947942,-0.24309412942065337,-1.381667614015959,-0.8062343431292002,0.16141046295568698,1.324840109963862,0.8225389837546159,-0.6607175781043373,0.4457436702135954,-0.6559232466674352,-0.11089973518045551,1.8528310251950066,1.5677111562074515,0.8507805312229306,0.9590815430775878,-0.17990288421230938,-0.053496911355930495,-0.39980027695825354,0.5749479671331458,1.0421702421840626,0.016907356577483337,1.183796749700125,1.1147818594484256,0.23536449302238263,-0.17540991075144113,1.12260542560546,-1.0167348462588162,0.17757420894295695,-0.10264565762908691,-0.8253607902574782,-0.07440019642082367,-0.6419042301719385,-0.5739225672666409,-1.1351724445800664,-0.43520788227225626,-0.889577435332327,-0.8270906633147115,-0.6767639118931524,-0.9560601358373523,-1.5791040531975102,0.7759302547080305,0.7942113340074343,0.7576100380091416,-1.0157955486711783,-0.9590071820185664,0.34366941861698824,-0.1448514292336194,-1.5098465110690045,-1.223928239131957,0.20536176257724667,-0.11075492680236133,-1.1301315475264093,-0.05053812395487091,-0.12084846212952094,-0.5867204968982083,0.982963184243283,0.8919413342612158,-1.3045238858912427,-2.2047780038030544,-1.2314269648732667,0.36477621815920297,0.9590424056781028,-0.5664003590856402,-0.7208287099732184,-2.1605370874253063,1.2701455941836932,0.11123240307607729,-0.4997376265429843,-0.742913944502556,-0.6823449050597014,-2.51065243573746,-0.6279869709151027,-0.1282963092515003,-3.0707868971655654,0.4487141988345005,0.09314701077409801,-1.9774679875946675,-1.0066647933713475,0.631333218571063,-0.8400060051447334,-0.9568076601675142,1.760858136405456,1.941680749505661,1.6356732504130065,0.49173794208826765,-0.6741377923877147,0.4486007003759942,1.7129109082964866,0.9104963753570141,2.333496996968992,1.0231103286349088,0.5663299117665674,0.9098897456649979,0.9127585170472422,0.25134037949212495,0.9471094125751522,1.126640491492355,0.8069857811993105,1.082998377326726,0.9185234559913702,0.7596256140826148,2.048181440984012,0.19122142014334684,0.5685450885774136,0.23404947639968948,-0.4710342577607476,0.6818791700058309,0.9793116648713404,-0.9490154039300676,0.06557079909702682,0.9939451385387501,-0.9945243720511269,-0.9056746477404726,2.281232913696836,2.264356867038941,0.6686194190603416,-0.4149581917787612,-1.2736092540381083,0.43295748180187366,1.7317242562288853,0.19605097523978537,0.7503461366647414,0.5440685589395478,-0.06357087798334765,-0.3796523437034192,0.3390277230380773,-2.1721882912519654,-0.1633360230103448,-0.24318805917941716,0.12519662721229502,1.2767911246162318,0.18106135123706288,0.5277326083945442,0.13239790871751939,-1.8995219427805103,-0.06397007945809378,0.5015966530185177,0.12625333699838773,-1.1276815463186536,-0.5841648247118433,0.45993097752687717,0.13891819947170625,-0.45216611746907,0.26057680577056497,0.5248834057120423,0.16479584801113215,1.7347417497291722,0.4974011237937349,-0.9024184161033276,0.8498412336352926,-0.29013728360152136,-0.45025229863425764,-0.19398060680703336,-0.7340180135996348,-0.6358379332517767,1.2223157782731784,-0.4416577257073703,0.4735077414081942,-0.9475712338890742,-0.2918710703987031,1.5601302419272234,-0.14215877614905723,-0.42743128099460365,-0.4812491190263104,1.9233683602866691,0.7254156131928504,-0.4760555861146622,1.6264055142149787,-0.6717464972791863,1.348800025928527,0.6733941817975012,-0.41322831872152793,-0.4534106867726903,-2.6687714433964658,-1.8793466133460366,-1.142725962680655,0.04386519734269288,1.0110129584541216,-0.1347500664265628,-0.29667322931550216,-0.8776522697092733,-0.729744209575882,0.6647369890314381,1.5293291085325953,-0.5361354080639554,-1.232671534176887,-2.0609010958166096,-0.28281467615789374,0.11037138028740916,-0.5201125567148311,0.2713474181088136,-0.8769438827785964,-1.039489330319346,-0.663789863963903,1.457903354472625,0.45148121297808397,-0.5056199776855671,1.0173493034307295,0.6004655515973104,1.2527764162922879,0.5797344710901509,-0.558482863169842,-0.7248324659405252,-1.5280101781699535,-1.0785836786648275,-0.9791942526728856,-1.2869511935225157,-0.6200929574389954,0.347003925053103,-0.40395275504360306,-1.0017843596555787,0.0027944103232229404,-0.6012326446272147,-0.7111656860403929,-1.6964184081535434,-0.7383583512025119,-0.5058117509430432,0.8215174976280596,1.6436964173074142,0.25909349833008666,0.2554693751377835,0.20126407685117606,-0.02858204284383352,-0.4140228079310717,-0.4596765844302252,-1.5691357575487024,-1.4591870611757303,0.7476691385399732,0.33953650923138123,0.24604508934181596,1.5845284967661195,0.4135257629576133,-0.4986535205772522,-0.09473990293313406,-0.5775310354991502,-0.2890962287752226,1.2036824623784104,-0.6388436855322182,0.907318418518839,0.3679463475174811,1.0556648175264614,0.06397399319804227,-1.5219673636894826,1.0598172956118108,1.0058272530223704,0.545998032734154,1.2286051583704043,0.6731241337410554,0.4402331243661194,-0.04244450974139046,0.9644355393271241,-0.3196781927327353,-1.7249260899383556,-0.31260215090586263]}},\"id\":\"621a3fc3-9f09-4616-8481-42c087c6ae28\",\"type\":\"ColumnDataSource\"},{\"attributes\":{\"plot\":{\"id\":\"e24eaf1a-41e4-4563-b0a7-919e9c99bc69\",\"subtype\":\"Figure\",\"type\":\"Plot\"}},\"id\":\"438a1070-0071-41dc-bcfb-74d636965d1a\",\"type\":\"SaveTool\"},{\"attributes\":{},\"id\":\"18205a3a-4d44-4db9-affd-cc61c39f1ae3\",\"type\":\"BasicTickFormatter\"},{\"attributes\":{\"below\":[{\"id\":\"b7a931f2-4471-4139-bd02-569dd6a6133d\",\"type\":\"LinearAxis\"}],\"left\":[{\"id\":\"16754aec-8329-425b-a3c0-dc2077d9215a\",\"type\":\"LinearAxis\"}],\"renderers\":[{\"id\":\"b7a931f2-4471-4139-bd02-569dd6a6133d\",\"type\":\"LinearAxis\"},{\"id\":\"da2604f7-617a-4f5d-a24d-247bdf8a8989\",\"type\":\"Grid\"},{\"id\":\"16754aec-8329-425b-a3c0-dc2077d9215a\",\"type\":\"LinearAxis\"},{\"id\":\"8003e8ae-12c9-4808-8a51-d16f01b09286\",\"type\":\"Grid\"},{\"id\":\"c4092960-4650-4e6a-904a-500ca31c74a4\",\"type\":\"BoxAnnotation\"},{\"id\":\"09aafe8a-c1ee-44ef-a000-5b898e8971ab\",\"type\":\"GlyphRenderer\"}],\"title\":{\"id\":\"e53bab64-f0ef-455e-a2a9-46d565f933af\",\"type\":\"Title\"},\"tool_events\":{\"id\":\"7a1e17f7-8b3a-4d10-8586-23b0cfdcc16a\",\"type\":\"ToolEvents\"},\"toolbar\":{\"id\":\"f48693ac-f242-46c9-aa2c-124a59e16cc0\",\"type\":\"Toolbar\"},\"x_range\":{\"id\":\"0c940c4b-2b4f-432f-9889-5e9dafa26a95\",\"type\":\"DataRange1d\"},\"y_range\":{\"id\":\"b3167dc9-f8b2-444c-b9f5-a2a5fdabbc71\",\"type\":\"DataRange1d\"}},\"id\":\"e24eaf1a-41e4-4563-b0a7-919e9c99bc69\",\"subtype\":\"Figure\",\"type\":\"Plot\"},{\"attributes\":{\"plot\":{\"id\":\"e24eaf1a-41e4-4563-b0a7-919e9c99bc69\",\"subtype\":\"Figure\",\"type\":\"Plot\"}},\"id\":\"57ecc4d9-0461-4d88-a359-68c93c726feb\",\"type\":\"ResetTool\"},{\"attributes\":{\"line_color\":{\"value\":\"#1f77b4\"},\"x\":{\"field\":\"x\"},\"y\":{\"field\":\"y\"}},\"id\":\"4158b2d0-4945-42b3-aa15-3b3b1de4a5f9\",\"type\":\"Line\"},{\"attributes\":{},\"id\":\"3da6af04-3ad3-4a61-ac36-4fa851a40a76\",\"type\":\"BasicTicker\"},{\"attributes\":{\"data_source\":{\"id\":\"621a3fc3-9f09-4616-8481-42c087c6ae28\",\"type\":\"ColumnDataSource\"},\"glyph\":{\"id\":\"4158b2d0-4945-42b3-aa15-3b3b1de4a5f9\",\"type\":\"Line\"},\"hover_glyph\":null,\"nonselection_glyph\":{\"id\":\"f6afedd0-b900-401b-a3b1-75ef5808beb7\",\"type\":\"Line\"},\"selection_glyph\":null},\"id\":\"09aafe8a-c1ee-44ef-a000-5b898e8971ab\",\"type\":\"GlyphRenderer\"},{\"attributes\":{\"active_drag\":\"auto\",\"active_scroll\":\"auto\",\"active_tap\":\"auto\",\"tools\":[{\"id\":\"e0c1e206-cd4d-4b83-9472-9c18eb1f2c11\",\"type\":\"PanTool\"},{\"id\":\"e2d90cb0-5ea8-4d07-a514-e0dd5ba2db36\",\"type\":\"WheelZoomTool\"},{\"id\":\"cb6ea8fd-cbc2-48c2-88e4-2dab60dfd366\",\"type\":\"BoxZoomTool\"},{\"id\":\"438a1070-0071-41dc-bcfb-74d636965d1a\",\"type\":\"SaveTool\"},{\"id\":\"57ecc4d9-0461-4d88-a359-68c93c726feb\",\"type\":\"ResetTool\"},{\"id\":\"37dabe7f-237f-4488-8f98-61d2dd553f88\",\"type\":\"HelpTool\"}]},\"id\":\"f48693ac-f242-46c9-aa2c-124a59e16cc0\",\"type\":\"Toolbar\"},{\"attributes\":{\"bottom_units\":\"screen\",\"fill_alpha\":{\"value\":0.5},\"fill_color\":{\"value\":\"lightgrey\"},\"left_units\":\"screen\",\"level\":\"overlay\",\"line_alpha\":{\"value\":1.0},\"line_color\":{\"value\":\"black\"},\"line_dash\":[4,4],\"line_width\":{\"value\":2},\"plot\":null,\"render_mode\":\"css\",\"right_units\":\"screen\",\"top_units\":\"screen\"},\"id\":\"c4092960-4650-4e6a-904a-500ca31c74a4\",\"type\":\"BoxAnnotation\"},{\"attributes\":{},\"id\":\"f0b27a19-36ef-4f90-bd92-dbe6ebc7ba2a\",\"type\":\"BasicTicker\"},{\"attributes\":{},\"id\":\"d49b690d-1426-4a4f-91e2-50552f2922ab\",\"type\":\"BasicTickFormatter\"},{\"attributes\":{\"callback\":null},\"id\":\"0c940c4b-2b4f-432f-9889-5e9dafa26a95\",\"type\":\"DataRange1d\"},{\"attributes\":{\"plot\":{\"id\":\"e24eaf1a-41e4-4563-b0a7-919e9c99bc69\",\"subtype\":\"Figure\",\"type\":\"Plot\"}},\"id\":\"e0c1e206-cd4d-4b83-9472-9c18eb1f2c11\",\"type\":\"PanTool\"},{\"attributes\":{\"dimension\":1,\"plot\":{\"id\":\"e24eaf1a-41e4-4563-b0a7-919e9c99bc69\",\"subtype\":\"Figure\",\"type\":\"Plot\"},\"ticker\":{\"id\":\"3da6af04-3ad3-4a61-ac36-4fa851a40a76\",\"type\":\"BasicTicker\"}},\"id\":\"8003e8ae-12c9-4808-8a51-d16f01b09286\",\"type\":\"Grid\"},{\"attributes\":{\"plot\":{\"id\":\"e24eaf1a-41e4-4563-b0a7-919e9c99bc69\",\"subtype\":\"Figure\",\"type\":\"Plot\"}},\"id\":\"37dabe7f-237f-4488-8f98-61d2dd553f88\",\"type\":\"HelpTool\"},{\"attributes\":{},\"id\":\"7a1e17f7-8b3a-4d10-8586-23b0cfdcc16a\",\"type\":\"ToolEvents\"},{\"attributes\":{\"axis_label\":\"Voxel Intensity (Standardized)\",\"formatter\":{\"id\":\"d49b690d-1426-4a4f-91e2-50552f2922ab\",\"type\":\"BasicTickFormatter\"},\"plot\":{\"id\":\"e24eaf1a-41e4-4563-b0a7-919e9c99bc69\",\"subtype\":\"Figure\",\"type\":\"Plot\"},\"ticker\":{\"id\":\"3da6af04-3ad3-4a61-ac36-4fa851a40a76\",\"type\":\"BasicTicker\"}},\"id\":\"16754aec-8329-425b-a3c0-dc2077d9215a\",\"type\":\"LinearAxis\"},{\"attributes\":{\"plot\":null,\"text\":\"Scaled Voxel values for time point = 200\"},\"id\":\"e53bab64-f0ef-455e-a2a9-46d565f933af\",\"type\":\"Title\"}],\"root_ids\":[\"e24eaf1a-41e4-4563-b0a7-919e9c99bc69\"]},\"title\":\"Bokeh Application\",\"version\":\"0.12.0\"}};\n",
       "            var render_items = [{\"docid\":\"9f1eee3f-7689-4037-b5e9-ad97806e916c\",\"elementid\":\"6bad2de2-f276-4ebd-bf1d-ac891d55f131\",\"modelid\":\"e24eaf1a-41e4-4563-b0a7-919e9c99bc69\",\"notebook_comms_target\":\"3f5e4bfb-d033-44f0-b008-0603c021ee37\"}];\n",
       "            \n",
       "            Bokeh.embed.embed_items(docs_json, render_items);\n",
       "        });\n",
       "      },\n",
       "      function(Bokeh) {\n",
       "      }\n",
       "    ];\n",
       "  \n",
       "    function run_inline_js() {\n",
       "      for (var i = 0; i < inline_js.length; i++) {\n",
       "        inline_js[i](window.Bokeh);\n",
       "      }\n",
       "    }\n",
       "  \n",
       "    if (window._bokeh_is_loading === 0) {\n",
       "      console.log(\"Bokeh: BokehJS loaded, going straight to plotting\");\n",
       "      run_inline_js();\n",
       "    } else {\n",
       "      load_libs(js_urls, function() {\n",
       "        console.log(\"Bokeh: BokehJS plotting callback run at\", now());\n",
       "        run_inline_js();\n",
       "      });\n",
       "    }\n",
       "  }(this));\n",
       "</script>"
      ]
     },
     "metadata": {},
     "output_type": "display_data"
    },
    {
     "data": {
      "text/html": [
       "\n",
       "\n",
       "    <div class=\"bk-root\">\n",
       "        <div class=\"plotdiv\" id=\"debaab4d-623b-45e8-8c90-e3c626e1cb45\"></div>\n",
       "    </div>\n",
       "<script type=\"text/javascript\">\n",
       "  \n",
       "  (function(global) {\n",
       "    function now() {\n",
       "      return new Date();\n",
       "    }\n",
       "  \n",
       "    if (typeof (window._bokeh_onload_callbacks) === \"undefined\") {\n",
       "      window._bokeh_onload_callbacks = [];\n",
       "    }\n",
       "  \n",
       "    function run_callbacks() {\n",
       "      window._bokeh_onload_callbacks.forEach(function(callback) { callback() });\n",
       "      delete window._bokeh_onload_callbacks\n",
       "      console.info(\"Bokeh: all callbacks have finished\");\n",
       "    }\n",
       "  \n",
       "    function load_libs(js_urls, callback) {\n",
       "      window._bokeh_onload_callbacks.push(callback);\n",
       "      if (window._bokeh_is_loading > 0) {\n",
       "        console.log(\"Bokeh: BokehJS is being loaded, scheduling callback at\", now());\n",
       "        return null;\n",
       "      }\n",
       "      if (js_urls == null || js_urls.length === 0) {\n",
       "        run_callbacks();\n",
       "        return null;\n",
       "      }\n",
       "      console.log(\"Bokeh: BokehJS not loaded, scheduling load and callback at\", now());\n",
       "      window._bokeh_is_loading = js_urls.length;\n",
       "      for (var i = 0; i < js_urls.length; i++) {\n",
       "        var url = js_urls[i];\n",
       "        var s = document.createElement('script');\n",
       "        s.src = url;\n",
       "        s.async = false;\n",
       "        s.onreadystatechange = s.onload = function() {\n",
       "          window._bokeh_is_loading--;\n",
       "          if (window._bokeh_is_loading === 0) {\n",
       "            console.log(\"Bokeh: all BokehJS libraries loaded\");\n",
       "            run_callbacks()\n",
       "          }\n",
       "        };\n",
       "        s.onerror = function() {\n",
       "          console.warn(\"failed to load library \" + url);\n",
       "        };\n",
       "        console.log(\"Bokeh: injecting script tag for BokehJS library: \", url);\n",
       "        document.getElementsByTagName(\"head\")[0].appendChild(s);\n",
       "      }\n",
       "    };var element = document.getElementById(\"debaab4d-623b-45e8-8c90-e3c626e1cb45\");\n",
       "    if (element == null) {\n",
       "      console.log(\"Bokeh: ERROR: autoload.js configured with elementid 'debaab4d-623b-45e8-8c90-e3c626e1cb45' but no matching script tag was found. \")\n",
       "      return false;\n",
       "    }\n",
       "  \n",
       "    var js_urls = [];\n",
       "  \n",
       "    var inline_js = [\n",
       "      function(Bokeh) {\n",
       "        Bokeh.$(function() {\n",
       "            var docs_json = {\"531e0fcb-c94c-4f58-9d10-a6a64500cdd1\":{\"roots\":{\"references\":[{\"attributes\":{\"callback\":null},\"id\":\"1bbac34b-e5f3-4296-a718-869dc7349150\",\"type\":\"DataRange1d\"},{\"attributes\":{\"plot\":{\"id\":\"69eea12c-bc96-4d6b-85d6-28719fae12c1\",\"subtype\":\"Figure\",\"type\":\"Plot\"}},\"id\":\"eeb61eb8-c796-4fa6-8931-a11626679427\",\"type\":\"ResetTool\"},{\"attributes\":{\"dimension\":1,\"plot\":{\"id\":\"69eea12c-bc96-4d6b-85d6-28719fae12c1\",\"subtype\":\"Figure\",\"type\":\"Plot\"},\"ticker\":{\"id\":\"2dec77e2-abaa-4717-95b5-4e3e464a3fe8\",\"type\":\"BasicTicker\"}},\"id\":\"d25f822f-b10f-4695-91a2-db81ad666326\",\"type\":\"Grid\"},{\"attributes\":{\"overlay\":{\"id\":\"1972162c-f07a-4d22-a325-77616be5543d\",\"type\":\"BoxAnnotation\"},\"plot\":{\"id\":\"69eea12c-bc96-4d6b-85d6-28719fae12c1\",\"subtype\":\"Figure\",\"type\":\"Plot\"}},\"id\":\"41e3ed28-202f-4cfa-8124-70b828ace6ec\",\"type\":\"BoxZoomTool\"},{\"attributes\":{},\"id\":\"ae047365-a88a-4b6f-9af1-1f9c622a8ad5\",\"type\":\"ToolEvents\"},{\"attributes\":{\"plot\":{\"id\":\"69eea12c-bc96-4d6b-85d6-28719fae12c1\",\"subtype\":\"Figure\",\"type\":\"Plot\"}},\"id\":\"a43e952f-64b0-4e2e-a463-d307f314fcea\",\"type\":\"HelpTool\"},{\"attributes\":{\"plot\":{\"id\":\"69eea12c-bc96-4d6b-85d6-28719fae12c1\",\"subtype\":\"Figure\",\"type\":\"Plot\"}},\"id\":\"e0c5309b-e0c9-4063-88f4-7be398596859\",\"type\":\"SaveTool\"},{\"attributes\":{\"callback\":null,\"column_names\":[\"y\",\"x\"],\"data\":{\"x\":[1,2,3,4,5,6,7,8,9,10,11,12,13,14,15,16,17,18,19,20,21,22,23,24,25,26,27,28,29,30,31,32,33,34,35,36,37,38,39,40,41,42,43,44,45,46,47,48,49,50,51,52,53,54,55,56,57,58,59,60,61,62,63,64,65,66,67,68,69,70,71,72,73,74,75,76,77,78,79,80,81,82,83,84,85,86,87,88,89,90,91,92,93,94,95,96,97,98,99,100,101,102,103,104,105,106,107,108,109,110,111,112,113,114,115,116,117,118,119,120,121,122,123,124,125,126,127,128,129,130,131,132,133,134,135,136,137,138,139,140,141,142,143,144,145,146,147,148,149,150,151,152,153,154,155,156,157,158,159,160,161,162,163,164,165,166,167,168,169,170,171,172,173,174,175,176,177,178,179,180,181,182,183,184,185,186,187,188,189,190,191,192,193,194,195,196,197,198,199,200,201,202,203,204,205,206,207,208,209,210,211,212,213,214,215,216,217,218,219,220,221,222,223,224,225,226,227,228,229,230,231,232,233,234,235,236,237,238,239,240,241,242,243,244,245,246,247,248,249,250,251,252,253,254,255,256,257,258,259,260,261,262,263,264,265,266,267,268,269,270,271,272,273,274,275,276,277,278,279,280,281,282,283,284,285,286,287,288,289,290,291,292,293,294,295,296,297,298,299,300,301,302,303,304,305,306,307,308,309,310],\"y\":[-0.5593557857196174,0.45826425963292644,1.0728537510600504,0.13344489167454446,1.6307672724977753,-1.0783692337417863,0.3014191997151818,-0.45038302109363226,-0.6479977744749063,0.5667599754947986,-0.5308507687253755,0.2023587585757277,1.5274592945864225,0.7552922149420334,-0.5879543271810146,0.5835191785470296,1.6761911855289782,0.6693319413023452,-1.1108352610967955,0.7441898845760516,0.7119875972572309,-0.6326186795941448,0.3702088861920672,0.8178496618438942,-0.4619905390858971,-0.0774850263654094,-0.20027389245581445,-0.5064866212339854,1.6395771542622557,-0.5045665173852469,1.3627100801886507,-1.192916745508272,-0.7843886466293053,1.820042511383865,-1.4899349306494445,1.9148007339400437,0.33822330227020747,-0.8283074641517137,1.730623664213624,0.7486227232107171,-1.03078711394509,1.5590186809233701,0.2617562933913419,-1.6171993035660661,-1.2199292051428388,-1.273865952486416,-3.217429014058468e-05,-0.8113791803426362,-0.8931223152510216,-1.9773701126301935,0.03682705329735036,-1.7092429879605677,-1.2122908618726036,-0.1900545610717816,-0.9873473575910627,-0.06419469901134366,0.681688912892889,0.4199276866556029,-0.16586808878780596,-0.0778686076139888,0.4645772643355112,0.18267103112229335,1.7568308970233761,1.0252617719534276,0.6495034619231135,-1.089939263910947,1.9549955151948106,0.9661361324265306,-0.1045113295352643,-1.2532292898536572,1.416401745804055,1.9332384782564958,0.3775295166762874,0.7271011141739373,0.9617251490593927,-0.018089422735386853,-0.906524442717676,-0.5508993757835332,-0.8335418831022947,-0.6747442358645847,-1.2462757989466302,-0.8561076054536154,-1.0847301258083486,-0.08775387505624949,-0.03369390742423878,-1.29804797394828,-0.7060485529445816,1.3300588389521235,0.6543170854777068,-0.2910194248246284,-1.0829737065132246,0.1947604979204341,1.2264611834026895,-0.4490877599005275,-2.116518230088394,0.2558364258736238,-0.59726226911125,0.45766797014710797,0.42890713367632627,-0.613180755769442,-1.3047050978509394,1.0355688265060472,-0.15752489650897492,-0.28240776941061463,1.0042514074890023,-0.9338894270931325,-0.9540464025978825,0.27206956485899264,-1.1658698913046974,-0.07059568509204188,0.5238135812288869,0.9958340687687004,-0.17292858350282733,-0.6472646755085751,0.7295833957734787,-0.009200732719641988,0.8091232130678455,0.46678329332772817,-0.46281959971375825,0.5632567049272312,-1.5177183163030121,0.5055790598147929,0.5170245187281052,0.03731646437355048,0.4082768311490421,-0.32182297547935634,-0.36200208798758027,-1.6988467381352441,-0.4900737921175421,-1.0504198981815085,-1.3509046289296769,-0.6495989414287456,1.6592752174864978,-0.41843315653840624,-0.33154290218178933,-0.09844120227938796,-0.5718083909493848,0.4130668883810399,1.2382636552622537,-0.30866353905691174,-0.43321649029926684,0.42912970860562033,0.10740260516779036,-0.6458912663500939,0.15345596534966777,0.026232496909690716,0.3415147904883806,0.3215154066777642,1.3328101267551526,1.169042508069274,-0.2222731134496954,1.1122188181425199,-0.2255107993834777,2.349859836536668,-0.5416806404801375,-0.6227982374676543,-1.2095078106757897,-0.09026775016808213,-0.5862106117802479,-0.5249515154372394,-0.1322094825973009,-0.5637603181966827,0.20360408527679866,-0.0271319249121935,0.7740478729409493,1.5970874290893637,-0.23893597326346103,0.2564696629406996,0.10864402002686846,-0.8127395720687662,0.4513117081662379,-1.062012850215688,0.3329152864063604,-0.5378008707427058,-1.350493822954869,-0.05287878156060066,-0.537237862816035,-0.02304661964460233,-2.0842930665020116,-1.8174478522579622,0.6513856652432758,0.8177864597084662,0.7063115388484534,-1.941087237013427,-0.6728421274433952,-0.023210573539615136,0.5226945018810673,1.3628087756528124,0.47616224988552214,-0.47878141881619996,-1.2135825703205445,0.0835787675980715,-0.9102234134743936,1.1730512956530164,1.5048553576469594,-0.5065476536070771,-0.4058791200494687,1.2006199389570533,-0.4396882857701717,0.1806820606489526,0.5248834057120423,0.6325102693328998,-0.11165895134396334,0.5289682737869367,-0.9255517487090886,0.04679254892169842,-0.2904444503075216,1.0289335952282537,0.896684878523708,-0.01598416062344018,-1.404249057185323,-1.3454173637377065,-0.19700769501793253,0.7960451539050972,0.9937552655310632,1.3525993153984477,0.7026652284106476,-2.1363853046192864,-1.40594934108206,0.8108637361958498,-0.7481071424490011,0.7924938966085269,1.8733961991990749,2.168740934432642,-1.1676203912138274,-1.2504279801614142,0.06134045493740792,-0.4310519419050655,-0.16441926421794112,1.6200090044898445,2.9643572930115374,-0.4155497623659226,0.815586631962239,0.3354842131111821,2.0428870857141272,0.838632669947956,-0.7861928061761534,0.24249653933868248,0.008510512179503405,2.160458104694655,0.32407229003975013,-0.09665850631895838,1.6984012456674844,1.9106633789472707,-0.5214200692039771,-0.5346326960945039,2.556910931621235,2.746204364233639,-0.1620278485681722,0.05894009288801409,2.289498168235369,1.8959294852942097,-0.9250384297057949,-0.03921039907031855,0.5881375202211909,-0.09062906827794663,-2.2018333518561968,0.7896038908498222,-1.055976546773977,0.6344559903959073,0.04615302535989976,-0.8776369021619761,-2.195191693321696,0.7030298873051835,-0.29540633111250986,1.1404651815044282,0.2329948644807134,-1.8161333517422513,1.4833601964828595,1.162697516239555,0.9463314595115397,0.2823049163597912,0.5217584226634583,0.18419336446420556,-1.3224080184667173,-0.19054150531147154,0.24932810443709305,-1.5089773226273397,-0.4106975971769562,1.1140977740952709,0.09939705900076766,0.13972866190223243,0.2105544793301854,0.7429452670965979,-1.0689254205344378,-0.03327386048168652,1.7187130540480642,-0.35415233728946194,0.004020372486812518,0.28719279070685977,-0.3901605463540795,-0.20774340882300724,0.6859726374175498,1.0143213124498633,-0.8111193600566391,0.005108320466337761,0.5843878056355709,0.7153548556897827,0.16432270743427158,0.02430647030016712,1.6375534450136424,-1.7815860863742876,-0.6515683299739038,-0.3522106532904918,0.37248175452895194,0.5857221262783956,1.357080486594674,-0.7869159028569604,-1.1876583497429618,-0.2765030196340249]}},\"id\":\"44b21b1f-ba05-4fff-8214-a3541dccf5c1\",\"type\":\"ColumnDataSource\"},{\"attributes\":{\"plot\":{\"id\":\"69eea12c-bc96-4d6b-85d6-28719fae12c1\",\"subtype\":\"Figure\",\"type\":\"Plot\"}},\"id\":\"a96ec76d-88a5-4417-9b9a-e3b8b6fcfa37\",\"type\":\"PanTool\"},{\"attributes\":{\"plot\":{\"id\":\"69eea12c-bc96-4d6b-85d6-28719fae12c1\",\"subtype\":\"Figure\",\"type\":\"Plot\"}},\"id\":\"e542e4fd-554d-401b-b090-3f3df2a23637\",\"type\":\"WheelZoomTool\"},{\"attributes\":{\"data_source\":{\"id\":\"44b21b1f-ba05-4fff-8214-a3541dccf5c1\",\"type\":\"ColumnDataSource\"},\"glyph\":{\"id\":\"899310a3-d561-4400-bbfe-135a7f7e7de3\",\"type\":\"Line\"},\"hover_glyph\":null,\"nonselection_glyph\":{\"id\":\"4d63c1c9-f504-4845-9f45-fd7a015a849a\",\"type\":\"Line\"},\"selection_glyph\":null},\"id\":\"eb210b71-b68e-4ad6-80af-76947159c2c4\",\"type\":\"GlyphRenderer\"},{\"attributes\":{\"plot\":null,\"text\":\"Voxel time-series Run 1 for voxel number = 200\"},\"id\":\"71b7f62f-e906-4303-add6-eadb6892fe00\",\"type\":\"Title\"},{\"attributes\":{\"bottom_units\":\"screen\",\"fill_alpha\":{\"value\":0.5},\"fill_color\":{\"value\":\"lightgrey\"},\"left_units\":\"screen\",\"level\":\"overlay\",\"line_alpha\":{\"value\":1.0},\"line_color\":{\"value\":\"black\"},\"line_dash\":[4,4],\"line_width\":{\"value\":2},\"plot\":null,\"render_mode\":\"css\",\"right_units\":\"screen\",\"top_units\":\"screen\"},\"id\":\"1972162c-f07a-4d22-a325-77616be5543d\",\"type\":\"BoxAnnotation\"},{\"attributes\":{},\"id\":\"f4905ff1-08fd-4782-9f27-f2fa75f9f524\",\"type\":\"BasicTickFormatter\"},{\"attributes\":{\"axis_label\":\"Voxel Intensity\",\"formatter\":{\"id\":\"f4905ff1-08fd-4782-9f27-f2fa75f9f524\",\"type\":\"BasicTickFormatter\"},\"plot\":{\"id\":\"69eea12c-bc96-4d6b-85d6-28719fae12c1\",\"subtype\":\"Figure\",\"type\":\"Plot\"},\"ticker\":{\"id\":\"2dec77e2-abaa-4717-95b5-4e3e464a3fe8\",\"type\":\"BasicTicker\"}},\"id\":\"c1491905-e55e-443b-b32c-248d56b9e892\",\"type\":\"LinearAxis\"},{\"attributes\":{\"active_drag\":\"auto\",\"active_scroll\":\"auto\",\"active_tap\":\"auto\",\"tools\":[{\"id\":\"a96ec76d-88a5-4417-9b9a-e3b8b6fcfa37\",\"type\":\"PanTool\"},{\"id\":\"e542e4fd-554d-401b-b090-3f3df2a23637\",\"type\":\"WheelZoomTool\"},{\"id\":\"41e3ed28-202f-4cfa-8124-70b828ace6ec\",\"type\":\"BoxZoomTool\"},{\"id\":\"e0c5309b-e0c9-4063-88f4-7be398596859\",\"type\":\"SaveTool\"},{\"id\":\"eeb61eb8-c796-4fa6-8931-a11626679427\",\"type\":\"ResetTool\"},{\"id\":\"a43e952f-64b0-4e2e-a463-d307f314fcea\",\"type\":\"HelpTool\"}]},\"id\":\"45e443a3-c5a4-44a4-bdbd-1c75d4faf146\",\"type\":\"Toolbar\"},{\"attributes\":{\"callback\":null},\"id\":\"9a792f6c-ad05-42c3-91d5-149954adb990\",\"type\":\"DataRange1d\"},{\"attributes\":{\"axis_label\":\"TR\",\"formatter\":{\"id\":\"c6e25601-4273-438e-b46c-49838068e407\",\"type\":\"BasicTickFormatter\"},\"plot\":{\"id\":\"69eea12c-bc96-4d6b-85d6-28719fae12c1\",\"subtype\":\"Figure\",\"type\":\"Plot\"},\"ticker\":{\"id\":\"4efb3a4c-962e-44f0-835b-38bd9cbd4dbc\",\"type\":\"BasicTicker\"}},\"id\":\"8eddbe41-656d-4b91-9521-ce10749ca3b7\",\"type\":\"LinearAxis\"},{\"attributes\":{},\"id\":\"4efb3a4c-962e-44f0-835b-38bd9cbd4dbc\",\"type\":\"BasicTicker\"},{\"attributes\":{\"below\":[{\"id\":\"8eddbe41-656d-4b91-9521-ce10749ca3b7\",\"type\":\"LinearAxis\"}],\"left\":[{\"id\":\"c1491905-e55e-443b-b32c-248d56b9e892\",\"type\":\"LinearAxis\"}],\"renderers\":[{\"id\":\"8eddbe41-656d-4b91-9521-ce10749ca3b7\",\"type\":\"LinearAxis\"},{\"id\":\"a7bb0acf-c503-41b1-bb50-b70a55884623\",\"type\":\"Grid\"},{\"id\":\"c1491905-e55e-443b-b32c-248d56b9e892\",\"type\":\"LinearAxis\"},{\"id\":\"d25f822f-b10f-4695-91a2-db81ad666326\",\"type\":\"Grid\"},{\"id\":\"1972162c-f07a-4d22-a325-77616be5543d\",\"type\":\"BoxAnnotation\"},{\"id\":\"eb210b71-b68e-4ad6-80af-76947159c2c4\",\"type\":\"GlyphRenderer\"}],\"title\":{\"id\":\"71b7f62f-e906-4303-add6-eadb6892fe00\",\"type\":\"Title\"},\"tool_events\":{\"id\":\"ae047365-a88a-4b6f-9af1-1f9c622a8ad5\",\"type\":\"ToolEvents\"},\"toolbar\":{\"id\":\"45e443a3-c5a4-44a4-bdbd-1c75d4faf146\",\"type\":\"Toolbar\"},\"x_range\":{\"id\":\"1bbac34b-e5f3-4296-a718-869dc7349150\",\"type\":\"DataRange1d\"},\"y_range\":{\"id\":\"9a792f6c-ad05-42c3-91d5-149954adb990\",\"type\":\"DataRange1d\"}},\"id\":\"69eea12c-bc96-4d6b-85d6-28719fae12c1\",\"subtype\":\"Figure\",\"type\":\"Plot\"},{\"attributes\":{\"line_color\":{\"value\":\"#1f77b4\"},\"x\":{\"field\":\"x\"},\"y\":{\"field\":\"y\"}},\"id\":\"899310a3-d561-4400-bbfe-135a7f7e7de3\",\"type\":\"Line\"},{\"attributes\":{},\"id\":\"2dec77e2-abaa-4717-95b5-4e3e464a3fe8\",\"type\":\"BasicTicker\"},{\"attributes\":{\"line_alpha\":{\"value\":0.1},\"line_color\":{\"value\":\"#1f77b4\"},\"x\":{\"field\":\"x\"},\"y\":{\"field\":\"y\"}},\"id\":\"4d63c1c9-f504-4845-9f45-fd7a015a849a\",\"type\":\"Line\"},{\"attributes\":{},\"id\":\"c6e25601-4273-438e-b46c-49838068e407\",\"type\":\"BasicTickFormatter\"},{\"attributes\":{\"plot\":{\"id\":\"69eea12c-bc96-4d6b-85d6-28719fae12c1\",\"subtype\":\"Figure\",\"type\":\"Plot\"},\"ticker\":{\"id\":\"4efb3a4c-962e-44f0-835b-38bd9cbd4dbc\",\"type\":\"BasicTicker\"}},\"id\":\"a7bb0acf-c503-41b1-bb50-b70a55884623\",\"type\":\"Grid\"}],\"root_ids\":[\"69eea12c-bc96-4d6b-85d6-28719fae12c1\"]},\"title\":\"Bokeh Application\",\"version\":\"0.12.0\"}};\n",
       "            var render_items = [{\"docid\":\"531e0fcb-c94c-4f58-9d10-a6a64500cdd1\",\"elementid\":\"debaab4d-623b-45e8-8c90-e3c626e1cb45\",\"modelid\":\"69eea12c-bc96-4d6b-85d6-28719fae12c1\",\"notebook_comms_target\":\"afcce3e1-13a8-4e5d-b551-f6c8b3d91bc5\"}];\n",
       "            \n",
       "            Bokeh.embed.embed_items(docs_json, render_items);\n",
       "        });\n",
       "      },\n",
       "      function(Bokeh) {\n",
       "      }\n",
       "    ];\n",
       "  \n",
       "    function run_inline_js() {\n",
       "      for (var i = 0; i < inline_js.length; i++) {\n",
       "        inline_js[i](window.Bokeh);\n",
       "      }\n",
       "    }\n",
       "  \n",
       "    if (window._bokeh_is_loading === 0) {\n",
       "      console.log(\"Bokeh: BokehJS loaded, going straight to plotting\");\n",
       "      run_inline_js();\n",
       "    } else {\n",
       "      load_libs(js_urls, function() {\n",
       "        console.log(\"Bokeh: BokehJS plotting callback run at\", now());\n",
       "        run_inline_js();\n",
       "      });\n",
       "    }\n",
       "  }(this));\n",
       "</script>"
      ]
     },
     "metadata": {},
     "output_type": "display_data"
    },
    {
     "data": {
      "text/html": [
       "<p><code>&lt;Bokeh Notebook handle for <strong>In[17]</strong>&gt;</code></p>"
      ],
      "text/plain": [
       "<bokeh.io._CommsHandle at 0x2aced3414c50>"
      ]
     },
     "execution_count": 17,
     "metadata": {},
     "output_type": "execute_result"
    }
   ],
   "source": [
    "# Insert your code here\n",
    "\n",
    "# Compute the mean of the data\n",
    "# Compute the standard deviation\n",
    "maskedData_z = np.empty(maskedData.shape)\n",
    "voxelMeans = np.mean(maskedData, axis=1)\n",
    "voxelSD = np.std(maskedData, axis=1)\n",
    "\n",
    "#print(voxelMeans.shape) = (2504,)\n",
    "#print(maskedData.shape) = (2504, 310)\n",
    "#print(maskedData_z.shape) = (2504, 310)\n",
    "\n",
    "# Z-score the data\n",
    "\n",
    "for i in range(maskedData.shape[1]):\n",
    "    maskedData_z[:,i] = np.subtract(maskedData[:,i], voxelMeans)\n",
    "    maskedData_z[:,i] = np.divide(maskedData_z[:,i], voxelSD)\n",
    "\n",
    "x_mean = np.mean(maskedData_z, axis=1)\n",
    "x_std = np.std(maskedData_z, axis=1)\n",
    "\n",
    "print(x_mean[0:10])\n",
    "print(x_std[0:10])\n",
    "\n",
    "\n",
    "# Plot the results for the a feature vector at one time-point\n",
    "\n",
    "row_num = 200 # Choose a time-point to plot a feature column\n",
    "p4 = figure(title=\"Scaled Voxel values for time point = %d\" % (row_num))\n",
    "p4.line(x=range(1,5520),y= maskedData_z[row_num,:]) # Plotting the column here instead of rows.\n",
    "p4.xaxis.axis_label = 'Voxel Number'\n",
    "p4.yaxis.axis_label = 'Voxel Intensity (Standardized)'\n",
    "\n",
    "show(p4)\n",
    "\n",
    "# Plot the time-series for one voxel\n",
    "\n",
    "voxel_num = 200\n",
    "p5 = figure(title=\"Voxel time-series Run 1 for voxel number = %d\" % (voxel_num))\n",
    "p5.line(x = range(1, 311),y = maskedData_z[0:310,voxel_num])\n",
    "p5.xaxis.axis_label = 'TR'\n",
    "p5.yaxis.axis_label = 'Voxel Intensity'\n",
    "\n",
    "show(p5)"
   ]
  },
  {
   "cell_type": "markdown",
   "metadata": {},
   "source": [
    "**Novel contribution:** be creative and make one new discovery by adding an analysis, visualization, or optimization.\n",
    "\n",
    "Make a histogram plotting the standard deviation of each (non-z-scored) voxel to see which had the greatest variability in firing over the course of the run."
   ]
  },
  {
   "cell_type": "code",
   "execution_count": 18,
   "metadata": {
    "collapsed": false
   },
   "outputs": [
    {
     "data": {
      "text/html": [
       "\n",
       "\n",
       "    <div class=\"bk-root\">\n",
       "        <div class=\"plotdiv\" id=\"04003a09-712b-4e24-8b86-c9f0fe84dc23\"></div>\n",
       "    </div>\n",
       "<script type=\"text/javascript\">\n",
       "  \n",
       "  (function(global) {\n",
       "    function now() {\n",
       "      return new Date();\n",
       "    }\n",
       "  \n",
       "    if (typeof (window._bokeh_onload_callbacks) === \"undefined\") {\n",
       "      window._bokeh_onload_callbacks = [];\n",
       "    }\n",
       "  \n",
       "    function run_callbacks() {\n",
       "      window._bokeh_onload_callbacks.forEach(function(callback) { callback() });\n",
       "      delete window._bokeh_onload_callbacks\n",
       "      console.info(\"Bokeh: all callbacks have finished\");\n",
       "    }\n",
       "  \n",
       "    function load_libs(js_urls, callback) {\n",
       "      window._bokeh_onload_callbacks.push(callback);\n",
       "      if (window._bokeh_is_loading > 0) {\n",
       "        console.log(\"Bokeh: BokehJS is being loaded, scheduling callback at\", now());\n",
       "        return null;\n",
       "      }\n",
       "      if (js_urls == null || js_urls.length === 0) {\n",
       "        run_callbacks();\n",
       "        return null;\n",
       "      }\n",
       "      console.log(\"Bokeh: BokehJS not loaded, scheduling load and callback at\", now());\n",
       "      window._bokeh_is_loading = js_urls.length;\n",
       "      for (var i = 0; i < js_urls.length; i++) {\n",
       "        var url = js_urls[i];\n",
       "        var s = document.createElement('script');\n",
       "        s.src = url;\n",
       "        s.async = false;\n",
       "        s.onreadystatechange = s.onload = function() {\n",
       "          window._bokeh_is_loading--;\n",
       "          if (window._bokeh_is_loading === 0) {\n",
       "            console.log(\"Bokeh: all BokehJS libraries loaded\");\n",
       "            run_callbacks()\n",
       "          }\n",
       "        };\n",
       "        s.onerror = function() {\n",
       "          console.warn(\"failed to load library \" + url);\n",
       "        };\n",
       "        console.log(\"Bokeh: injecting script tag for BokehJS library: \", url);\n",
       "        document.getElementsByTagName(\"head\")[0].appendChild(s);\n",
       "      }\n",
       "    };var element = document.getElementById(\"04003a09-712b-4e24-8b86-c9f0fe84dc23\");\n",
       "    if (element == null) {\n",
       "      console.log(\"Bokeh: ERROR: autoload.js configured with elementid '04003a09-712b-4e24-8b86-c9f0fe84dc23' but no matching script tag was found. \")\n",
       "      return false;\n",
       "    }\n",
       "  \n",
       "    var js_urls = [];\n",
       "  \n",
       "    var inline_js = [\n",
       "      function(Bokeh) {\n",
       "        Bokeh.$(function() {\n",
       "            var docs_json = {\"51369d66-9d92-48fc-a418-94a58f44affc\":{\"roots\":{\"references\":[{\"attributes\":{\"plot\":{\"id\":\"201d46c3-e568-47d1-a142-1d87c8de48b0\",\"subtype\":\"Figure\",\"type\":\"Plot\"}},\"id\":\"b92edd1e-0f81-45b2-b3bb-7c7c49b90f2b\",\"type\":\"PanTool\"},{\"attributes\":{\"overlay\":{\"id\":\"b11bddbe-4b07-4797-9c51-862642d15552\",\"type\":\"BoxAnnotation\"},\"plot\":{\"id\":\"201d46c3-e568-47d1-a142-1d87c8de48b0\",\"subtype\":\"Figure\",\"type\":\"Plot\"}},\"id\":\"acaf97de-340f-4e30-afa1-10e25226946e\",\"type\":\"BoxZoomTool\"},{\"attributes\":{\"callback\":null},\"id\":\"19bff725-af7d-47ce-ac5b-49820259489f\",\"type\":\"DataRange1d\"},{\"attributes\":{\"plot\":{\"id\":\"201d46c3-e568-47d1-a142-1d87c8de48b0\",\"subtype\":\"Figure\",\"type\":\"Plot\"},\"ticker\":{\"id\":\"7f44f4a1-fb56-4fd2-b5c0-1be1f8e14e60\",\"type\":\"BasicTicker\"}},\"id\":\"55f5a0b4-2769-4ca4-8981-619cd1d6aa0e\",\"type\":\"Grid\"},{\"attributes\":{},\"id\":\"2ad2fecb-84a0-4d8e-a16a-3cde2f9b2e14\",\"type\":\"BasicTicker\"},{\"attributes\":{\"bottom_units\":\"screen\",\"fill_alpha\":{\"value\":0.5},\"fill_color\":{\"value\":\"lightgrey\"},\"left_units\":\"screen\",\"level\":\"overlay\",\"line_alpha\":{\"value\":1.0},\"line_color\":{\"value\":\"black\"},\"line_dash\":[4,4],\"line_width\":{\"value\":2},\"plot\":null,\"render_mode\":\"css\",\"right_units\":\"screen\",\"top_units\":\"screen\"},\"id\":\"b11bddbe-4b07-4797-9c51-862642d15552\",\"type\":\"BoxAnnotation\"},{\"attributes\":{\"data_source\":{\"id\":\"38c2a1ea-735d-4665-b18d-5de7caba8c99\",\"type\":\"ColumnDataSource\"},\"glyph\":{\"id\":\"7f60ed0d-dd81-4449-a7d8-d2308d4390e1\",\"type\":\"Quad\"},\"hover_glyph\":null,\"nonselection_glyph\":{\"id\":\"cca85dbc-be17-45eb-88c1-f5218cee67f4\",\"type\":\"Quad\"},\"selection_glyph\":null},\"id\":\"8a798ea4-e2d7-4125-80f4-9c981604b6a1\",\"type\":\"GlyphRenderer\"},{\"attributes\":{\"formatter\":{\"id\":\"86473fb3-c7d2-4edb-83c3-0adc3d7134c0\",\"type\":\"BasicTickFormatter\"},\"plot\":{\"id\":\"201d46c3-e568-47d1-a142-1d87c8de48b0\",\"subtype\":\"Figure\",\"type\":\"Plot\"},\"ticker\":{\"id\":\"7f44f4a1-fb56-4fd2-b5c0-1be1f8e14e60\",\"type\":\"BasicTicker\"}},\"id\":\"a7fe1198-8914-4a0f-a5ac-f76013fb5e2c\",\"type\":\"LinearAxis\"},{\"attributes\":{},\"id\":\"7f44f4a1-fb56-4fd2-b5c0-1be1f8e14e60\",\"type\":\"BasicTicker\"},{\"attributes\":{\"plot\":{\"id\":\"201d46c3-e568-47d1-a142-1d87c8de48b0\",\"subtype\":\"Figure\",\"type\":\"Plot\"}},\"id\":\"5d8621be-1a79-4061-b616-eb12c78e9bc0\",\"type\":\"ResetTool\"},{\"attributes\":{\"below\":[{\"id\":\"a7fe1198-8914-4a0f-a5ac-f76013fb5e2c\",\"type\":\"LinearAxis\"}],\"left\":[{\"id\":\"bb8690b1-280f-4e4b-adfd-3bee19e4a473\",\"type\":\"LinearAxis\"}],\"renderers\":[{\"id\":\"a7fe1198-8914-4a0f-a5ac-f76013fb5e2c\",\"type\":\"LinearAxis\"},{\"id\":\"55f5a0b4-2769-4ca4-8981-619cd1d6aa0e\",\"type\":\"Grid\"},{\"id\":\"bb8690b1-280f-4e4b-adfd-3bee19e4a473\",\"type\":\"LinearAxis\"},{\"id\":\"c2250311-94e3-49d1-988c-e827566c35ab\",\"type\":\"Grid\"},{\"id\":\"b11bddbe-4b07-4797-9c51-862642d15552\",\"type\":\"BoxAnnotation\"},{\"id\":\"8a798ea4-e2d7-4125-80f4-9c981604b6a1\",\"type\":\"GlyphRenderer\"}],\"title\":{\"id\":\"a34ec314-cd1e-490f-b70d-3cccd1b4175e\",\"type\":\"Title\"},\"tool_events\":{\"id\":\"400c9ab1-49ac-490f-9511-f8d28445ff1a\",\"type\":\"ToolEvents\"},\"toolbar\":{\"id\":\"b610a6ea-c22a-46e1-8e11-f18be4a54083\",\"type\":\"Toolbar\"},\"x_range\":{\"id\":\"19bff725-af7d-47ce-ac5b-49820259489f\",\"type\":\"DataRange1d\"},\"y_range\":{\"id\":\"b1212c38-f5ca-4209-9db0-db42adbfb26e\",\"type\":\"DataRange1d\"}},\"id\":\"201d46c3-e568-47d1-a142-1d87c8de48b0\",\"subtype\":\"Figure\",\"type\":\"Plot\"},{\"attributes\":{\"plot\":{\"id\":\"201d46c3-e568-47d1-a142-1d87c8de48b0\",\"subtype\":\"Figure\",\"type\":\"Plot\"}},\"id\":\"e678072b-e343-46c5-b49b-7eed2efdbd7a\",\"type\":\"SaveTool\"},{\"attributes\":{\"active_drag\":\"auto\",\"active_scroll\":\"auto\",\"active_tap\":\"auto\",\"tools\":[{\"id\":\"b92edd1e-0f81-45b2-b3bb-7c7c49b90f2b\",\"type\":\"PanTool\"},{\"id\":\"36255520-5389-483f-9277-b7d9debdd4c7\",\"type\":\"WheelZoomTool\"},{\"id\":\"acaf97de-340f-4e30-afa1-10e25226946e\",\"type\":\"BoxZoomTool\"},{\"id\":\"e678072b-e343-46c5-b49b-7eed2efdbd7a\",\"type\":\"SaveTool\"},{\"id\":\"5d8621be-1a79-4061-b616-eb12c78e9bc0\",\"type\":\"ResetTool\"},{\"id\":\"b7042a5c-458c-47fe-a02c-c1c475aa6495\",\"type\":\"HelpTool\"}]},\"id\":\"b610a6ea-c22a-46e1-8e11-f18be4a54083\",\"type\":\"Toolbar\"},{\"attributes\":{\"plot\":{\"id\":\"201d46c3-e568-47d1-a142-1d87c8de48b0\",\"subtype\":\"Figure\",\"type\":\"Plot\"}},\"id\":\"b7042a5c-458c-47fe-a02c-c1c475aa6495\",\"type\":\"HelpTool\"},{\"attributes\":{\"dimension\":1,\"plot\":{\"id\":\"201d46c3-e568-47d1-a142-1d87c8de48b0\",\"subtype\":\"Figure\",\"type\":\"Plot\"},\"ticker\":{\"id\":\"2ad2fecb-84a0-4d8e-a16a-3cde2f9b2e14\",\"type\":\"BasicTicker\"}},\"id\":\"c2250311-94e3-49d1-988c-e827566c35ab\",\"type\":\"Grid\"},{\"attributes\":{\"plot\":null,\"text\":\"Standard Deviation of Voxels in PPA\"},\"id\":\"a34ec314-cd1e-490f-b70d-3cccd1b4175e\",\"type\":\"Title\"},{\"attributes\":{\"formatter\":{\"id\":\"da1c7cca-599a-496e-be24-c6ec8395785f\",\"type\":\"BasicTickFormatter\"},\"plot\":{\"id\":\"201d46c3-e568-47d1-a142-1d87c8de48b0\",\"subtype\":\"Figure\",\"type\":\"Plot\"},\"ticker\":{\"id\":\"2ad2fecb-84a0-4d8e-a16a-3cde2f9b2e14\",\"type\":\"BasicTicker\"}},\"id\":\"bb8690b1-280f-4e4b-adfd-3bee19e4a473\",\"type\":\"LinearAxis\"},{\"attributes\":{},\"id\":\"400c9ab1-49ac-490f-9511-f8d28445ff1a\",\"type\":\"ToolEvents\"},{\"attributes\":{},\"id\":\"da1c7cca-599a-496e-be24-c6ec8395785f\",\"type\":\"BasicTickFormatter\"},{\"attributes\":{\"callback\":null,\"column_names\":[\"right\",\"top\",\"left\"],\"data\":{\"left\":[143.0006866455078,154.60825157165527,166.21581649780273,177.8233814239502,189.43094635009766,201.03851127624512,212.64607620239258,224.25364112854004,235.8612060546875,247.46877098083496,259.0763359069824,270.6839008331299,282.29146575927734,293.8990306854248,305.50659561157227,317.1141605377197,328.7217254638672,340.32929039001465,351.9368553161621,363.54442024230957,375.15198516845703,386.7595500946045,398.36711502075195,409.9746799468994,421.5822448730469,433.18980979919434,444.7973747253418,456.40493965148926,468.0125045776367,479.6200695037842,491.22763442993164,502.8351993560791,514.4427642822266,526.050329208374,537.6578941345215,549.265459060669,560.8730239868164,572.4805889129639,584.0881538391113,595.6957187652588],\"right\":[154.60825157165527,166.21581649780273,177.8233814239502,189.43094635009766,201.03851127624512,212.64607620239258,224.25364112854004,235.8612060546875,247.46877098083496,259.0763359069824,270.6839008331299,282.29146575927734,293.8990306854248,305.50659561157227,317.1141605377197,328.7217254638672,340.32929039001465,351.9368553161621,363.54442024230957,375.15198516845703,386.7595500946045,398.36711502075195,409.9746799468994,421.5822448730469,433.18980979919434,444.7973747253418,456.40493965148926,468.0125045776367,479.6200695037842,491.22763442993164,502.8351993560791,514.4427642822266,526.050329208374,537.6578941345215,549.265459060669,560.8730239868164,572.4805889129639,584.0881538391113,595.6957187652588,607.3032836914062],\"top\":[17,83,136,209,280,320,287,243,245,197,139,104,74,48,40,24,21,14,7,1,4,2,3,3,0,0,0,0,1,0,1,0,0,0,0,0,0,0,0,1]}},\"id\":\"38c2a1ea-735d-4665-b18d-5de7caba8c99\",\"type\":\"ColumnDataSource\"},{\"attributes\":{\"bottom\":{\"value\":0},\"fill_color\":{\"value\":\"#1f77b4\"},\"left\":{\"field\":\"left\"},\"line_color\":{\"value\":\"#1f77b4\"},\"right\":{\"field\":\"right\"},\"top\":{\"field\":\"top\"}},\"id\":\"7f60ed0d-dd81-4449-a7d8-d2308d4390e1\",\"type\":\"Quad\"},{\"attributes\":{\"callback\":null},\"id\":\"b1212c38-f5ca-4209-9db0-db42adbfb26e\",\"type\":\"DataRange1d\"},{\"attributes\":{\"bottom\":{\"value\":0},\"fill_alpha\":{\"value\":0.1},\"fill_color\":{\"value\":\"#1f77b4\"},\"left\":{\"field\":\"left\"},\"line_alpha\":{\"value\":0.1},\"line_color\":{\"value\":\"#1f77b4\"},\"right\":{\"field\":\"right\"},\"top\":{\"field\":\"top\"}},\"id\":\"cca85dbc-be17-45eb-88c1-f5218cee67f4\",\"type\":\"Quad\"},{\"attributes\":{},\"id\":\"86473fb3-c7d2-4edb-83c3-0adc3d7134c0\",\"type\":\"BasicTickFormatter\"},{\"attributes\":{\"plot\":{\"id\":\"201d46c3-e568-47d1-a142-1d87c8de48b0\",\"subtype\":\"Figure\",\"type\":\"Plot\"}},\"id\":\"36255520-5389-483f-9277-b7d9debdd4c7\",\"type\":\"WheelZoomTool\"}],\"root_ids\":[\"201d46c3-e568-47d1-a142-1d87c8de48b0\"]},\"title\":\"Bokeh Application\",\"version\":\"0.12.0\"}};\n",
       "            var render_items = [{\"docid\":\"51369d66-9d92-48fc-a418-94a58f44affc\",\"elementid\":\"04003a09-712b-4e24-8b86-c9f0fe84dc23\",\"modelid\":\"201d46c3-e568-47d1-a142-1d87c8de48b0\",\"notebook_comms_target\":\"dbe23113-2861-4891-a5ee-028c52e7f787\"}];\n",
       "            \n",
       "            Bokeh.embed.embed_items(docs_json, render_items);\n",
       "        });\n",
       "      },\n",
       "      function(Bokeh) {\n",
       "      }\n",
       "    ];\n",
       "  \n",
       "    function run_inline_js() {\n",
       "      for (var i = 0; i < inline_js.length; i++) {\n",
       "        inline_js[i](window.Bokeh);\n",
       "      }\n",
       "    }\n",
       "  \n",
       "    if (window._bokeh_is_loading === 0) {\n",
       "      console.log(\"Bokeh: BokehJS loaded, going straight to plotting\");\n",
       "      run_inline_js();\n",
       "    } else {\n",
       "      load_libs(js_urls, function() {\n",
       "        console.log(\"Bokeh: BokehJS plotting callback run at\", now());\n",
       "        run_inline_js();\n",
       "      });\n",
       "    }\n",
       "  }(this));\n",
       "</script>"
      ]
     },
     "metadata": {},
     "output_type": "display_data"
    },
    {
     "data": {
      "text/html": [
       "<p><code>&lt;Bokeh Notebook handle for <strong>In[18]</strong>&gt;</code></p>"
      ],
      "text/plain": [
       "<bokeh.io._CommsHandle at 0x2aced339fc50>"
      ]
     },
     "execution_count": 18,
     "metadata": {},
     "output_type": "execute_result"
    }
   ],
   "source": [
    "voxelSD = np.std(maskedData, axis=1)\n",
    "hist = figure(title=\"Standard Deviation of Voxels in PPA\")\n",
    "dat, edges = np.histogram(voxelSD, bins=40)\n",
    "hist.quad(top=dat, bottom = 0, \n",
    "         left = edges[:-1], right=edges[1:])\n",
    "show(hist)\n"
   ]
  }
 ],
 "metadata": {
  "anaconda-cloud": {},
  "celltoolbar": "Edit Metadata",
  "kernelspec": {
   "display_name": "Python [Root]",
   "language": "python",
   "name": "Python [Root]"
  },
  "language_info": {
   "codemirror_mode": {
    "name": "ipython",
    "version": 3
   },
   "file_extension": ".py",
   "mimetype": "text/x-python",
   "name": "python",
   "nbconvert_exporter": "python",
   "pygments_lexer": "ipython3",
   "version": "3.5.2"
  }
 },
 "nbformat": 4,
 "nbformat_minor": 2
}
